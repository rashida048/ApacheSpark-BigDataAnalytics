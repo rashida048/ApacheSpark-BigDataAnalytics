{
  "nbformat": 4,
  "nbformat_minor": 0,
  "metadata": {
    "colab": {
      "name": "feature_select_ml_pyspark.ipynb",
      "provenance": [],
      "authorship_tag": "ABX9TyPA3f/aH/C4fgi6tG2owUjB",
      "include_colab_link": true
    },
    "kernelspec": {
      "name": "python3",
      "display_name": "Python 3"
    },
    "language_info": {
      "name": "python"
    }
  },
  "cells": [
    {
      "cell_type": "markdown",
      "metadata": {
        "id": "view-in-github",
        "colab_type": "text"
      },
      "source": [
        "<a href=\"https://colab.research.google.com/github/rashida048/ApacheSpark-BigDataAnalytics/blob/main/feature_select_ml_pyspark.ipynb\" target=\"_parent\"><img src=\"https://colab.research.google.com/assets/colab-badge.svg\" alt=\"Open In Colab\"/></a>"
      ]
    },
    {
      "cell_type": "code",
      "metadata": {
        "colab": {
          "base_uri": "https://localhost:8080/"
        },
        "id": "9npVz4PszzQ0",
        "outputId": "027d9bbb-64a7-4ef2-c594-7b792a43a181"
      },
      "source": [
        "!pip install pyspark"
      ],
      "execution_count": 1,
      "outputs": [
        {
          "output_type": "stream",
          "name": "stdout",
          "text": [
            "Collecting pyspark\n",
            "  Downloading pyspark-3.1.2.tar.gz (212.4 MB)\n",
            "\u001b[K     |████████████████████████████████| 212.4 MB 64 kB/s \n",
            "\u001b[?25hCollecting py4j==0.10.9\n",
            "  Downloading py4j-0.10.9-py2.py3-none-any.whl (198 kB)\n",
            "\u001b[K     |████████████████████████████████| 198 kB 38.4 MB/s \n",
            "\u001b[?25hBuilding wheels for collected packages: pyspark\n",
            "  Building wheel for pyspark (setup.py) ... \u001b[?25l\u001b[?25hdone\n",
            "  Created wheel for pyspark: filename=pyspark-3.1.2-py2.py3-none-any.whl size=212880768 sha256=ad9942c0b6783219b052df3bc9ed34d50d3ca2d37569af6fa18b29e9ca6fe858\n",
            "  Stored in directory: /root/.cache/pip/wheels/a5/0a/c1/9561f6fecb759579a7d863dcd846daaa95f598744e71b02c77\n",
            "Successfully built pyspark\n",
            "Installing collected packages: py4j, pyspark\n",
            "Successfully installed py4j-0.10.9 pyspark-3.1.2\n"
          ]
        }
      ]
    },
    {
      "cell_type": "code",
      "metadata": {
        "id": "xpV7xK6f0Csa"
      },
      "source": [
        "from pyspark import SparkContext\n",
        "sc = SparkContext.getOrCreate()"
      ],
      "execution_count": 2,
      "outputs": []
    },
    {
      "cell_type": "code",
      "metadata": {
        "id": "AaplDMR32Qkm"
      },
      "source": [
        "from pyspark.sql.session import SparkSession\n",
        "spark = SparkSession.builder.getOrCreate()"
      ],
      "execution_count": 3,
      "outputs": []
    },
    {
      "cell_type": "code",
      "metadata": {
        "id": "TTPw7RVV2SSv"
      },
      "source": [
        "import re\n",
        "import numpy as np"
      ],
      "execution_count": 4,
      "outputs": []
    },
    {
      "cell_type": "code",
      "metadata": {
        "id": "rVGjP0ps2TpZ"
      },
      "source": [
        "def buildArray(listOfIndices):\n",
        "  returnVal = np.zeros(20000)\n",
        "\n",
        "  for index in listOfIndices:\n",
        "    returnVal[index] = returnVal[index] + 1\n",
        "\n",
        "  mysum = np.sum(returnVal)\n",
        "\n",
        "  returnVal = np.divide(returnVal, mysum)\n",
        "  return returnVal"
      ],
      "execution_count": 5,
      "outputs": []
    },
    {
      "cell_type": "code",
      "metadata": {
        "id": "u1onuGGM2VbK"
      },
      "source": [
        "def changeBinary(x):\n",
        "  if \"AU\" in x:\n",
        "    return 1\n",
        "  else:\n",
        "    return 0"
      ],
      "execution_count": 6,
      "outputs": []
    },
    {
      "cell_type": "code",
      "metadata": {
        "id": "PevEwW8Q2YZw"
      },
      "source": [
        "def conversion(rd):\n",
        "  validLines = rd.filter(lambda x: 'id' in x and 'url=' in x)\n",
        "  keyAndText = validLines.map(lambda x : (x[x.index('id=\"') + 4 : x.index('\" url=')], x[x.index('\">') + 2:][:-6]))\n",
        "  regex = re.compile('[^a-zA-Z]')\n",
        "  keyAndListOfWords = keyAndText.map(lambda x : (str(x[0]), regex.sub(' ', x[1]).lower().split()))\n",
        "  allWords = keyAndListOfWords.flatMap(lambda x: [(y, 1) for y in x[1]])\n",
        "  allCounts = allWords.reduceByKey(lambda x, y: x+y)\n",
        "  topWords = allCounts.top(20000, lambda x: x[1])\n",
        "  topWordsK = sc.parallelize(range(20000))\n",
        "  dictionary = topWordsK.map (lambda x : (topWords[x][0], x))\n",
        "  allWordsWithDocID = keyAndListOfWords.flatMap(lambda x: ((j, x[0]) for j in x[1]))\n",
        "  allDictionaryWords = allWordsWithDocID.join(dictionary)\n",
        "  justDocAndPos = allDictionaryWords.map(lambda x: x[1])\n",
        "  allDictionaryWordsInEachDoc = justDocAndPos.groupByKey()\n",
        "  allDocsAsNumpyArrays = allDictionaryWordsInEachDoc.map(lambda x: (x[0], buildArray(list(x[1]))))\n",
        "  xy = allDocsAsNumpyArrays.map(lambda x: (changeBinary(x[0]), x[1]))\n",
        "  xy1 = xy.map(lambda x: (x[0], x[1].tolist()))\n",
        "  xy_df = xy1.toDF([\"lab\", \"feat\"])\n",
        "  return (xy, xy_df)"
      ],
      "execution_count": 7,
      "outputs": []
    },
    {
      "cell_type": "code",
      "metadata": {
        "colab": {
          "base_uri": "https://localhost:8080/"
        },
        "id": "ZhqhlqOm2Z7R",
        "outputId": "543ed5ef-91bc-419e-d4c6-5c921efbe31b"
      },
      "source": [
        "import timeit\n",
        "task3_total_strt = timeit.default_timer()\n",
        "strt_total = timeit.default_timer()\n",
        "\n",
        "strt_read = timeit.default_timer()\n",
        "rd = sc.textFile(\"SmallTrainingData.txt\")\n",
        "stp_read = timeit.default_timer()\n",
        "print((stp_read - strt_read)/60, \"minutes to read the training data\")"
      ],
      "execution_count": 8,
      "outputs": [
        {
          "output_type": "stream",
          "name": "stdout",
          "text": [
            "0.017554699366667138 minutes to read the training data\n"
          ]
        }
      ]
    },
    {
      "cell_type": "code",
      "metadata": {
        "id": "Nj3cU1_92cnQ"
      },
      "source": [
        "conv = conversion(rd)"
      ],
      "execution_count": 9,
      "outputs": []
    },
    {
      "cell_type": "code",
      "metadata": {
        "id": "fIvMQVP52eJH"
      },
      "source": [
        "rdd = conv[0]"
      ],
      "execution_count": 10,
      "outputs": []
    },
    {
      "cell_type": "code",
      "metadata": {
        "id": "QEgfFbcv2qEh"
      },
      "source": [
        "import random\n",
        "ran = random.sample(range(0, 20000), 10000)"
      ],
      "execution_count": 11,
      "outputs": []
    },
    {
      "cell_type": "code",
      "metadata": {
        "colab": {
          "base_uri": "https://localhost:8080/"
        },
        "id": "KyViyLUo2rEr",
        "outputId": "fe911cfa-6bb2-4248-fb61-40068596c838"
      },
      "source": [
        "rdd.take(3)"
      ],
      "execution_count": 12,
      "outputs": [
        {
          "output_type": "execute_result",
          "data": {
            "text/plain": [
              "[(1, array([0.11883862, 0.05536799, 0.00675219, ..., 0.        , 0.        ,\n",
              "         0.        ])),\n",
              " (1, array([0.10305958, 0.04508857, 0.01046699, ..., 0.        , 0.        ,\n",
              "         0.        ])),\n",
              " (1, array([0.08316993, 0.04428105, 0.02320261, ..., 0.        , 0.        ,\n",
              "         0.        ]))]"
            ]
          },
          "metadata": {},
          "execution_count": 12
        }
      ]
    },
    {
      "cell_type": "code",
      "metadata": {
        "id": "7TW7ikRK2tGv"
      },
      "source": [
        "reduced_rdd = rdd.map(lambda x: (x[0], (x[1][ran]).tolist()))"
      ],
      "execution_count": 21,
      "outputs": []
    },
    {
      "cell_type": "code",
      "metadata": {
        "id": "wK4QsEyz28un"
      },
      "source": [
        "df = reduced_rdd.toDF(['lab', 'feat'])"
      ],
      "execution_count": 22,
      "outputs": []
    },
    {
      "cell_type": "code",
      "metadata": {
        "id": "vQ2aPJHf2-38"
      },
      "source": [
        "from pyspark.ml.linalg import Vectors, VectorUDT\n",
        "from pyspark.sql.functions import udf"
      ],
      "execution_count": 23,
      "outputs": []
    },
    {
      "cell_type": "code",
      "metadata": {
        "id": "Xniurx6q3fbu"
      },
      "source": [
        "convers = udf(lambda x: Vectors.dense(x), VectorUDT())\n",
        "df1 = df.withColumn(\"features\", convers(\"feat\")).drop(\"feat\")"
      ],
      "execution_count": 24,
      "outputs": []
    },
    {
      "cell_type": "code",
      "metadata": {
        "id": "XY_LTtVj3g-f"
      },
      "source": [
        "from pyspark.ml.classification import LogisticRegression\n",
        "from pyspark.ml.evaluation import MulticlassClassificationEvaluator\n",
        "from pyspark.ml.classification import LinearSVC"
      ],
      "execution_count": 25,
      "outputs": []
    },
    {
      "cell_type": "code",
      "metadata": {
        "colab": {
          "base_uri": "https://localhost:8080/"
        },
        "id": "4lS0ngLA3xwV",
        "outputId": "9581d9bf-697a-4369-87fd-03c06ec401b3"
      },
      "source": [
        "lr_train_strt = timeit.default_timer()\n",
        "lr_red = LogisticRegression(featuresCol=\"features\", labelCol='lab',\n",
        "                        maxIter = 20)\n",
        "lrmodel_new = lr_red.fit(df1)\n",
        "\n",
        "lr_train_stp = timeit.default_timer()\n",
        "print((lr_train_stp-lr_train_strt)/60, \"minutes to train the logistic regression with reduced features\")"
      ],
      "execution_count": 27,
      "outputs": [
        {
          "output_type": "stream",
          "name": "stdout",
          "text": [
            "1.873271036383335 minutes to train the logistic regression with reduced features\n"
          ]
        }
      ]
    },
    {
      "cell_type": "code",
      "metadata": {
        "colab": {
          "base_uri": "https://localhost:8080/"
        },
        "id": "iFaN0ZcA33bu",
        "outputId": "da3ba903-99dd-48d7-91e6-77238a776ad6"
      },
      "source": [
        "strt_read_test = timeit.default_timer()\n",
        "rd1 = sc.textFile(\"SmallTrainingData.txt\")\n",
        "stp_read_test = timeit.default_timer()\n",
        "print((stp_read_test - strt_read_test)/60, \"minutes to read the testing data\")"
      ],
      "execution_count": 28,
      "outputs": [
        {
          "output_type": "stream",
          "name": "stdout",
          "text": [
            "0.0011821181666694732 minutes to read the testing data\n"
          ]
        }
      ]
    },
    {
      "cell_type": "code",
      "metadata": {
        "id": "gd0S2EXT4ZK9"
      },
      "source": [
        "conv1 = conversion(rd1)"
      ],
      "execution_count": 29,
      "outputs": []
    },
    {
      "cell_type": "code",
      "metadata": {
        "id": "rVzL9TXA4sKs"
      },
      "source": [
        "rdd1 = conv1[0]"
      ],
      "execution_count": 32,
      "outputs": []
    },
    {
      "cell_type": "code",
      "metadata": {
        "id": "KN60_eie43EA"
      },
      "source": [
        "reduced_rdd_test = rdd1.map(lambda x: (x[0], (x[1][ran]).tolist()))"
      ],
      "execution_count": 33,
      "outputs": []
    },
    {
      "cell_type": "code",
      "metadata": {
        "id": "6A_heVqP5MQF"
      },
      "source": [
        "df_test = reduced_rdd_test.toDF(['lab', 'feat'])"
      ],
      "execution_count": 34,
      "outputs": []
    },
    {
      "cell_type": "code",
      "metadata": {
        "id": "VK3UurAA5TVp"
      },
      "source": [
        "df1_test = df_test.withColumn(\"features\", convers(\"feat\")).drop(\"feat\")"
      ],
      "execution_count": 35,
      "outputs": []
    },
    {
      "cell_type": "code",
      "metadata": {
        "colab": {
          "base_uri": "https://localhost:8080/"
        },
        "id": "1S3pMs8F5dBe",
        "outputId": "fc67bc50-831c-4503-995b-4435fab2444b"
      },
      "source": [
        "lr_test_strt = timeit.default_timer()\n",
        "lr_selected_pred = lrmodel_new.transform(df1_test)\n",
        "\n",
        "multi_eval = MulticlassClassificationEvaluator(labelCol=\"lab\", metricName = \"accuracy\")\n",
        "print('Logistic Regression Accuracy on Selected Features:', multi_eval.evaluate(lr_selected_pred))\n",
        "\n",
        "multi_eval1 = MulticlassClassificationEvaluator(labelCol=\"lab\", metricName = \"f1\")\n",
        "print('Logistic Regression F1 on Selected Features:', multi_eval1.evaluate(lr_selected_pred))\n",
        "\n",
        "lr_test_stp = timeit.default_timer()\n",
        "\n",
        "lr_test_reduced = (lr_test_stp - lr_test_strt)/60\n",
        "print(lr_test_reduced, \"minutes to test the logistic regression with reduced features\")"
      ],
      "execution_count": 36,
      "outputs": [
        {
          "output_type": "stream",
          "name": "stdout",
          "text": [
            "Logistic Regression Accuracy on Selected Features: 1.0\n",
            "Logistic Regression F1 on Selected Features: 1.0\n",
            "1.8161702978833318 minutes to test the logistic regression with reduced features\n"
          ]
        }
      ]
    },
    {
      "cell_type": "code",
      "metadata": {
        "colab": {
          "base_uri": "https://localhost:8080/"
        },
        "id": "THQFILYc5rSg",
        "outputId": "af6306da-e8fa-4ef1-860e-203a5a067b3e"
      },
      "source": [
        "task3_total_stp = timeit.default_timer()\n",
        "total_logistic = (task3_total_stp - task3_total_strt)/60\n",
        "print(total_logistic, \"minutes total to complete the logistic regression\")"
      ],
      "execution_count": 37,
      "outputs": [
        {
          "output_type": "stream",
          "name": "stdout",
          "text": [
            "17.007684969416665 minutes total to complete the logistic regression\n"
          ]
        }
      ]
    },
    {
      "cell_type": "code",
      "metadata": {
        "colab": {
          "base_uri": "https://localhost:8080/"
        },
        "id": "gtJepBDe6Jtd",
        "outputId": "e1fd926a-990d-439c-9c80-c09b6a2f95e9"
      },
      "source": [
        "svc_train_stp = timeit.default_timer()\n",
        "\n",
        "lsvc = LinearSVC(featuresCol=\"features\", labelCol='lab', maxIter=10, regParam=0.1)\n",
        "lsvcModel = lsvc.fit(df1_test)\n",
        "\n",
        "svc_train_strt = timeit.default_timer()\n",
        "\n",
        "svc_train = (svc_train_strt - svc_train_stp)/60\n",
        "print(svc_train, \"minutes to train the support vector with reduced features\")"
      ],
      "execution_count": 39,
      "outputs": [
        {
          "output_type": "stream",
          "name": "stdout",
          "text": [
            "1.9175520145499982 minutes to train the support vector with reduced features\n"
          ]
        }
      ]
    },
    {
      "cell_type": "code",
      "metadata": {
        "colab": {
          "base_uri": "https://localhost:8080/"
        },
        "id": "9QVEbKY96Q0O",
        "outputId": "e9a0c162-ff8e-4193-ba4a-a3ba44a45ca1"
      },
      "source": [
        "svc_test_stp = timeit.default_timer()\n",
        "\n",
        "svc_select_pred = lsvcModel.transform(df1_test)\n",
        "\n",
        "multi_eval1 = MulticlassClassificationEvaluator(labelCol=\"lab\", metricName = \"accuracy\")\n",
        "print('SVC Accuracy on selected features:', multi_eval1.evaluate(svc_select_pred))\n",
        "\n",
        "multi_eval_f1 = MulticlassClassificationEvaluator(labelCol=\"lab\", metricName = \"f1\")\n",
        "print('SVC F1 on selected features:', multi_eval_f1.evaluate(svc_select_pred))\n",
        "\n",
        "svc_test_strt = timeit.default_timer()\n",
        "svc_test = (svc_test_strt - svc_test_stp)/60\n",
        "print(svc_test, \"minutes to test the support vector with reduced features\")"
      ],
      "execution_count": 40,
      "outputs": [
        {
          "output_type": "stream",
          "name": "stdout",
          "text": [
            "SVC Accuracy on selected features: 1.0\n",
            "SVC F1 on selected features: 1.0\n",
            "1.8208114590833324 minutes to test the support vector with reduced features\n"
          ]
        }
      ]
    },
    {
      "cell_type": "code",
      "metadata": {
        "colab": {
          "base_uri": "https://localhost:8080/"
        },
        "id": "OqZHH1Oc61tc",
        "outputId": "975cbef8-144d-4b05-c41d-30e3f62fba2b"
      },
      "source": [
        "end_time = timeit.default_timer()\n",
        "total_time = (end_time - task3_total_strt)/60\n",
        "\n",
        "print(total_time - (lr_train_stp-lr_train_strt)/60 - lr_test_reduced, \"minutes total to complete SVC with reduced feature\")"
      ],
      "execution_count": 41,
      "outputs": [
        {
          "output_type": "stream",
          "name": "stdout",
          "text": [
            "20.508096048266665 minutes total to complete SVC with reduced feature\n"
          ]
        }
      ]
    },
    {
      "cell_type": "code",
      "metadata": {
        "id": "96QFUdF17zBU"
      },
      "source": [
        ""
      ],
      "execution_count": null,
      "outputs": []
    }
  ]
}