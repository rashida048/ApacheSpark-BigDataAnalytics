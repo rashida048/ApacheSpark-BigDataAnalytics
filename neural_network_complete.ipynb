{
  "nbformat": 4,
  "nbformat_minor": 0,
  "metadata": {
    "colab": {
      "name": "neural_network_complete.ipynb",
      "provenance": [],
      "authorship_tag": "ABX9TyMpsqHyoCaI9Une93kLjc52",
      "include_colab_link": true
    },
    "kernelspec": {
      "name": "python3",
      "display_name": "Python 3"
    },
    "language_info": {
      "name": "python"
    }
  },
  "cells": [
    {
      "cell_type": "markdown",
      "metadata": {
        "id": "view-in-github",
        "colab_type": "text"
      },
      "source": [
        "<a href=\"https://colab.research.google.com/github/rashida048/ApacheSpark-BigDataAnalytics/blob/main/neural_network_complete.ipynb\" target=\"_parent\"><img src=\"https://colab.research.google.com/assets/colab-badge.svg\" alt=\"Open In Colab\"/></a>"
      ]
    },
    {
      "cell_type": "code",
      "metadata": {
        "colab": {
          "base_uri": "https://localhost:8080/"
        },
        "id": "RVGn1YnlisHV",
        "outputId": "628052c6-78d4-4f49-b6dc-d6682063e1b5"
      },
      "source": [
        "!pip install pyspark"
      ],
      "execution_count": null,
      "outputs": [
        {
          "output_type": "stream",
          "name": "stdout",
          "text": [
            "Collecting pyspark\n",
            "  Downloading pyspark-3.1.2.tar.gz (212.4 MB)\n",
            "\u001b[K     |████████████████████████████████| 212.4 MB 63 kB/s \n",
            "\u001b[?25hCollecting py4j==0.10.9\n",
            "  Downloading py4j-0.10.9-py2.py3-none-any.whl (198 kB)\n",
            "\u001b[K     |████████████████████████████████| 198 kB 55.0 MB/s \n",
            "\u001b[?25hBuilding wheels for collected packages: pyspark\n",
            "  Building wheel for pyspark (setup.py) ... \u001b[?25l\u001b[?25hdone\n",
            "  Created wheel for pyspark: filename=pyspark-3.1.2-py2.py3-none-any.whl size=212880768 sha256=011066109e43384213c9d4697fca0921712c68a5e030b9c0f52da9ff4b55fa24\n",
            "  Stored in directory: /root/.cache/pip/wheels/a5/0a/c1/9561f6fecb759579a7d863dcd846daaa95f598744e71b02c77\n",
            "Successfully built pyspark\n",
            "Installing collected packages: py4j, pyspark\n",
            "Successfully installed py4j-0.10.9 pyspark-3.1.2\n"
          ]
        }
      ]
    },
    {
      "cell_type": "code",
      "metadata": {
        "id": "1Hip8BTritnc"
      },
      "source": [
        "from pyspark import SparkContext\n",
        "sc = SparkContext.getOrCreate()"
      ],
      "execution_count": null,
      "outputs": []
    },
    {
      "cell_type": "code",
      "metadata": {
        "id": "Y3yKVvG7i4uq"
      },
      "source": [
        "data = sc.textFile(\"fashion_mnist_train.csv\")\n",
        "header = data.first() \n",
        "data = data.filter(lambda row: row != header) "
      ],
      "execution_count": null,
      "outputs": []
    },
    {
      "cell_type": "code",
      "metadata": {
        "id": "nkPY57_-i7Li"
      },
      "source": [
        "data_rd = data.map(lambda x: list(map(int, x.split(\",\"))))"
      ],
      "execution_count": null,
      "outputs": []
    },
    {
      "cell_type": "code",
      "metadata": {
        "id": "5tZYxI3zi9GB"
      },
      "source": [
        "def sigmoid(x):\n",
        "  return 1/(1+np.exp(-x))\n",
        "\n",
        "def sigmoid_der(x):\n",
        "  s = sigmoid(x)\n",
        "  return s*(1-s)\n",
        "\n",
        "def cost_sse(y_pred, y):\n",
        "  return 0.5 * np.sum(np.power(y_pred - y, 2))\n",
        "\n",
        "def forward(x, w, b):\n",
        "  return np.dot(x, w) + b\n",
        "\n",
        "def predict(x, w1, b1, w2, b2):\n",
        "  return sigmoid(forward(sigmoid(forward(x, w1, b1)), w2, b2)) "
      ],
      "execution_count": null,
      "outputs": []
    },
    {
      "cell_type": "code",
      "metadata": {
        "id": "WqDHFyG1i_al"
      },
      "source": [
        "def y_trans(y):\n",
        "  y2 = np.zeros(10)\n",
        "  y2[y] = 1\n",
        "  return y2"
      ],
      "execution_count": null,
      "outputs": []
    },
    {
      "cell_type": "code",
      "metadata": {
        "id": "-etmrdBSqZnJ"
      },
      "source": [
        "lr = 0.1\n",
        "input_layer = 784\n",
        "hidden_layer = 150\n",
        "output_layer = 10\n",
        "\n",
        "import numpy as np\n",
        "w1 = np.random.rand(input_layer, hidden_layer) - 0.5 # Shape (784, 150)\n",
        "w2 = np.random.rand(hidden_layer, output_layer) - 0.5 # Shape (150, 10)\n",
        "b1 = np.random.rand(1, hidden_layer) - 0.5 # Shape (1, 64)\n",
        "b2 = np.random.rand(1, output_layer) - 0.5\n",
        "cost_list = []\n",
        "acc_list = []\n",
        "w1_list=[]\n",
        "w2_list = []\n",
        "b1_list = []\n",
        "b2_list = []"
      ],
      "execution_count": null,
      "outputs": []
    },
    {
      "cell_type": "code",
      "metadata": {
        "colab": {
          "base_uri": "https://localhost:8080/"
        },
        "id": "aAsmCS8sqlUM",
        "outputId": "5314cc7f-9989-4ad1-e873-3a984230886a"
      },
      "source": [
        "for i in range(500):\n",
        "  sample = data_rd.sample(False, 0.05)\n",
        "  grad2 = sample.map(lambda x: (x[0], forward(x[1:], w1, b1), x[1:]))\\\n",
        "        .map(lambda x: (x[0], x[1], sigmoid(x[1]), x[2]))\\\n",
        "        .map(lambda x: (x[0], x[1], x[2], forward(x[2], w2, b2), x[3]))\\\n",
        "        .map(lambda x: (x[0], x[1], x[2], sigmoid(x[3]), x[4]))\\\n",
        "        .map(lambda x: (x[0], x[1], x[2], x[3], x[3] - y_trans(x[0]), x[4]))\\\n",
        "        .map(lambda x: (x[0], x[1], x[2], x[3], x[4], np.dot(x[4], w2.T)*x[2]*(1-x[2]), x[5]))\\\n",
        "        .map(lambda x: (x[0], x[1], x[2], x[3], x[4], x[5], np.dot(np.array([x[6]]).T, x[5]), x[6]))\\\n",
        "        .map(lambda x: (x[0], x[1], x[2], x[3], x[4], x[5], x[6], np.dot(np.array(x[2]).T, x[4]), x[7]))\\\n",
        "        .map(lambda x: (x[0], x[1], x[2], x[3], x[4], x[5], x[6], x[7], np.dot(x[4], w2.T)*sigmoid_der(x[1]), x[8]))\\\n",
        "        .map(lambda x: (x[0], x[1], x[2], x[3], x[4], x[5], x[6], x[7], x[8], (x[3] - y_trans(x[0])*x[3]*(1-x[3])), \n",
        "                        x[9],1, int(x[0] == np.argmax(x[3])), cost_sse(np.argmax(x[3]), x[0])))\\\n",
        "        .reduce(lambda x, y: (x[0] + y[0], x[1] + y[1], x[2] + y[2], x[3] + y[3], x[4] \n",
        "                             + y[4], x[5] + y[5], x[6] + y[6], x[7] + y[7], x[8]+y[8], x[9]+y[9], x[10]+y[10], x[11]+y[11], x[12]+y[12], x[13]+y[13]))\n",
        "  n = grad2[-3]\n",
        "  cost = grad2[-1]/n\n",
        "  print(cost)\n",
        "  acc = grad2[-2]/n\n",
        "  cost_list.append(cost)\n",
        "  acc_list.append(acc)\n",
        "  dw1 = grad2[6]/n\n",
        "  dw2 = grad2[7]/n\n",
        "  db1 = grad2[8]/n\n",
        "  db2 = grad2[9]/n \n",
        "\n",
        "  w1_list.append(w1)\n",
        "  w2_list.append(w2)\n",
        "  b1_list.append(b1)\n",
        "  b2_list.append(b2)\n",
        "\n",
        "  w1 -= lr*dw1\n",
        "  w2 -= lr*dw2\n",
        "  b1 -= lr*db1\n",
        "  b2 -= lr*db2"
      ],
      "execution_count": null,
      "outputs": [
        {
          "output_type": "stream",
          "name": "stdout",
          "text": [
            "12.531207598371777\n",
            "9.9725935828877\n",
            "8.767973856209151\n",
            "7.524484536082475\n",
            "6.417901234567902\n",
            "5.903366583541147\n",
            "5.787371134020619\n",
            "5.170980926430517\n",
            "4.94489247311828\n",
            "4.245394736842106\n",
            "4.278933680104031\n",
            "3.874680306905371\n",
            "4.323785803237858\n",
            "3.8171974522292995\n",
            "3.7029262086513994\n",
            "3.477383863080685\n",
            "3.387203166226913\n",
            "3.333798882681564\n",
            "3.043781725888325\n",
            "3.358377659574468\n",
            "2.666448230668414\n",
            "2.8344072164948453\n",
            "3.056056701030928\n",
            "2.8292367399741267\n",
            "2.6914618369987062\n",
            "2.6351515151515152\n",
            "2.760248447204969\n",
            "2.34367396593674\n",
            "2.8962395543175488\n",
            "2.687807881773399\n",
            "2.4783715012722647\n",
            "2.272727272727273\n",
            "2.3542780748663104\n",
            "2.368146214099217\n",
            "2.4045751633986927\n",
            "2.2092391304347827\n",
            "2.159560723514212\n",
            "2.592503022974607\n",
            "2.4818548387096775\n",
            "2.2163522012578616\n",
            "2.365284974093264\n",
            "2.398051948051948\n",
            "2.2070572569906792\n",
            "2.3900753768844223\n",
            "1.8485237483953787\n",
            "2.128991060025543\n",
            "2.4102402022756007\n",
            "2.129911280101394\n",
            "2.129268292682927\n",
            "1.7457627118644068\n",
            "1.9734513274336283\n",
            "1.975292587776333\n",
            "2.2390272835112692\n",
            "2.095179233621755\n",
            "1.99039780521262\n",
            "2.2241813602015115\n",
            "1.9404283801874163\n",
            "2.1586021505376345\n",
            "2.3367088607594937\n",
            "1.858768406961178\n",
            "1.9753886010362693\n",
            "2.134639696586599\n",
            "2.130012936610608\n",
            "2.236009732360097\n",
            "2.261501210653753\n",
            "2.006544502617801\n",
            "1.8996188055908514\n",
            "2.187965260545906\n",
            "1.8686382393397525\n",
            "2.072049689440994\n",
            "2.064621409921671\n",
            "1.9472010178117047\n",
            "1.8374352331606219\n",
            "1.9993589743589744\n",
            "1.9109848484848484\n",
            "2.3468992248062017\n",
            "2.1723666210670314\n",
            "1.9677215189873418\n",
            "1.9731920199501247\n",
            "1.9039948453608246\n",
            "1.7966751918158568\n",
            "1.8902439024390243\n",
            "1.6527958387516255\n",
            "1.8423841059602648\n",
            "1.7847222222222223\n",
            "1.8423312883435583\n",
            "1.9495412844036697\n",
            "1.8725490196078431\n",
            "1.723181257706535\n",
            "1.595625\n",
            "1.8785276073619632\n",
            "1.9158291457286432\n",
            "1.4677002583979328\n",
            "1.5959339263024142\n",
            "1.6368352788586251\n",
            "1.4367588932806323\n",
            "1.7431372549019608\n",
            "1.8142112125162972\n",
            "1.6265664160401003\n",
            "1.6827889447236182\n",
            "1.7871951219512194\n",
            "1.639836289222374\n",
            "1.744550408719346\n",
            "2.0444993819530284\n",
            "1.8196517412935322\n",
            "1.5885542168674698\n",
            "1.6903584672435106\n",
            "1.8703007518796992\n",
            "1.91729797979798\n",
            "1.6339950372208436\n",
            "1.729643765903308\n",
            "1.7161835748792271\n",
            "1.7753246753246754\n",
            "1.8037383177570094\n",
            "2.210526315789474\n",
            "1.689375\n",
            "1.717877094972067\n",
            "1.8779429987608427\n",
            "1.978846153846154\n",
            "1.9018867924528302\n",
            "1.9216867469879517\n",
            "1.8983957219251337\n",
            "1.60625814863103\n",
            "1.6179123711340206\n",
            "1.6278600269179004\n",
            "1.8278894472361809\n",
            "1.5069356872635562\n",
            "1.829531051964512\n",
            "1.698443579766537\n",
            "1.717032967032967\n",
            "1.4671814671814671\n",
            "1.7619647355163728\n",
            "1.7625\n",
            "2.1738853503184714\n",
            "1.5758145363408522\n",
            "1.8950381679389312\n",
            "1.7100671140939598\n",
            "1.6834924965893587\n",
            "1.8495575221238938\n",
            "1.600765306122449\n",
            "1.6183574879227054\n",
            "1.8279430789133246\n",
            "1.8783958602846054\n",
            "1.8659863945578232\n",
            "1.7483745123537062\n",
            "1.7011278195488722\n",
            "1.710362047440699\n",
            "1.7349165596919127\n",
            "1.685897435897436\n",
            "1.5730337078651686\n",
            "1.8611111111111112\n",
            "1.7808132147395173\n",
            "1.5455112219451372\n",
            "1.698966408268734\n",
            "1.5554140127388536\n",
            "1.7701986754966887\n",
            "1.5903225806451613\n",
            "1.7255154639175259\n",
            "1.9656538969616908\n",
            "1.916141235813367\n",
            "1.4898605830164766\n",
            "1.5666666666666667\n",
            "1.7332912988650693\n",
            "1.7780054644808743\n",
            "1.737146529562982\n",
            "1.6513333333333333\n",
            "1.5366624525916561\n",
            "1.9147095179233622\n",
            "1.6835278858625162\n",
            "1.5801001251564455\n",
            "1.8052699228791773\n",
            "1.3901617250673854\n",
            "1.646282973621103\n",
            "1.6364764267990075\n",
            "1.6946959896507114\n",
            "1.6494325346784364\n",
            "1.343984962406015\n",
            "1.5175324675324675\n",
            "1.744019138755981\n",
            "1.66988416988417\n",
            "1.6474530831099197\n",
            "1.5403645833333333\n",
            "1.6437054631828978\n",
            "1.5383116883116883\n",
            "1.537956204379562\n",
            "1.7594221105527639\n",
            "1.651639344262295\n",
            "1.4955070603337612\n",
            "1.899234693877551\n",
            "1.661744966442953\n",
            "1.6717506631299734\n",
            "1.4421542553191489\n",
            "1.6156812339331619\n",
            "1.6670934699103712\n",
            "1.3819444444444444\n",
            "1.2059202059202059\n",
            "1.5947712418300655\n",
            "1.287303664921466\n",
            "1.705163043478261\n",
            "1.4472010178117047\n",
            "1.4647137150466045\n",
            "1.5071428571428571\n",
            "1.3845637583892618\n",
            "1.412591687041565\n",
            "1.5371536523929472\n",
            "1.4904458598726114\n",
            "1.505457025920873\n",
            "1.4705882352941178\n",
            "1.4097222222222223\n",
            "1.5753012048192772\n",
            "1.628125\n",
            "1.6497975708502024\n",
            "1.6792207792207792\n",
            "1.1689008042895441\n",
            "1.4569752281616688\n",
            "1.5709549071618036\n",
            "1.2246022031823744\n",
            "1.3238916256157636\n",
            "1.1415327564894933\n",
            "1.3468244084682441\n",
            "1.555779569892473\n",
            "1.8185483870967742\n",
            "1.7606516290726817\n",
            "1.4780701754385965\n",
            "1.4924146649810366\n",
            "1.8818181818181818\n",
            "1.7935196950444727\n",
            "1.535175879396985\n",
            "1.3370786516853932\n",
            "1.4697766097240472\n",
            "1.5926666666666667\n",
            "1.787001287001287\n",
            "1.516109045848823\n",
            "1.4540155440414508\n",
            "1.4981203007518797\n",
            "1.560483870967742\n",
            "1.4201342281879195\n",
            "1.5140845070422535\n",
            "1.612960760998811\n",
            "1.4379001280409731\n",
            "1.5230263157894737\n",
            "1.554054054054054\n",
            "1.4909747292418774\n",
            "1.417989417989418\n",
            "1.6549295774647887\n",
            "1.5131233595800524\n",
            "1.4501965923984272\n",
            "1.4514627659574468\n",
            "1.5472074468085106\n",
            "1.3949742268041236\n",
            "1.6518324607329844\n",
            "1.5753424657534247\n",
            "1.4993261455525606\n",
            "1.6220159151193634\n",
            "1.6\n",
            "1.4127086007702183\n",
            "1.4062087186261558\n",
            "1.1162943495400788\n",
            "1.4421182266009853\n",
            "1.4039948453608246\n",
            "1.5462962962962963\n",
            "1.4981412639405205\n",
            "1.5045336787564767\n",
            "1.6063144329896908\n",
            "1.6004842615012107\n",
            "1.8027812895069533\n",
            "1.619047619047619\n",
            "1.292942743009321\n",
            "1.4396325459317585\n",
            "1.6319895968790636\n",
            "1.4661803713527852\n",
            "1.3276081424936388\n",
            "1.3781456953642384\n",
            "1.5975443383356072\n",
            "1.562169312169312\n",
            "1.307742782152231\n",
            "1.471523178807947\n",
            "1.4751861042183623\n",
            "1.5641975308641975\n",
            "1.3810483870967742\n",
            "1.2576312576312576\n",
            "1.5647291941875825\n",
            "1.4873417721518987\n",
            "1.4969059405940595\n",
            "1.5961021505376345\n",
            "1.4602689486552567\n",
            "1.3896774193548387\n",
            "1.5470360824742269\n",
            "1.4662337662337663\n",
            "1.4833759590792839\n",
            "1.5506172839506174\n",
            "1.2868217054263567\n",
            "1.5734177215189873\n",
            "1.391251518833536\n",
            "1.5194884287454324\n",
            "1.37246192893401\n",
            "1.3672248803827751\n",
            "1.2882273342354533\n",
            "1.5558408215661104\n",
            "1.3506666666666667\n",
            "1.4302915082382763\n",
            "1.6728316326530612\n",
            "1.2826370757180157\n",
            "1.3693877551020408\n",
            "1.4950920245398773\n",
            "1.433011049723757\n",
            "1.5748387096774195\n",
            "1.555764411027569\n",
            "1.4837239583333333\n",
            "1.4893350062735258\n",
            "1.2940097799511003\n",
            "1.4357976653696498\n",
            "1.4646666666666666\n",
            "1.3748473748473748\n",
            "1.1935279187817258\n",
            "1.5275\n",
            "1.4799498746867168\n",
            "1.5822942643391522\n",
            "1.5388291517323776\n",
            "1.6656131479140328\n",
            "1.284076433121019\n",
            "1.463125\n",
            "1.2542372881355932\n",
            "1.8138820638820639\n",
            "1.6237373737373737\n",
            "1.3763020833333333\n",
            "1.5018939393939394\n",
            "1.5335294117647058\n",
            "1.349375\n",
            "1.4823066841415464\n",
            "1.4583333333333333\n",
            "1.1451398135818909\n",
            "1.331571994715984\n",
            "1.3742442563482467\n",
            "1.6704681872749099\n",
            "1.4515527950310558\n",
            "1.5244360902255638\n",
            "1.145859872611465\n",
            "1.3975155279503106\n",
            "1.515068493150685\n",
            "1.312015503875969\n",
            "1.412621359223301\n",
            "1.514321295143213\n",
            "1.3270725388601037\n",
            "1.430186170212766\n",
            "1.3307888040712468\n",
            "1.2061068702290076\n",
            "1.4934810951760105\n",
            "1.4218942189421895\n",
            "1.3801756587202008\n",
            "1.4949811794228356\n",
            "1.4\n",
            "1.5278113663845223\n",
            "1.4937421777221527\n",
            "1.4349804941482445\n",
            "1.28428927680798\n",
            "1.381074168797954\n",
            "1.636005256241787\n",
            "1.3436675461741425\n",
            "1.2661691542288558\n",
            "1.2764945652173914\n",
            "1.6001353179972937\n",
            "1.4070631970260223\n",
            "1.2177097203728362\n",
            "1.2397435897435898\n",
            "1.5852564102564102\n",
            "1.1159235668789809\n",
            "1.329936305732484\n",
            "1.4339393939393938\n",
            "1.3898305084745763\n",
            "1.3863936591809776\n",
            "1.3161668839634941\n",
            "1.4023746701846966\n",
            "1.6154353562005277\n",
            "1.5218579234972678\n",
            "1.4701017811704835\n",
            "1.1140350877192982\n",
            "1.696774193548387\n",
            "1.3959899749373434\n",
            "1.315006468305304\n",
            "1.3683870967741936\n",
            "1.0922266139657444\n",
            "1.1993630573248408\n",
            "1.3997429305912596\n",
            "1.3438287153652393\n",
            "1.4708860759493672\n",
            "1.2608695652173914\n",
            "1.3987341772151898\n",
            "1.3816844919786095\n",
            "1.108203677510608\n",
            "1.2670089858793325\n",
            "1.2915617128463477\n",
            "1.4183266932270917\n",
            "1.601948051948052\n",
            "1.4921052631578948\n",
            "1.2794316644113668\n",
            "1.2566371681415929\n",
            "1.3343949044585988\n",
            "1.4835566382460414\n",
            "1.34019975031211\n",
            "1.3562992125984252\n",
            "1.446808510638298\n",
            "1.3692307692307693\n",
            "1.4092071611253196\n",
            "1.3674775928297056\n",
            "1.4696382428940569\n",
            "1.4046094750320102\n",
            "1.5076923076923077\n",
            "1.3602442333785618\n",
            "1.5097323600973236\n",
            "1.4339869281045752\n",
            "1.463803680981595\n",
            "1.2784730913642053\n",
            "1.5116429495472186\n",
            "1.352078239608802\n",
            "1.587270341207349\n",
            "1.3868563685636857\n",
            "1.3621997471554994\n",
            "1.443359375\n",
            "1.1244897959183673\n",
            "1.361145703611457\n",
            "1.470909090909091\n",
            "1.5775757575757576\n",
            "1.4795657726692208\n",
            "1.3561917443408789\n",
            "1.389736477115118\n",
            "1.4373417721518988\n",
            "1.4853689567430026\n",
            "1.4607097591888467\n",
            "1.5294471153846154\n",
            "1.2976952624839948\n",
            "1.40897597977244\n",
            "1.605095541401274\n",
            "1.559065934065934\n",
            "1.3799237611181703\n",
            "1.2444717444717446\n",
            "1.1737766624843162\n",
            "1.3238341968911918\n",
            "1.2958387516254877\n",
            "1.3478854024556617\n",
            "1.2653452685421995\n",
            "1.396045918367347\n",
            "1.469038208168643\n",
            "1.4390088945362134\n",
            "1.2986486486486486\n",
            "1.2109677419354838\n",
            "1.2181588902900378\n",
            "1.2356770833333333\n",
            "1.1613333333333333\n",
            "1.410857908847185\n",
            "1.706266318537859\n",
            "1.188875305623472\n",
            "1.410866910866911\n",
            "1.2230263157894736\n",
            "1.503168567807351\n",
            "1.3654114365411436\n",
            "1.3976683937823835\n",
            "1.564102564102564\n",
            "1.3827814569536423\n",
            "1.3933823529411764\n",
            "1.4635802469135804\n",
            "1.4272363150867824\n",
            "1.556081081081081\n",
            "1.0718711276332094\n",
            "1.1874197689345314\n",
            "1.2231920199501247\n",
            "1.461089494163424\n",
            "1.3897338403041826\n",
            "1.2176829268292684\n",
            "1.3909313725490196\n",
            "1.4429657794676807\n",
            "1.202290076335878\n",
            "1.1948924731182795\n",
            "1.3234932349323494\n",
            "1.5044585987261148\n",
            "1.529520295202952\n",
            "1.421994884910486\n",
            "1.1578947368421053\n",
            "1.4278283485045513\n",
            "1.338688946015424\n",
            "1.4314516129032258\n",
            "1.3949367088607596\n",
            "1.3331234256926952\n",
            "1.1600512163892445\n",
            "1.419108280254777\n",
            "1.5467105263157894\n",
            "1.4522821576763485\n",
            "1.2282608695652173\n",
            "1.481144343302991\n",
            "1.244910941475827\n",
            "1.2587064676616915\n",
            "1.4586720867208671\n",
            "1.4762820512820514\n",
            "1.1311369509043927\n",
            "1.5469543147208122\n",
            "1.276261937244202\n",
            "1.2481155778894473\n",
            "1.1139896373056994\n",
            "1.38727959697733\n",
            "1.4134615384615385\n"
          ]
        }
      ]
    },
    {
      "cell_type": "code",
      "metadata": {
        "id": "SNx49MnBwQYJ"
      },
      "source": [
        "test_data = sc.textFile(\"fashion_mnist_test.csv\")\n",
        "header = test_data.first() \n",
        "test = test_data.filter(lambda row: row != header) "
      ],
      "execution_count": null,
      "outputs": []
    },
    {
      "cell_type": "code",
      "metadata": {
        "colab": {
          "base_uri": "https://localhost:8080/"
        },
        "id": "qtl3QZRHwxaA",
        "outputId": "6af6e4d5-6310-4661-bffe-8970842184da"
      },
      "source": [
        "test.take(2)"
      ],
      "execution_count": null,
      "outputs": [
        {
          "output_type": "execute_result",
          "data": {
            "text/plain": [
              "['0,0,0,0,0,0,0,0,9,8,0,0,34,29,7,0,11,24,0,0,3,3,1,0,1,1,0,0,0,0,0,4,0,0,1,0,0,0,0,0,44,88,99,122,123,80,0,0,0,0,1,1,1,0,0,0,0,0,0,1,2,0,0,0,3,46,174,249,67,0,94,210,61,14,212,157,37,0,0,0,0,1,0,0,0,0,0,2,2,0,23,168,206,242,239,238,214,125,61,113,74,133,236,238,236,203,184,20,0,1,0,0,0,0,0,1,0,0,175,245,223,207,205,206,216,255,237,251,232,223,212,200,205,216,249,173,0,0,2,0,0,0,0,7,0,53,225,201,197,200,201,206,199,197,185,194,204,232,226,249,219,194,205,229,33,0,1,0,0,0,0,1,0,133,223,208,192,195,233,226,216,191,210,188,236,186,0,50,234,207,208,231,133,0,0,0,0,0,0,0,0,216,218,216,194,229,172,64,219,201,200,200,247,68,72,54,165,237,212,219,226,0,0,0,0,0,0,0,50,221,207,220,211,207,165,138,205,192,191,190,232,119,113,67,173,237,217,208,221,29,0,0,0,0,0,0,131,216,200,219,207,212,231,226,193,214,224,206,203,230,122,112,234,224,214,204,224,123,0,0,0,0,0,0,195,212,204,211,203,205,200,184,213,162,138,193,207,203,231,245,208,220,211,203,219,179,0,0,0,0,0,8,185,191,218,233,219,201,221,213,246,114,127,80,129,232,198,218,207,236,227,220,216,172,21,0,0,0,0,21,4,5,64,160,224,224,144,187,197,211,207,186,192,210,212,218,225,236,177,106,56,28,1,0,0,0,0,1,1,0,2,0,116,252,96,120,51,73,70,123,79,76,64,162,252,118,1,3,0,4,2,0,0,0,0,0,0,0,0,0,115,226,145,170,155,165,161,159,125,175,140,174,236,95,0,2,2,0,0,0,0,0,0,0,0,1,2,0,131,225,204,217,221,220,217,224,231,226,237,203,237,102,0,4,2,1,2,0,0,0,0,1,1,0,3,0,135,223,201,199,194,198,195,198,192,203,199,207,231,112,0,4,0,0,0,0,0,0,0,1,1,0,1,0,134,223,199,206,199,201,200,203,206,207,210,206,227,119,0,3,0,0,1,0,0,0,0,0,0,0,1,0,139,223,198,204,200,201,200,201,204,206,208,206,229,128,0,4,0,0,0,0,0,0,0,0,0,0,1,0,145,223,195,205,201,201,200,204,204,206,211,205,230,139,0,2,0,0,0,0,0,0,0,1,0,1,0,0,157,221,194,204,204,201,201,203,205,208,211,204,230,148,0,2,0,1,1,0,0,0,0,1,1,1,0,0,166,220,194,203,203,205,203,203,206,207,212,204,230,157,0,2,1,1,1,0,0,0,0,0,0,0,0,0,171,221,195,206,200,199,203,203,205,206,207,204,226,181,0,0,0,0,0,0,0,0,0,0,0,1,0,0,165,224,197,201,208,199,204,205,207,210,213,207,229,187,0,1,2,0,0,0,0,0,0,0,0,0,0,0,128,201,203,201,207,211,203,205,206,210,213,205,225,191,0,0,2,0,0,0,0,0,0,0,0,1,1,0,141,201,191,188,194,187,187,191,193,195,199,199,218,161,0,0,0,0,0,0,0,0,0,0,0,0,1,0,212,240,213,239,233,239,231,232,236,242,245,224,245,234,0,3,0,0,0,0,0,0,0,0,0,0,0,0,37,69,94,123,127,138,138,142,145,135,125,103,87,56,0,0,0,0,0,0,0',\n",
              " '1,0,0,0,0,0,0,0,0,0,0,0,209,190,181,150,170,193,180,219,5,0,0,0,0,0,0,0,0,0,0,0,0,0,0,0,0,0,0,24,235,210,241,222,171,220,199,236,27,0,0,0,0,0,0,0,0,0,0,0,0,0,0,0,0,0,0,103,227,217,218,222,189,216,201,215,103,0,0,0,0,0,0,0,0,0,0,0,0,0,0,0,0,0,0,197,221,201,212,215,211,215,210,228,174,0,0,0,0,0,0,0,0,0,0,0,0,0,0,0,0,0,0,206,202,193,202,210,209,214,193,151,132,0,0,0,0,0,0,0,0,0,0,0,0,0,0,0,0,0,0,201,166,202,202,219,225,208,142,110,102,0,0,0,0,0,0,0,0,0,0,0,0,0,0,0,0,0,9,172,136,201,226,182,213,236,146,125,73,0,0,0,0,0,0,0,0,0,0,0,0,0,0,0,0,0,43,171,147,206,253,76,176,252,158,142,65,0,0,0,0,0,0,0,0,0,0,0,0,0,0,0,0,0,91,201,169,200,255,0,167,255,157,176,70,0,0,0,0,0,0,0,0,0,0,0,0,0,0,0,0,0,105,211,178,204,224,0,145,225,165,186,59,0,0,0,0,0,0,0,0,0,0,0,0,0,0,0,0,0,114,209,177,212,155,0,125,221,162,197,47,0,0,0,0,0,0,0,0,0,0,0,0,0,0,0,0,0,124,201,180,253,46,0,116,215,155,187,31,0,0,0,0,0,0,0,0,0,0,0,0,0,0,0,0,0,129,179,194,226,0,0,93,214,146,171,22,0,0,0,0,0,0,0,0,0,0,0,0,0,0,0,0,0,128,168,205,168,0,0,78,217,142,154,26,0,0,0,0,0,0,0,0,0,0,0,0,0,0,0,0,0,143,168,204,181,0,0,82,223,142,136,6,0,0,0,0,0,0,0,0,0,0,0,0,0,0,0,0,0,126,180,211,140,0,0,52,221,151,124,0,0,0,0,0,0,0,0,0,0,0,0,0,0,0,0,0,0,93,187,208,182,0,0,0,212,166,131,0,0,0,0,0,0,0,0,0,0,0,0,0,0,0,0,0,0,60,199,208,227,0,0,12,218,176,150,0,0,0,0,0,0,0,0,0,0,0,0,0,0,0,0,0,0,27,234,209,211,16,0,45,229,188,157,0,0,0,0,0,0,0,0,0,0,0,0,0,0,0,0,0,0,0,243,207,218,72,0,55,232,212,183,0,0,0,0,0,0,0,0,0,0,0,0,0,0,0,0,0,0,0,213,218,224,93,0,62,236,220,175,0,0,0,0,0,0,0,0,0,0,0,0,0,0,0,0,0,0,0,168,230,228,106,0,83,237,226,149,0,0,0,0,0,0,0,0,0,0,0,0,0,0,0,0,0,0,0,132,231,229,132,0,111,241,227,146,0,0,0,0,0,0,0,0,0,0,0,0,0,0,0,0,0,0,0,93,233,234,141,0,88,242,230,153,0,0,0,0,0,0,0,0,0,0,0,0,0,0,0,0,0,0,0,29,231,235,172,0,81,242,231,145,0,0,0,0,0,0,0,0,0,0,0,0,0,0,0,0,0,0,0,0,227,234,186,0,92,244,240,100,0,0,0,0,0,0,0,0,0,0,0,0,0,0,0,0,0,0,0,0,220,244,206,0,87,248,238,80,0,0,0,0,0,0,0,0,0,0,0,0,0,0,0,0,0,0,0,0,174,233,155,0,65,235,216,34,0,0,0,0,0,0,0,0,0']"
            ]
          },
          "metadata": {},
          "execution_count": 18
        }
      ]
    },
    {
      "cell_type": "code",
      "metadata": {
        "id": "sRlDSBBTwzOI"
      },
      "source": [
        "test_rd = test.map(lambda x: list(map(int, x.split(\",\"))))"
      ],
      "execution_count": null,
      "outputs": []
    },
    {
      "cell_type": "code",
      "metadata": {
        "id": "mdl5TWrrw5XI"
      },
      "source": [
        "test_pred = test_rd.map(lambda x: (x[0], predict(x[1:], w1_list[-1], b1_list[-1], w2_list[-1], b2_list[-1])))\\\n",
        "            .map(lambda x: (1, int(x[0] == np.argmax(x[1]))))\\\n",
        "            .reduce(lambda x, y: (x[0] + y[0], x[1]+y[1]))"
      ],
      "execution_count": null,
      "outputs": []
    },
    {
      "cell_type": "code",
      "metadata": {
        "colab": {
          "base_uri": "https://localhost:8080/"
        },
        "id": "_pGIjYCfyGqj",
        "outputId": "74f22413-98f0-4ff7-fc66-1ba9cd4d63f6"
      },
      "source": [
        "test_pred[1]/test_pred[0]"
      ],
      "execution_count": null,
      "outputs": [
        {
          "output_type": "execute_result",
          "data": {
            "text/plain": [
              "0.756"
            ]
          },
          "metadata": {},
          "execution_count": 51
        }
      ]
    },
    {
      "cell_type": "code",
      "metadata": {
        "id": "W4DiWVDzyU-O"
      },
      "source": [
        "max_ind = np.argmax(acc_list)"
      ],
      "execution_count": null,
      "outputs": []
    },
    {
      "cell_type": "code",
      "metadata": {
        "id": "M9t08yAuyu93"
      },
      "source": [
        "test_pred1 = test_rd.map(lambda x: (x[0], predict(x[1:], w1_list[max_ind], b1_list[max_ind], w2_list[max_ind], b2_list[max_ind])))\\\n",
        "            .map(lambda x: (1, int(x[0] == np.argmax(x[1]))))\\\n",
        "            .reduce(lambda x, y: (x[0] + y[0], x[1]+y[1]))"
      ],
      "execution_count": null,
      "outputs": []
    },
    {
      "cell_type": "code",
      "metadata": {
        "id": "TFcPgfCgy-XZ"
      },
      "source": [
        "accuracy = test_pred1[1]/test_pred1[0]"
      ],
      "execution_count": null,
      "outputs": []
    },
    {
      "cell_type": "code",
      "metadata": {
        "colab": {
          "base_uri": "https://localhost:8080/"
        },
        "id": "484Ei4FUzBEZ",
        "outputId": "997f91b5-35ac-4151-c5fa-a42ab48bae8f"
      },
      "source": [
        "accuracy"
      ],
      "execution_count": null,
      "outputs": [
        {
          "output_type": "execute_result",
          "data": {
            "text/plain": [
              "0.756"
            ]
          },
          "metadata": {},
          "execution_count": 55
        }
      ]
    },
    {
      "cell_type": "code",
      "metadata": {
        "colab": {
          "base_uri": "https://localhost:8080/",
          "height": 404
        },
        "id": "lzvROqw1zN1q",
        "outputId": "00cd2295-fc45-474a-8d0c-af6ecdc2b0be"
      },
      "source": [
        "import matplotlib.pyplot as plt\n",
        "plt.figure(figsize=(8, 6))\n",
        "plt.scatter(list(range(500)), cost_list)\n",
        "plt.title(\"Cost per Epoch\")\n",
        "plt.xlabel(\"Epochs\")\n",
        "plt.ylabel(\"Cost\")\n",
        "plt.show()"
      ],
      "execution_count": null,
      "outputs": [
        {
          "output_type": "display_data",
          "data": {
            "image/png": "[encoded data removed]",
            "text/plain": [
              "<Figure size 576x432 with 1 Axes>"
            ]
          },
          "metadata": {
            "needs_background": "light"
          }
        }
      ]
    },
    {
      "cell_type": "code",
      "metadata": {
        "colab": {
          "base_uri": "https://localhost:8080/",
          "height": 404
        },
        "id": "8jzgBltrzs5M",
        "outputId": "7d65ff1c-8173-42e7-c9dd-f5079948749b"
      },
      "source": [
        "plt.figure(figsize=(8, 6))\n",
        "plt.scatter(list(range(500)), acc_list)\n",
        "plt.title(\"Accuracy per Epoch\")\n",
        "plt.xlabel(\"Epochs\")\n",
        "plt.ylabel(\"Accuracy\")\n",
        "plt.show()"
      ],
      "execution_count": null,
      "outputs": [
        {
          "output_type": "display_data",
          "data": {
            "image/png": "[encoded data removed]",
            "text/plain": [
              "<Figure size 576x432 with 1 Axes>"
            ]
          },
          "metadata": {
            "needs_background": "light"
          }
        }
      ]
    },
    {
      "cell_type": "code",
      "metadata": {
        "id": "icXsWrgg0Bj6"
      },
      "source": [
        "lr = 0.1\n",
        "input_layer = 784\n",
        "hidden_layer = 150\n",
        "output_layer = 10\n",
        "\n",
        "import numpy as np\n",
        "w1 = np.random.rand(input_layer, hidden_layer) - 0.5 # Shape (784, 150)\n",
        "w2 = np.random.rand(hidden_layer, output_layer) - 0.5 # Shape (150, 10)\n",
        "b1 = np.random.rand(1, hidden_layer) - 0.5 # Shape (1, 64)\n",
        "b2 = np.random.rand(1, output_layer) - 0.5\n",
        "cost_list = []\n",
        "acc_list = []\n",
        "w1_list=[]\n",
        "w2_list = []\n",
        "b1_list = []\n",
        "b2_list = []"
      ],
      "execution_count": null,
      "outputs": []
    },
    {
      "cell_type": "code",
      "metadata": {
        "colab": {
          "base_uri": "https://localhost:8080/"
        },
        "id": "eIfunCk10Oex",
        "outputId": "779b6aa4-97c8-4c8d-abc9-07da972886e7"
      },
      "source": [
        "for i in range(300):\n",
        "  sample = data_rd.sample(False, 0.05)\n",
        "  grad2 = sample.map(lambda x: (x[0], forward(x[1:], w1, b1), x[1:]))\\\n",
        "        .map(lambda x: (x[0], x[1], sigmoid(x[1]), x[2]))\\\n",
        "        .map(lambda x: (x[0], x[1], x[2], forward(x[2], w2, b2), x[3]))\\\n",
        "        .map(lambda x: (x[0], x[1], x[2], sigmoid(x[3]), x[4]))\\\n",
        "        .map(lambda x: (x[0], x[1], x[2], x[3], x[3] - y_trans(x[0]), x[4]))\\\n",
        "        .map(lambda x: (x[0], x[1], x[2], x[3], x[4], np.dot(x[4], w2.T)*x[2]*(1-x[2]), x[5]))\\\n",
        "        .map(lambda x: (x[0], x[1], x[2], x[3], x[4], x[5], np.dot(np.array([x[6]]).T, x[5]), x[6]))\\\n",
        "        .map(lambda x: (x[0], x[1], x[2], x[3], x[4], x[5], x[6], np.dot(np.array(x[2]).T, x[4]), x[7]))\\\n",
        "        .map(lambda x: (x[0], x[1], x[2], x[3], x[4], x[5], x[6], x[7], np.dot(x[4], w2.T)*sigmoid_der(x[1]), x[8]))\\\n",
        "        .map(lambda x: (x[0], x[1], x[2], x[3], x[4], x[5], x[6], x[7], x[8], (x[3] - y_trans(x[0])*x[3]*(1-x[3])), \n",
        "                        x[9],1, int(x[0] == np.argmax(x[3])), cost_sse(np.argmax(x[3]), x[0])))\\\n",
        "        .reduce(lambda x, y: (x[0] + y[0], x[1] + y[1], x[2] + y[2], x[3] + y[3], x[4] \n",
        "                             + y[4], x[5] + y[5], x[6] + y[6], x[7] + y[7], x[8]+y[8], x[9]+y[9], x[10]+y[10], x[11]+y[11], x[12]+y[12], x[13]+y[13]))\n",
        "  n = grad2[-3]\n",
        "  cost = grad2[-1]/n\n",
        "  print(cost)\n",
        "  acc = grad2[-2]/n\n",
        "  cost_list.append(cost)\n",
        "  acc_list.append(acc)\n",
        "  dw1 = grad2[6]/n\n",
        "  dw2 = grad2[7]/n\n",
        "  db1 = grad2[8]/n\n",
        "  db2 = grad2[9]/n \n",
        "\n",
        "  w1_list.append(w1)\n",
        "  w2_list.append(w2)\n",
        "  b1_list.append(b1)\n",
        "  b2_list.append(b2)\n",
        "\n",
        "  w1 -= lr*dw1\n",
        "  w2 -= lr*dw2\n",
        "  b1 -= lr*db1\n",
        "  b2 -= lr*db2"
      ],
      "execution_count": null,
      "outputs": [
        {
          "output_type": "stream",
          "name": "stdout",
          "text": [
            "7.732634338138925\n",
            "8.818066157760814\n",
            "7.417590027700831\n",
            "6.337926509186352\n",
            "6.112452350698857\n",
            "5.307643312101911\n",
            "4.865079365079365\n",
            "5.005018820577164\n",
            "4.257105943152455\n",
            "4.240909090909091\n",
            "3.9851551956815117\n",
            "3.8131944444444446\n",
            "3.8420731707317075\n",
            "3.5802781289506953\n",
            "3.622422680412371\n",
            "3.1126666666666667\n",
            "3.4429086538461537\n",
            "3.331151832460733\n",
            "3.012150668286756\n",
            "2.93782722513089\n",
            "3.0173053152039553\n",
            "3.2283163265306123\n",
            "3.1307397959183674\n",
            "3.1708278580814717\n",
            "2.8177150192554556\n",
            "2.622292993630573\n",
            "2.642857142857143\n",
            "2.58160621761658\n",
            "2.32\n",
            "3.1057441253263707\n",
            "2.4215817694369974\n",
            "2.3939774153074027\n",
            "2.4621951219512197\n",
            "2.599476439790576\n",
            "2.5058823529411764\n",
            "2.373300370828183\n",
            "1.923412204234122\n",
            "2.2156084656084656\n",
            "2.2449874686716793\n",
            "2.491206030150754\n",
            "2.0503778337531484\n",
            "2.121192893401015\n",
            "2.264591439688716\n",
            "1.8717472118959109\n",
            "2.5320197044334973\n",
            "1.8936170212765957\n",
            "2.222520107238606\n",
            "2.1710858585858586\n",
            "2.3302919708029197\n",
            "2.461178045515395\n",
            "2.17984693877551\n",
            "2.034749034749035\n",
            "2.002724795640327\n",
            "2.2506720430107525\n",
            "2.147093712930012\n",
            "1.7891566265060241\n",
            "2.032191780821918\n",
            "2.1258148631029985\n",
            "1.7911311053984575\n",
            "2.064894932014833\n",
            "1.880201765447667\n",
            "1.7611842105263158\n",
            "1.706257982120051\n",
            "1.7042160737812913\n",
            "2.1280101394169835\n",
            "1.9145408163265305\n",
            "1.6851415094339623\n",
            "1.7105263157894737\n",
            "1.9631043256997456\n",
            "1.5119718309859156\n",
            "1.9073333333333333\n",
            "1.8576732673267327\n",
            "1.9072847682119205\n",
            "1.5727728983688833\n",
            "1.987057220708447\n",
            "1.9259485924112607\n",
            "1.805732484076433\n",
            "1.735483870967742\n",
            "1.8652291105121295\n",
            "1.5214007782101167\n",
            "1.6609848484848484\n",
            "1.8376534788540246\n",
            "1.8383152173913044\n",
            "1.7052696078431373\n",
            "1.5949685534591196\n",
            "1.931462140992167\n",
            "1.7569906790945407\n",
            "1.8532401524777637\n",
            "1.74034620505992\n",
            "1.9720052083333333\n",
            "1.8938271604938273\n",
            "1.79875\n",
            "1.733921815889029\n",
            "1.9560509554140126\n",
            "1.7182587666263602\n",
            "1.7081422018348624\n",
            "1.578502415458937\n",
            "1.5759162303664922\n",
            "1.5790849673202614\n",
            "1.95778364116095\n",
            "1.728737113402062\n",
            "1.71831869510665\n",
            "1.8646080760095012\n",
            "1.629375\n",
            "1.7506702412868633\n",
            "1.580921052631579\n",
            "1.6041666666666667\n",
            "1.6683937823834196\n",
            "1.817774936061381\n",
            "1.6942590120160215\n",
            "1.4099868593955323\n",
            "1.5612244897959184\n",
            "1.6903846153846154\n",
            "1.7952612393681653\n",
            "1.3816120906801008\n",
            "1.5303030303030303\n",
            "1.7400744416873448\n",
            "1.5695322376738305\n",
            "1.8110687022900764\n",
            "1.7696404793608522\n",
            "1.8029925187032418\n",
            "1.357718120805369\n",
            "1.5201958384332925\n",
            "1.6664663461538463\n",
            "1.615676359039191\n",
            "1.5801001251564455\n",
            "1.5900123304562268\n",
            "1.628826530612245\n",
            "1.440460947503201\n",
            "1.4684343434343434\n",
            "1.5462585034013605\n",
            "1.531980319803198\n",
            "1.5661664392905865\n",
            "1.4680715197956578\n",
            "1.4701397712833546\n",
            "1.4148099606815203\n",
            "1.711978465679677\n",
            "1.5430925221799747\n",
            "1.702027027027027\n",
            "1.6653992395437263\n",
            "1.6565096952908587\n",
            "1.468487394957983\n",
            "1.3923076923076922\n",
            "1.425061425061425\n",
            "1.7753164556962024\n",
            "1.450556242274413\n",
            "1.4352564102564103\n",
            "1.354521625163827\n",
            "1.6939040207522698\n",
            "1.611901681759379\n",
            "1.7760097919216646\n",
            "1.7270408163265305\n",
            "1.5402010050251256\n",
            "1.4590268886043534\n",
            "1.5348837209302326\n",
            "1.5698630136986302\n",
            "1.534\n",
            "1.535175879396985\n",
            "1.5436619718309859\n",
            "1.3524484536082475\n",
            "1.7683578104138853\n",
            "1.7613776137761377\n",
            "1.6618037135278514\n",
            "1.3523869346733668\n",
            "1.5915875169606513\n",
            "1.6227208976157084\n",
            "1.5932203389830508\n",
            "1.3859543817527011\n",
            "1.6350832266325224\n",
            "1.5997442455242967\n",
            "1.4348958333333333\n",
            "1.6915544675642595\n",
            "1.7886393659180977\n",
            "1.4635802469135804\n",
            "1.6781292984869327\n",
            "1.3690932311621966\n",
            "1.4494007989347537\n",
            "1.3530927835051547\n",
            "1.4647887323943662\n",
            "1.6477132262051917\n",
            "1.4165596919127086\n",
            "1.6076826196473553\n",
            "1.55470737913486\n",
            "1.3098591549295775\n",
            "1.9510309278350515\n",
            "1.9958041958041959\n",
            "1.7644415917843388\n",
            "1.7800261096605745\n",
            "1.6596306068601583\n",
            "1.5832305795314427\n",
            "1.6270543615676358\n",
            "1.675033921302578\n",
            "1.4119623655913978\n",
            "1.5685185185185184\n",
            "1.550967741935484\n",
            "1.5397727272727273\n",
            "1.576972010178117\n",
            "1.3694225721784776\n",
            "1.3269005847953217\n",
            "1.7540880503144654\n",
            "1.1651785714285714\n",
            "1.2901907356948228\n",
            "1.4099496221662469\n",
            "1.520912547528517\n",
            "1.5617760617760619\n",
            "1.7533875338753389\n",
            "1.6368894601542416\n",
            "1.529593094944513\n",
            "1.7121588089330024\n",
            "1.681930693069307\n",
            "1.4571062740076826\n",
            "1.6409438775510203\n",
            "1.5343949044585987\n",
            "1.8400758533501895\n",
            "1.6724581724581724\n",
            "1.405388471177945\n",
            "1.5523489932885906\n",
            "1.7933579335793357\n",
            "1.3953488372093024\n",
            "1.52\n",
            "1.4914248021108178\n",
            "1.4757462686567164\n",
            "1.5831151832460733\n",
            "1.4757160647571606\n",
            "1.436498150431566\n",
            "1.5052910052910053\n",
            "1.55198973042362\n",
            "1.5621951219512196\n",
            "1.4343501326259946\n",
            "1.5179948586118253\n",
            "1.2911802853437095\n",
            "1.3119891008174387\n",
            "1.4728877679697352\n",
            "1.1707792207792207\n",
            "1.526829268292683\n",
            "1.5405927835051547\n",
            "1.5675990675990676\n",
            "1.3654088050314466\n",
            "1.5107238605898123\n",
            "1.3838926174496644\n",
            "1.5012531328320802\n",
            "1.3335579514824798\n",
            "1.4343832020997376\n",
            "1.5045691906005223\n",
            "1.3483290488431876\n",
            "1.1919191919191918\n",
            "1.4730238393977415\n",
            "1.494102228047182\n",
            "1.5086321381142098\n",
            "1.501930501930502\n",
            "1.5153940886699508\n",
            "1.4638709677419355\n",
            "1.633159268929504\n",
            "1.441772151898734\n",
            "1.419108280254777\n",
            "1.6947565543071161\n",
            "1.3209635416666667\n",
            "1.6134889753566797\n",
            "1.4976553341148886\n",
            "1.5071059431524547\n",
            "1.5382124352331605\n",
            "1.6513819095477387\n",
            "1.4638854296388544\n",
            "1.1153846153846154\n",
            "1.526774595267746\n",
            "1.5343074968233799\n",
            "1.8160994764397906\n",
            "1.3655352480417755\n",
            "1.4337194337194337\n",
            "1.4293893129770991\n",
            "1.2970360824742269\n",
            "1.402571041948579\n",
            "1.5635118306351183\n",
            "1.2156735751295338\n",
            "1.3267766497461928\n",
            "1.4404283801874163\n",
            "1.6360153256704981\n",
            "1.196870925684485\n",
            "1.3650895140664963\n",
            "1.4764705882352942\n",
            "1.3258145363408522\n",
            "1.2953964194373402\n",
            "1.3377358490566038\n",
            "1.2873711340206186\n",
            "1.332080200501253\n",
            "1.2736625514403292\n",
            "1.3278787878787879\n",
            "1.2925659472422062\n",
            "1.623796423658872\n",
            "1.2516556291390728\n",
            "1.3575794621026895\n",
            "1.2478097622027535\n",
            "1.513977128335451\n",
            "1.253721244925575\n",
            "1.625\n",
            "1.310846560846561\n",
            "1.3879892037786774\n",
            "1.3956185567010309\n",
            "1.1576517150395778\n",
            "1.4255583126550868\n"
          ]
        }
      ]
    },
    {
      "cell_type": "code",
      "metadata": {
        "id": "RUxTYhhv0TM5"
      },
      "source": [
        "test_pred = test_rd.map(lambda x: (x[0], predict(x[1:], w1_list[-1], b1_list[-1], w2_list[-1], b2_list[-1])))\\\n",
        "            .map(lambda x: (1, int(x[0] == np.argmax(x[1]))))\\\n",
        "            .reduce(lambda x, y: (x[0] + y[0], x[1]+y[1]))"
      ],
      "execution_count": null,
      "outputs": []
    },
    {
      "cell_type": "code",
      "metadata": {
        "colab": {
          "base_uri": "https://localhost:8080/"
        },
        "id": "f-qa76ZO8GHu",
        "outputId": "feafb9f4-b094-4048-bf9d-5d021843faac"
      },
      "source": [
        "test_pred[1]/test_pred[0]"
      ],
      "execution_count": null,
      "outputs": [
        {
          "output_type": "execute_result",
          "data": {
            "text/plain": [
              "0.7533"
            ]
          },
          "metadata": {},
          "execution_count": 39
        }
      ]
    },
    {
      "cell_type": "code",
      "metadata": {
        "id": "_ekJb8pn8Lru"
      },
      "source": [
        "max_ind = np.argmax(acc_list)"
      ],
      "execution_count": null,
      "outputs": []
    },
    {
      "cell_type": "code",
      "metadata": {
        "id": "rKmMns5J8RrR"
      },
      "source": [
        "test_pred1 = test_rd.map(lambda x: (x[0], predict(x[1:], w1_list[max_ind], b1_list[max_ind], w2_list[max_ind], b2_list[max_ind])))\\\n",
        "            .map(lambda x: (1, int(x[0] == np.argmax(x[1]))))\\\n",
        "            .reduce(lambda x, y: (x[0] + y[0], x[1]+y[1]))"
      ],
      "execution_count": null,
      "outputs": []
    },
    {
      "cell_type": "code",
      "metadata": {
        "id": "cdQu326c8WUu"
      },
      "source": [
        "accuracy = test_pred1[1]/test_pred1[0]"
      ],
      "execution_count": null,
      "outputs": []
    },
    {
      "cell_type": "code",
      "metadata": {
        "colab": {
          "base_uri": "https://localhost:8080/"
        },
        "id": "2M6hhCzA8b16",
        "outputId": "dd462725-014a-43b9-8a4a-2b230844a1e1"
      },
      "source": [
        "accuracy"
      ],
      "execution_count": null,
      "outputs": [
        {
          "output_type": "execute_result",
          "data": {
            "text/plain": [
              "0.7533"
            ]
          },
          "metadata": {},
          "execution_count": 43
        }
      ]
    },
    {
      "cell_type": "code",
      "metadata": {
        "colab": {
          "base_uri": "https://localhost:8080/",
          "height": 404
        },
        "id": "N9rbFsUE8c6c",
        "outputId": "4d6c602c-51db-460f-df1a-1c0ac08f59bb"
      },
      "source": [
        "import matplotlib.pyplot as plt\n",
        "plt.figure(figsize=(8, 6))\n",
        "plt.scatter(list(range(300)), cost_list)\n",
        "plt.title(\"Cost per Epoch\")\n",
        "plt.xlabel(\"Epochs\")\n",
        "plt.ylabel(\"Cost\")\n",
        "plt.show()"
      ],
      "execution_count": null,
      "outputs": [
        {
          "output_type": "display_data",
          "data": {
            "image/png": "[encoded data removed]",
            "text/plain": [
              "<Figure size 576x432 with 1 Axes>"
            ]
          },
          "metadata": {
            "needs_background": "light"
          }
        }
      ]
    },
    {
      "cell_type": "code",
      "metadata": {
        "colab": {
          "base_uri": "https://localhost:8080/",
          "height": 404
        },
        "id": "P3ritXRf8h2G",
        "outputId": "568d5e4e-7823-4acb-a04c-7d4c595fd4cc"
      },
      "source": [
        "plt.figure(figsize=(8, 6))\n",
        "plt.scatter(list(range(300)), acc_list)\n",
        "plt.title(\"Accuracy per Epoch\")\n",
        "plt.xlabel(\"Epochs\")\n",
        "plt.ylabel(\"Accuracy\")\n",
        "plt.show()"
      ],
      "execution_count": null,
      "outputs": [
        {
          "output_type": "display_data",
          "data": {
            "image/png": "[encoded data removed]",
            "text/plain": [
              "<Figure size 576x432 with 1 Axes>"
            ]
          },
          "metadata": {
            "needs_background": "light"
          }
        }
      ]
    },
    {
      "cell_type": "code",
      "metadata": {
        "id": "ytXPNoxf8r29"
      },
      "source": [
        ""
      ],
      "execution_count": null,
      "outputs": []
    }
  ]
}