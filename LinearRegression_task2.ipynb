{
  "nbformat": 4,
  "nbformat_minor": 0,
  "metadata": {
    "colab": {
      "name": "LinearRegression_task2.ipynb",
      "provenance": [],
      "collapsed_sections": [],
      "authorship_tag": "ABX9TyP5su8mO8rhaBSflcEi24SH",
      "include_colab_link": true
    },
    "kernelspec": {
      "name": "python3",
      "display_name": "Python 3"
    },
    "language_info": {
      "name": "python"
    }
  },
  "cells": [
    {
      "cell_type": "markdown",
      "metadata": {
        "id": "view-in-github",
        "colab_type": "text"
      },
      "source": [
        "<a href=\"https://colab.research.google.com/github/rashida048/ApacheSpark-BigDataAnalytics/blob/main/LinearRegression_task2.ipynb\" target=\"_parent\"><img src=\"https://colab.research.google.com/assets/colab-badge.svg\" alt=\"Open In Colab\"/></a>"
      ]
    },
    {
      "cell_type": "code",
      "metadata": {
        "colab": {
          "base_uri": "https://localhost:8080/"
        },
        "id": "YGxzscM5bl-C",
        "outputId": "ee9a61ea-7f23-4b3a-a6e1-722f18581f1c"
      },
      "source": [
        "!pip install pyspark"
      ],
      "execution_count": null,
      "outputs": [
        {
          "output_type": "stream",
          "name": "stdout",
          "text": [
            "Collecting pyspark\n",
            "  Downloading pyspark-3.1.2.tar.gz (212.4 MB)\n",
            "\u001b[K     |████████████████████████████████| 212.4 MB 60 kB/s \n",
            "\u001b[?25hCollecting py4j==0.10.9\n",
            "  Downloading py4j-0.10.9-py2.py3-none-any.whl (198 kB)\n",
            "\u001b[K     |████████████████████████████████| 198 kB 52.5 MB/s \n",
            "\u001b[?25hBuilding wheels for collected packages: pyspark\n",
            "  Building wheel for pyspark (setup.py) ... \u001b[?25l\u001b[?25hdone\n",
            "  Created wheel for pyspark: filename=pyspark-3.1.2-py2.py3-none-any.whl size=212880768 sha256=731cbe522f9ffb07d17cab43b25cf9084ce77d88456a0b1d1645ec0c8804d505\n",
            "  Stored in directory: /root/.cache/pip/wheels/a5/0a/c1/9561f6fecb759579a7d863dcd846daaa95f598744e71b02c77\n",
            "Successfully built pyspark\n",
            "Installing collected packages: py4j, pyspark\n",
            "Successfully installed py4j-0.10.9 pyspark-3.1.2\n"
          ]
        }
      ]
    },
    {
      "cell_type": "code",
      "metadata": {
        "id": "gRomkG5bcyTY"
      },
      "source": [
        "from pyspark import SparkContext\n",
        "sc = SparkContext.getOrCreate()"
      ],
      "execution_count": null,
      "outputs": []
    },
    {
      "cell_type": "code",
      "metadata": {
        "id": "NA8D2RZGc2JS"
      },
      "source": [
        "rd = sc.textFile(\"taxi-data-sorted-small.csv.bz2\")"
      ],
      "execution_count": null,
      "outputs": []
    },
    {
      "cell_type": "code",
      "metadata": {
        "id": "Q-q4aKWMdACf"
      },
      "source": [
        "words = rd.map(lambda x: x.split(','))"
      ],
      "execution_count": null,
      "outputs": []
    },
    {
      "cell_type": "code",
      "metadata": {
        "id": "85aM3gRsdCBT"
      },
      "source": [
        "def isfloat(value):\n",
        "    try:\n",
        "        float(value)\n",
        "        return True\n",
        "    except:\n",
        "        return False"
      ],
      "execution_count": null,
      "outputs": []
    },
    {
      "cell_type": "code",
      "metadata": {
        "id": "lol3826VdFiJ"
      },
      "source": [
        "def correctRows(p):\n",
        "    if(len(p)==17):\n",
        "        if(isfloat(p[5]) and isfloat(p[11])):\n",
        "            if(float(p[5]) !=0 and float(p[11]) !=0):\n",
        "                return p"
      ],
      "execution_count": null,
      "outputs": []
    },
    {
      "cell_type": "markdown",
      "metadata": {
        "id": "ZiQAtyJgpIQ0"
      },
      "source": [
        ""
      ]
    },
    {
      "cell_type": "code",
      "metadata": {
        "id": "EJ9YzlJTdHQr"
      },
      "source": [
        "wordsCorr = words.filter(lambda x: correctRows(x))"
      ],
      "execution_count": null,
      "outputs": []
    },
    {
      "cell_type": "code",
      "metadata": {
        "id": "cZVBhYcNdIq8"
      },
      "source": [
        "dist_fair = wordsCorr.map(lambda x: (float(x[5]), float(x[11])))"
      ],
      "execution_count": null,
      "outputs": []
    },
    {
      "cell_type": "code",
      "metadata": {
        "id": "b36gTez1ds4q"
      },
      "source": [
        "n = dist_fair.count()"
      ],
      "execution_count": null,
      "outputs": []
    },
    {
      "cell_type": "code",
      "metadata": {
        "colab": {
          "base_uri": "https://localhost:8080/"
        },
        "id": "oOkT1rMHdzSl",
        "outputId": "d3a0c829-890c-4bcd-ad64-322722b7c44a"
      },
      "source": [
        "m = 0.1\n",
        "b = 0.1\n",
        "lr = 0.001\n",
        "\n",
        "precision = 0.001\n",
        "#n = 5000\n",
        "const = -2/n\n",
        "\n",
        "\n",
        "cost_list = []\n",
        "m_list = [0.1]\n",
        "b_list = [0.1]\n",
        "\n",
        "for i in range(5):\n",
        "  l = dist_fair.map(lambda x: (x[1] - (m*x[0] + b))**2).reduce(lambda x, y: x+y)\n",
        "  #l = dist_fair.map(lambda x: (y_pred(x, m, b))**2).reduce(lambda x, y: x+y)\n",
        "  #y_pred = dist_fair.map(lambda x: m*x[0] + b)\n",
        "  del_m = dist_fair.map(lambda x: x[0] * (x[1] - (m*x[0] + b))).reduce(lambda x, y: x+y)\n",
        "  m_cost = del_m*const\n",
        "  del_b = dist_fair.map(lambda x: x[1] - (m*x[0] + b)).reduce(lambda x, y: x+y)\n",
        "  b_cost = del_b*const\n",
        "  m -= m_cost*lr\n",
        "  #print(m)\n",
        "  b -= b_cost*lr\n",
        "  l = dist_fair.map(lambda x: (x[1] - (m*x[0] + b))**2).reduce(lambda x, y: x+y)\n",
        "  print(l)\n",
        "  m_list.append(m)\n",
        "  b_list.append(b)\n",
        "\n",
        "  if (abs(l - cost_list[-1]) <= precision):\n",
        "    print(\"stopped at iteration\", i)\n",
        "    break\n",
        "  cost_list.append(l)\n",
        "total_list = (m_list, b_list, cost_list)"
      ],
      "execution_count": null,
      "outputs": [
        {
          "output_type": "stream",
          "name": "stdout",
          "text": [
            "403452654.4420173\n",
            "373247426.35937595\n",
            "345488914.6984174\n",
            "319978736.2523405\n",
            "296534593.4419462\n"
          ]
        }
      ]
    },
    {
      "cell_type": "code",
      "metadata": {
        "id": "_F7tdzNl2clw"
      },
      "source": [
        ""
      ],
      "execution_count": null,
      "outputs": []
    }
  ]
}