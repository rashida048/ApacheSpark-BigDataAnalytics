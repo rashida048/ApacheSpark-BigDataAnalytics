{
  "nbformat": 4,
  "nbformat_minor": 0,
  "metadata": {
    "colab": {
      "name": "Calculating_parameters_with_formulas_linear_reg.ipynb",
      "provenance": [],
      "authorship_tag": "ABX9TyNhbnNnQXGfRK+AyXFTit0r",
      "include_colab_link": true
    },
    "kernelspec": {
      "name": "python3",
      "display_name": "Python 3"
    },
    "language_info": {
      "name": "python"
    }
  },
  "cells": [
    {
      "cell_type": "markdown",
      "metadata": {
        "id": "view-in-github",
        "colab_type": "text"
      },
      "source": [
        "<a href=\"https://colab.research.google.com/github/rashida048/ApacheSpark-BigDataAnalytics/blob/main/Calculating_parameters_with_formulas_linear_reg.ipynb\" target=\"_parent\"><img src=\"https://colab.research.google.com/assets/colab-badge.svg\" alt=\"Open In Colab\"/></a>"
      ]
    },
    {
      "cell_type": "code",
      "metadata": {
        "colab": {
          "base_uri": "https://localhost:8080/"
        },
        "id": "w8qlRkMx8e0B",
        "outputId": "54a5215c-235f-457e-baa7-5986fe2f9b79"
      },
      "source": [
        "!pip install pyspark"
      ],
      "execution_count": null,
      "outputs": [
        {
          "output_type": "stream",
          "name": "stdout",
          "text": [
            "Collecting pyspark\n",
            "  Downloading pyspark-3.1.2.tar.gz (212.4 MB)\n",
            "\u001b[K     |████████████████████████████████| 212.4 MB 61 kB/s \n",
            "\u001b[?25hCollecting py4j==0.10.9\n",
            "  Downloading py4j-0.10.9-py2.py3-none-any.whl (198 kB)\n",
            "\u001b[K     |████████████████████████████████| 198 kB 52.5 MB/s \n",
            "\u001b[?25hBuilding wheels for collected packages: pyspark\n",
            "  Building wheel for pyspark (setup.py) ... \u001b[?25l\u001b[?25hdone\n",
            "  Created wheel for pyspark: filename=pyspark-3.1.2-py2.py3-none-any.whl size=212880768 sha256=9b7001d5dcd36308de1302f504148310ef1d0949bbe396af2183cdf1b9a3b0d8\n",
            "  Stored in directory: /root/.cache/pip/wheels/a5/0a/c1/9561f6fecb759579a7d863dcd846daaa95f598744e71b02c77\n",
            "Successfully built pyspark\n",
            "Installing collected packages: py4j, pyspark\n",
            "Successfully installed py4j-0.10.9 pyspark-3.1.2\n"
          ]
        }
      ]
    },
    {
      "cell_type": "code",
      "metadata": {
        "id": "jJVqJaEd8g12"
      },
      "source": [
        "from pyspark import SparkContext\n",
        "sc = SparkContext.getOrCreate()"
      ],
      "execution_count": null,
      "outputs": []
    },
    {
      "cell_type": "code",
      "metadata": {
        "id": "eN6M--_y9Z92"
      },
      "source": [
        "rd = sc.textFile(\"taxi-data-sorted-small.csv.bz2\")"
      ],
      "execution_count": null,
      "outputs": []
    },
    {
      "cell_type": "code",
      "metadata": {
        "colab": {
          "base_uri": "https://localhost:8080/"
        },
        "id": "ZTrEP2lI9ta7",
        "outputId": "50e0fadb-01a5-4cf2-f9e4-7b26a24f3b30"
      },
      "source": [
        "rd.take(3)"
      ],
      "execution_count": null,
      "outputs": [
        {
          "output_type": "execute_result",
          "data": {
            "text/plain": [
              "['07290D3599E7A0D62097A346EFCC1FB5,E7750A37CAB07D0DFF0AF7E3573AC141,2013-01-01 00:00:00,2013-01-01 00:02:00,120,0.44,-73.956528,40.716976,-73.962440,40.715008,CSH,3.50,0.50,0.50,0.00,0.00,4.50',\n",
              " '22D70BF00EEB0ADC83BA8177BB861991,3FF2709163DE7036FCAA4E5A3324E4BF,2013-01-01 00:02:00,2013-01-01 00:02:00,0,0.00,0.000000,0.000000,0.000000,0.000000,CSH,27.00,0.00,0.50,0.00,0.00,27.50',\n",
              " '0EC22AAF491A8BD91F279350C2B010FD,778C92B26AE78A9EBDF96B49C67E4007,2013-01-01 00:01:00,2013-01-01 00:03:00,120,0.71,-73.973145,40.752827,-73.965897,40.760445,CSH,4.00,0.50,0.50,0.00,0.00,5.00']"
            ]
          },
          "metadata": {},
          "execution_count": 5
        }
      ]
    },
    {
      "cell_type": "code",
      "metadata": {
        "id": "bKcwxJ6N9wKP"
      },
      "source": [
        "words = rd.map(lambda x: x.split(','))"
      ],
      "execution_count": null,
      "outputs": []
    },
    {
      "cell_type": "code",
      "metadata": {
        "colab": {
          "base_uri": "https://localhost:8080/"
        },
        "id": "VeKS-jJ5-ilf",
        "outputId": "ecbf128d-1e7d-475d-84c6-057326848557"
      },
      "source": [
        "words.count()"
      ],
      "execution_count": null,
      "outputs": [
        {
          "output_type": "execute_result",
          "data": {
            "text/plain": [
              "88914"
            ]
          },
          "metadata": {},
          "execution_count": 7
        }
      ]
    },
    {
      "cell_type": "code",
      "metadata": {
        "id": "-agypJSv_nGN"
      },
      "source": [
        "def isfloat(value):\n",
        "    try:\n",
        "        float(value)\n",
        "        return True\n",
        "    except:\n",
        "        return False"
      ],
      "execution_count": null,
      "outputs": []
    },
    {
      "cell_type": "code",
      "metadata": {
        "id": "RFL8qH9B_GL2"
      },
      "source": [
        "def correctRows(p):\n",
        "    if(len(p)==17):\n",
        "        if(isfloat(p[5]) and isfloat(p[11])):\n",
        "            if(float(p[5]) !=0 and float(p[11]) !=0):\n",
        "                return p"
      ],
      "execution_count": null,
      "outputs": []
    },
    {
      "cell_type": "code",
      "metadata": {
        "id": "5sygu3bo-1Yn"
      },
      "source": [
        "wordsCorr = words.filter(lambda x: correctRows(x))"
      ],
      "execution_count": null,
      "outputs": []
    },
    {
      "cell_type": "code",
      "metadata": {
        "colab": {
          "base_uri": "https://localhost:8080/"
        },
        "id": "lMHezLG8_SnC",
        "outputId": "a6309406-b110-48c2-d321-c7d285d2b383"
      },
      "source": [
        "wordsCorr.count()"
      ],
      "execution_count": null,
      "outputs": [
        {
          "output_type": "execute_result",
          "data": {
            "text/plain": [
              "88131"
            ]
          },
          "metadata": {},
          "execution_count": 11
        }
      ]
    },
    {
      "cell_type": "code",
      "metadata": {
        "id": "lvsfjyPb_UpX"
      },
      "source": [
        "dist_fair = wordsCorr.map(lambda x: (float(x[5]), float(x[16])))"
      ],
      "execution_count": null,
      "outputs": []
    },
    {
      "cell_type": "code",
      "metadata": {
        "colab": {
          "base_uri": "https://localhost:8080/"
        },
        "id": "pfgC5zYqHNZ7",
        "outputId": "ae0b9c16-267d-457c-9bb1-4aeba0c641b8"
      },
      "source": [
        "dist_fair.take(3)"
      ],
      "execution_count": null,
      "outputs": [
        {
          "output_type": "execute_result",
          "data": {
            "text/plain": [
              "[(0.44, 4.5), (0.71, 5.0), (0.48, 5.0)]"
            ]
          },
          "metadata": {},
          "execution_count": 14
        }
      ]
    },
    {
      "cell_type": "code",
      "metadata": {
        "id": "e559WQlDHO1R"
      },
      "source": [
        "xsum_ysum = dist_fair.reduce(lambda x, y: ((x[0] + y[0]), (x[1] + y[1])))"
      ],
      "execution_count": null,
      "outputs": []
    },
    {
      "cell_type": "code",
      "metadata": {
        "id": "D2lwifpeIetF"
      },
      "source": [
        "nxy = dist_fair.map(lambda x: x[0] * x[1]).reduce(lambda x, y: x+y)"
      ],
      "execution_count": null,
      "outputs": []
    },
    {
      "cell_type": "code",
      "metadata": {
        "colab": {
          "base_uri": "https://localhost:8080/"
        },
        "id": "0IRvHVtTIvCu",
        "outputId": "714e7587-40ec-4247-d67d-bcd9d28afca2"
      },
      "source": [
        "nxy"
      ],
      "execution_count": null,
      "outputs": [
        {
          "output_type": "execute_result",
          "data": {
            "text/plain": [
              "155936189.45189738"
            ]
          },
          "metadata": {},
          "execution_count": 16
        }
      ]
    },
    {
      "cell_type": "code",
      "metadata": {
        "id": "66CFmm-9I3JU"
      },
      "source": [
        "n_x_sqrd = dist_fair.map(lambda x: x[0]**2).reduce(lambda x, y: x+y)"
      ],
      "execution_count": null,
      "outputs": []
    },
    {
      "cell_type": "code",
      "metadata": {
        "colab": {
          "base_uri": "https://localhost:8080/"
        },
        "id": "u78IHM8cKNgL",
        "outputId": "cea4d3b9-9cd5-43e3-dc4d-946d3d894263"
      },
      "source": [
        "n_x_sqrd"
      ],
      "execution_count": null,
      "outputs": [
        {
          "output_type": "execute_result",
          "data": {
            "text/plain": [
              "40345270.133203365"
            ]
          },
          "metadata": {},
          "execution_count": 18
        }
      ]
    },
    {
      "cell_type": "code",
      "metadata": {
        "id": "Y5hoPOJILTDE"
      },
      "source": [
        "n = dist_fair.count()"
      ],
      "execution_count": null,
      "outputs": []
    },
    {
      "cell_type": "code",
      "metadata": {
        "id": "3F2xe-24KZh_"
      },
      "source": [
        "m = (nxy*n - xsum_ysum[0]*xsum_ysum[1])/(n_x_sqrd*n - xsum_ysum[0]**2)"
      ],
      "execution_count": null,
      "outputs": []
    },
    {
      "cell_type": "code",
      "metadata": {
        "colab": {
          "base_uri": "https://localhost:8080/"
        },
        "id": "PXTabMrlLKmA",
        "outputId": "e7caa950-3d8a-4eca-fcaa-a570c1ad8578"
      },
      "source": [
        "m"
      ],
      "execution_count": null,
      "outputs": [
        {
          "output_type": "execute_result",
          "data": {
            "text/plain": [
              "3.1695880607501863"
            ]
          },
          "metadata": {},
          "execution_count": 21
        }
      ]
    },
    {
      "cell_type": "code",
      "metadata": {
        "id": "wUT7C7MJLK9E"
      },
      "source": [
        "b = (n_x_sqrd*n - xsum_ysum[0]*nxy) / (n*n_x_sqrd - (xsum_ysum[0])**2)"
      ],
      "execution_count": null,
      "outputs": []
    },
    {
      "cell_type": "code",
      "metadata": {
        "colab": {
          "base_uri": "https://localhost:8080/"
        },
        "id": "nE7I09iILy0f",
        "outputId": "0e9b7f7c-cd29-410d-a6cf-a276ed6e0661"
      },
      "source": [
        "b"
      ],
      "execution_count": null,
      "outputs": [
        {
          "output_type": "execute_result",
          "data": {
            "text/plain": [
              "-17.50932836704813"
            ]
          },
          "metadata": {},
          "execution_count": 23
        }
      ]
    },
    {
      "cell_type": "code",
      "metadata": {
        "id": "vDCv40OYLzPm"
      },
      "source": [
        ""
      ],
      "execution_count": null,
      "outputs": []
    },
    {
      "cell_type": "markdown",
      "metadata": {
        "id": "1-GYC2-eL1j0"
      },
      "source": [
        "Task - 2"
      ]
    },
    {
      "cell_type": "code",
      "metadata": {
        "id": "ZC0MnoS5L4Ar"
      },
      "source": [
        "m = 0.1\n",
        "b = 0.1\n",
        "lr = 0.0000001\n",
        "iter = 50\n",
        "\n",
        "precision = 0.01\n",
        "n = 5000\n",
        "const = -2/n"
      ],
      "execution_count": null,
      "outputs": []
    },
    {
      "cell_type": "code",
      "metadata": {
        "colab": {
          "base_uri": "https://localhost:8080/"
        },
        "id": "Mb5rX46GY5sN",
        "outputId": "22d69cf8-591d-4e19-b862-f42ba4a517aa"
      },
      "source": [
        "const"
      ],
      "execution_count": null,
      "outputs": [
        {
          "output_type": "execute_result",
          "data": {
            "text/plain": [
              "-0.0004"
            ]
          },
          "metadata": {},
          "execution_count": 55
        }
      ]
    },
    {
      "cell_type": "code",
      "metadata": {
        "colab": {
          "base_uri": "https://localhost:8080/"
        },
        "id": "kw4H5Tj8G9rZ",
        "outputId": "2fc694b0-ff8c-450e-fea9-366d40a10d95"
      },
      "source": [
        "dist_fair.map(lambda x: (x[1] - (m*x[0] + b)**2)).reduce(lambda x, y: x+y)"
      ],
      "execution_count": null,
      "outputs": [
        {
          "output_type": "execute_result",
          "data": {
            "text/plain": [
              "-8.267038260208586e+129"
            ]
          },
          "metadata": {},
          "execution_count": 32
        }
      ]
    },
    {
      "cell_type": "code",
      "metadata": {
        "colab": {
          "base_uri": "https://localhost:8080/"
        },
        "id": "54_jMt9Lar9B",
        "outputId": "91570952-eafb-4ddb-b5cb-60a0d6c84cd4"
      },
      "source": [
        "dist_fair.take(3)"
      ],
      "execution_count": null,
      "outputs": [
        {
          "output_type": "execute_result",
          "data": {
            "text/plain": [
              "[(0.44, 4.5), (0.71, 5.0), (0.48, 5.0)]"
            ]
          },
          "metadata": {},
          "execution_count": 49
        }
      ]
    },
    {
      "cell_type": "code",
      "metadata": {
        "id": "q22hxwC-JZ6k"
      },
      "source": [
        "def y_pred(x, m, b):\n",
        "  return (x[1] - (m*x[0] + b))"
      ],
      "execution_count": null,
      "outputs": []
    },
    {
      "cell_type": "code",
      "metadata": {
        "id": "msvEsdvucTTX"
      },
      "source": [
        "sample = dist_fair.sample(False, 5000)"
      ],
      "execution_count": null,
      "outputs": []
    },
    {
      "cell_type": "code",
      "metadata": {
        "colab": {
          "base_uri": "https://localhost:8080/"
        },
        "id": "fKWIxeoTpuhv",
        "outputId": "85799947-65f7-41ed-d473-72c63d420881"
      },
      "source": [
        "init_cost = sample.map(lambda x: (x[1] - (m*x[0] + b)**2)).reduce(lambda x, y: x+y)\n",
        "cost_list = [init_cost]\n",
        "m_list = [0.1]\n",
        "b_list = [0.1]\n",
        "for i in range(4):\n",
        "  #l = dist_fair.map(lambda x: (y_pred(x, m, b))**2).reduce(lambda x, y: x+y)\n",
        "  del_m = (sample.map(lambda x: x[0] * y_pred(x, m, b)).reduce(lambda x, y: x+y))\n",
        "  m_cost = del_m*const\n",
        "  del_b = (sample.map(lambda x: y_pred(x, m, b)).reduce(lambda x, y: x+y))\n",
        "  b_cost = del_b*const\n",
        "  m -= m_cost\n",
        "  print(m)\n",
        "  b -= del_b\n",
        "  l = sample.map(lambda x: (y_pred(x, m, b))**2).reduce(lambda x, y: x+y)\n",
        "  m_list.append(m)\n",
        "  b_list.append(b)\n",
        "  cost_list.append(l)\n",
        "total_list = (m_list, b_list, cost_list)"
      ],
      "execution_count": null,
      "outputs": [
        {
          "output_type": "stream",
          "name": "stdout",
          "text": [
            "5.220511110987752e+27\n",
            "4.1463254961886867e+33\n",
            "3.2931670419565763e+39\n",
            "2.6155566359113865e+45\n"
          ]
        }
      ]
    },
    {
      "cell_type": "code",
      "metadata": {
        "colab": {
          "base_uri": "https://localhost:8080/"
        },
        "id": "KQRo2zH0eQar",
        "outputId": "e45b4f88-1719-42c8-ddbd-1c008f73ad8c"
      },
      "source": [
        "m = 0.1\n",
        "b = 0.1\n",
        "lr = 0.0000001\n",
        "iter = 50\n",
        "\n",
        "precision = 0.01\n",
        "n = 5000\n",
        "const = -2/n\n",
        "\n",
        "for i in range(4):\n",
        "  #l = dist_fair.map(lambda x: (y_pred(x, m, b))**2).reduce(lambda x, y: x+y)\n",
        "  del_m = (sample.map(lambda x: x[0] * (x[1] - (m*x[0] + b))).reduce(lambda x, y: x+y))\n",
        "  m_cost = del_m*const\n",
        "  del_b = (sample.map(lambda x: x[1] - (m*x[0] + b)).reduce(lambda x, y: x+y))\n",
        "  b_cost = del_b*const*lr\n",
        "  m -= m_cost*lr\n",
        "  #print(m)\n",
        "  b -= del_b*lr\n",
        "  l = sample.map(lambda x: (x[1] - (m*x[0] + b))**2).reduce(lambda x, y: x+y)\n",
        "  print(l)\n",
        "  m_list.append(m)\n",
        "  b_list.append(b)\n",
        "  cost_list.append(l)\n",
        "total_list1 = (m_list, b_list, cost_list)"
      ],
      "execution_count": null,
      "outputs": [
        {
          "output_type": "stream",
          "name": "stdout",
          "text": [
            "284271292.61326194\n",
            "313228611.598402\n",
            "346981573.5382645\n",
            "386322193.84333074\n"
          ]
        }
      ]
    },
    {
      "cell_type": "code",
      "metadata": {
        "colab": {
          "base_uri": "https://localhost:8080/"
        },
        "id": "KMrgGK1tNG25",
        "outputId": "4ad13708-4d0e-44b8-a06d-f0886bf88c9d"
      },
      "source": [
        "total_list[1]"
      ],
      "execution_count": null,
      "outputs": [
        {
          "output_type": "execute_result",
          "data": {
            "text/plain": [
              "[0.1,\n",
              " -11004807.721000267,\n",
              " -8710276639456.543,\n",
              " -6.918153344075773e+18,\n",
              " -5.49465603830104e+24]"
            ]
          },
          "metadata": {},
          "execution_count": 59
        }
      ]
    },
    {
      "cell_type": "code",
      "metadata": {
        "colab": {
          "base_uri": "https://localhost:8080/"
        },
        "id": "DLC6VDDffgP5",
        "outputId": "0df8ecf6-d1cf-4841-ca8e-de02639a4542"
      },
      "source": [
        "m = 0.1\n",
        "b = 0.1\n",
        "lr = 0.0000001\n",
        "iter = 50\n",
        "\n",
        "precision = 0.01\n",
        "n = 5000\n",
        "const = -2/n\n",
        "\n",
        "for i in range(4):\n",
        "  #l = dist_fair.map(lambda x: (y_pred(x, m, b))**2).reduce(lambda x, y: x+y)\n",
        "  del_m = (sample.map(lambda x: x[0] * (x[1] - (m*x[0] + b))).reduce(lambda x, y: x+y))\n",
        "  m_cost = del_m*const\n",
        "  del_b = (sample.map(lambda x: x[1] - (m*x[0] + b)).reduce(lambda x, y: x+y))\n",
        "  b_cost = del_b*const*lr\n",
        "  m += m_cost*lr\n",
        "  #print(m)\n",
        "  b += del_b*lr\n",
        "  l = sample.map(lambda x: (x[1] - (m*x[0] + b))**2).reduce(lambda x, y: x+y)\n",
        "  print(l)\n",
        "  m_list.append(m)\n",
        "  b_list.append(b)\n",
        "  cost_list.append(l)\n",
        "total_list = (m_list, b_list, cost_list)"
      ],
      "execution_count": null,
      "outputs": [
        {
          "output_type": "stream",
          "name": "stdout",
          "text": [
            "236492182.98441684\n",
            "217065593.68204433\n",
            "200614528.64764398\n",
            "186685114.0097357\n"
          ]
        }
      ]
    },
    {
      "cell_type": "code",
      "metadata": {
        "id": "y0APN7kxXcRN"
      },
      "source": [
        ""
      ],
      "execution_count": null,
      "outputs": []
    },
    {
      "cell_type": "code",
      "metadata": {
        "colab": {
          "base_uri": "https://localhost:8080/"
        },
        "id": "DS6UnHofi1hs",
        "outputId": "0c27f87c-95c0-461a-cbec-a52acad41bee"
      },
      "source": [
        "total_list[2][-4:]"
      ],
      "execution_count": null,
      "outputs": [
        {
          "output_type": "execute_result",
          "data": {
            "text/plain": [
              "[236492182.98441684, 217065593.68204433, 200614528.64764398, 186685114.0097357]"
            ]
          },
          "metadata": {},
          "execution_count": 71
        }
      ]
    },
    {
      "cell_type": "code",
      "metadata": {
        "colab": {
          "base_uri": "https://localhost:8080/",
          "height": 276
        },
        "id": "3xazJ27_W1lF",
        "outputId": "c9d296d7-4a57-4157-9155-20d205bb147c"
      },
      "source": [
        "import matplotlib.pyplot as plt\n",
        "plt.plot(list(range(4)), total_list[2][-4:])\n",
        "plt.show()"
      ],
      "execution_count": null,
      "outputs": [
        {
          "output_type": "display_data",
          "data": {
            "image/png": "[encoded data removed]",
            "text/plain": [
              "<Figure size 432x288 with 1 Axes>"
            ]
          },
          "metadata": {
            "needs_background": "light"
          }
        }
      ]
    },
    {
      "cell_type": "code",
      "metadata": {
        "colab": {
          "base_uri": "https://localhost:8080/"
        },
        "id": "OeZGcsdMXBAr",
        "outputId": "50baf6ca-8e13-4b4e-e448-6ab9e54e9794"
      },
      "source": [
        "list(range(10))"
      ],
      "execution_count": null,
      "outputs": [
        {
          "output_type": "execute_result",
          "data": {
            "text/plain": [
              "[0, 1, 2, 3, 4, 5, 6, 7, 8, 9]"
            ]
          },
          "metadata": {},
          "execution_count": 40
        }
      ]
    },
    {
      "cell_type": "markdown",
      "metadata": {
        "id": "7qgBREU7cZT5"
      },
      "source": [
        "\"Task-2 Final"
      ]
    },
    {
      "cell_type": "code",
      "metadata": {
        "colab": {
          "base_uri": "https://localhost:8080/"
        },
        "id": "AfOAqkvBXKTV",
        "outputId": "b73b4c6c-b59f-4a32-e374-de34321cd5e5"
      },
      "source": [
        "m = 0.1\n",
        "b = 0.1\n",
        "lr = 0.0000001\n",
        "iter = 50\n",
        "\n",
        "precision = 0.01\n",
        "n = 5000\n",
        "const = -2/n\n",
        "\n",
        "init_cost = sample.map(lambda x: (x[1] - (m*x[0] + b)**2)).reduce(lambda x, y: x+y)\n",
        "cost_list = [init_cost]\n",
        "m_list = [0.1]\n",
        "b_list = [0.1]\n",
        "\n",
        "for i in range(4):\n",
        "  #l = dist_fair.map(lambda x: (y_pred(x, m, b))**2).reduce(lambda x, y: x+y)\n",
        "  del_m = (sample.map(lambda x: x[0] * (x[1] - (m*x[0] + b))).reduce(lambda x, y: x+y))\n",
        "  m_cost = del_m*const\n",
        "  del_b = (sample.map(lambda x: x[1] - (m*x[0] + b)).reduce(lambda x, y: x+y))\n",
        "  b_cost = del_b*const*lr\n",
        "  m += m_cost*lr\n",
        "  #print(m)\n",
        "  b += del_b*lr\n",
        "  l = sample.map(lambda x: (x[1] - (m*x[0] + b))**2).reduce(lambda x, y: x+y)\n",
        "  print(l)\n",
        "  m_list.append(m)\n",
        "  b_list.append(b)\n",
        "  cost_list.append(l)\n",
        "\n",
        "  if (abs(l - cost_list[-1]) <= precision):\n",
        "    print(\"stopped at iteration\", i)\n",
        "    break\n",
        "total_list2 = (m_list, b_list, cost_list)"
      ],
      "execution_count": null,
      "outputs": [
        {
          "output_type": "stream",
          "name": "stdout",
          "text": [
            "616977433.2756842\n",
            "609680265.9801512\n",
            "602844544.0476701\n",
            "596459498.6489408\n"
          ]
        }
      ]
    },
    {
      "cell_type": "markdown",
      "metadata": {
        "id": "-5iAr1fyclMV"
      },
      "source": [
        "Task 3"
      ]
    },
    {
      "cell_type": "code",
      "metadata": {
        "colab": {
          "base_uri": "https://localhost:8080/"
        },
        "id": "cYmb-lLcmrzv",
        "outputId": "9a708818-60b8-4dfe-a145-cee5e72cf87f"
      },
      "source": [
        "rd.take(2)"
      ],
      "execution_count": null,
      "outputs": [
        {
          "output_type": "execute_result",
          "data": {
            "text/plain": [
              "['07290D3599E7A0D62097A346EFCC1FB5,E7750A37CAB07D0DFF0AF7E3573AC141,2013-01-01 00:00:00,2013-01-01 00:02:00,120,0.44,-73.956528,40.716976,-73.962440,40.715008,CSH,3.50,0.50,0.50,0.00,0.00,4.50',\n",
              " '22D70BF00EEB0ADC83BA8177BB861991,3FF2709163DE7036FCAA4E5A3324E4BF,2013-01-01 00:02:00,2013-01-01 00:02:00,0,0.00,0.000000,0.000000,0.000000,0.000000,CSH,27.00,0.00,0.50,0.00,0.00,27.50']"
            ]
          },
          "metadata": {},
          "execution_count": 12
        }
      ]
    },
    {
      "cell_type": "code",
      "metadata": {
        "id": "HCv_czQnnZMS"
      },
      "source": [
        ""
      ],
      "execution_count": null,
      "outputs": []
    },
    {
      "cell_type": "code",
      "metadata": {
        "id": "Nvz80YowcniV"
      },
      "source": [
        "five_feat = wordsCorr.map(lambda x: (float(x[4])/3600, float(x[5]), float(x[16])/(float(x[11]) + float(x[14])), float(x[15]), float(x[13]), float(x[16])))"
      ],
      "execution_count": null,
      "outputs": []
    },
    {
      "cell_type": "code",
      "metadata": {
        "colab": {
          "base_uri": "https://localhost:8080/"
        },
        "id": "llvDgHWnnuo8",
        "outputId": "fb457617-1aab-4d29-a551-d9d4aeb85398"
      },
      "source": [
        "five_feat.take(3)"
      ],
      "execution_count": null,
      "outputs": [
        {
          "output_type": "execute_result",
          "data": {
            "text/plain": [
              "[(0.03333333333333333, 0.44, 1.2857142857142858, 0.0, 0.5, 4.5),\n",
              " (0.03333333333333333, 0.71, 1.25, 0.0, 0.5, 5.0),\n",
              " (0.03333333333333333, 0.48, 1.25, 0.0, 0.5, 5.0)]"
            ]
          },
          "metadata": {},
          "execution_count": 14
        }
      ]
    },
    {
      "cell_type": "code",
      "metadata": {
        "colab": {
          "base_uri": "https://localhost:8080/"
        },
        "id": "Jefs97atiJXq",
        "outputId": "b2f6e4ac-6696-4f09-f050-da7f0ab7ec0a"
      },
      "source": [
        "five_feat.count()"
      ],
      "execution_count": null,
      "outputs": [
        {
          "output_type": "execute_result",
          "data": {
            "text/plain": [
              "88131"
            ]
          },
          "metadata": {},
          "execution_count": 40
        }
      ]
    },
    {
      "cell_type": "code",
      "metadata": {
        "id": "hR95_6yZiMCn"
      },
      "source": [
        "sample = five_feat.sample(False, 1000)"
      ],
      "execution_count": null,
      "outputs": []
    },
    {
      "cell_type": "markdown",
      "metadata": {
        "id": "RDmHqw2l8DjN"
      },
      "source": [
        ""
      ]
    },
    {
      "cell_type": "code",
      "metadata": {
        "colab": {
          "base_uri": "https://localhost:8080/",
          "height": 248
        },
        "id": "ny0QotLyy7Qx",
        "outputId": "8badbcbf-98a1-457c-a993-0af0ac85d405"
      },
      "source": [
        "m = 0.1\n",
        "b = 0.1\n",
        "lr = 0.0000001\n",
        "iter = 50\n",
        "\n",
        "precision = 0.01\n",
        "n = 1000\n",
        "const = -2/n\n",
        "\n",
        "for i in range(4):\n",
        "  #l = dist_fair.map(lambda x: (y_pred(x, m, b))**2).reduce(lambda x, y: x+y)\n",
        "  del_m = (sample.map(lambda x: x[0] * (x[1] - (m*x[0] + b))).reduce(lambda x, y: x+y))\n",
        "  m_cost = del_m*const\n",
        "  del_b = (sample.map(lambda x: x[1] - (m*x[0] + b)).reduce(lambda x, y: x+y))\n",
        "  b_cost = del_b*const*lr\n",
        "  m += m_cost*lr\n",
        "  #print(m)\n",
        "  b += del_b*lr\n",
        "  l = sample.map(lambda x: (x[1] - (m*x[0] + b))**2).reduce(lambda x, y: x+y)\n",
        "  print(l)\n",
        "  m_list.append(m)\n",
        "  b_list.append(b)\n",
        "  cost_list.append(l)\n",
        "\n",
        "  if (abs(l - cost_list[-1]) <= precision):\n",
        "    print(\"stopped at iteration\", i)\n",
        "    break\n",
        "total_list2 = (m_list, b_list, cost_list)"
      ],
      "execution_count": null,
      "outputs": [
        {
          "output_type": "stream",
          "name": "stdout",
          "text": [
            "2051694.3305769898\n"
          ]
        },
        {
          "output_type": "error",
          "ename": "NameError",
          "evalue": "ignored",
          "traceback": [
            "\u001b[0;31m---------------------------------------------------------------------------\u001b[0m",
            "\u001b[0;31mNameError\u001b[0m                                 Traceback (most recent call last)",
            "\u001b[0;32m<ipython-input-42-dd4e3c10f57b>\u001b[0m in \u001b[0;36m<module>\u001b[0;34m()\u001b[0m\n\u001b[1;32m     19\u001b[0m   \u001b[0ml\u001b[0m \u001b[0;34m=\u001b[0m \u001b[0msample\u001b[0m\u001b[0;34m.\u001b[0m\u001b[0mmap\u001b[0m\u001b[0;34m(\u001b[0m\u001b[0;32mlambda\u001b[0m \u001b[0mx\u001b[0m\u001b[0;34m:\u001b[0m \u001b[0;34m(\u001b[0m\u001b[0mx\u001b[0m\u001b[0;34m[\u001b[0m\u001b[0;36m1\u001b[0m\u001b[0;34m]\u001b[0m \u001b[0;34m-\u001b[0m \u001b[0;34m(\u001b[0m\u001b[0mm\u001b[0m\u001b[0;34m*\u001b[0m\u001b[0mx\u001b[0m\u001b[0;34m[\u001b[0m\u001b[0;36m0\u001b[0m\u001b[0;34m]\u001b[0m \u001b[0;34m+\u001b[0m \u001b[0mb\u001b[0m\u001b[0;34m)\u001b[0m\u001b[0;34m)\u001b[0m\u001b[0;34m**\u001b[0m\u001b[0;36m2\u001b[0m\u001b[0;34m)\u001b[0m\u001b[0;34m.\u001b[0m\u001b[0mreduce\u001b[0m\u001b[0;34m(\u001b[0m\u001b[0;32mlambda\u001b[0m \u001b[0mx\u001b[0m\u001b[0;34m,\u001b[0m \u001b[0my\u001b[0m\u001b[0;34m:\u001b[0m \u001b[0mx\u001b[0m\u001b[0;34m+\u001b[0m\u001b[0my\u001b[0m\u001b[0;34m)\u001b[0m\u001b[0;34m\u001b[0m\u001b[0;34m\u001b[0m\u001b[0m\n\u001b[1;32m     20\u001b[0m   \u001b[0mprint\u001b[0m\u001b[0;34m(\u001b[0m\u001b[0ml\u001b[0m\u001b[0;34m)\u001b[0m\u001b[0;34m\u001b[0m\u001b[0;34m\u001b[0m\u001b[0m\n\u001b[0;32m---> 21\u001b[0;31m   \u001b[0mm_list\u001b[0m\u001b[0;34m.\u001b[0m\u001b[0mappend\u001b[0m\u001b[0;34m(\u001b[0m\u001b[0mm\u001b[0m\u001b[0;34m)\u001b[0m\u001b[0;34m\u001b[0m\u001b[0;34m\u001b[0m\u001b[0m\n\u001b[0m\u001b[1;32m     22\u001b[0m   \u001b[0mb_list\u001b[0m\u001b[0;34m.\u001b[0m\u001b[0mappend\u001b[0m\u001b[0;34m(\u001b[0m\u001b[0mb\u001b[0m\u001b[0;34m)\u001b[0m\u001b[0;34m\u001b[0m\u001b[0;34m\u001b[0m\u001b[0m\n\u001b[1;32m     23\u001b[0m   \u001b[0mcost_list\u001b[0m\u001b[0;34m.\u001b[0m\u001b[0mappend\u001b[0m\u001b[0;34m(\u001b[0m\u001b[0ml\u001b[0m\u001b[0;34m)\u001b[0m\u001b[0;34m\u001b[0m\u001b[0;34m\u001b[0m\u001b[0m\n",
            "\u001b[0;31mNameError\u001b[0m: name 'm_list' is not defined"
          ]
        }
      ]
    },
    {
      "cell_type": "code",
      "metadata": {
        "id": "mV9LfLedfjgG"
      },
      "source": [
        "def y_pred1(x, w, b):\n",
        "  multiple = [xi*wi for xi, wi in zip(x, w)]\n",
        "  return np.sum(np.array(multiple) + b)\n",
        "  #return (multiple+ b)"
      ],
      "execution_count": null,
      "outputs": []
    },
    {
      "cell_type": "code",
      "metadata": {
        "id": "riYbc2ZXmTz7"
      },
      "source": [
        "def cum_gradient(cur_row, next_row):\n",
        "  return [x+ y for x, y in zip(cur_row, next_row)]"
      ],
      "execution_count": null,
      "outputs": []
    },
    {
      "cell_type": "code",
      "metadata": {
        "id": "ZLEmwKJCrAkp"
      },
      "source": [
        "small_s = five_feat.sample(False, 3)"
      ],
      "execution_count": null,
      "outputs": []
    },
    {
      "cell_type": "code",
      "metadata": {
        "colab": {
          "base_uri": "https://localhost:8080/"
        },
        "id": "xU1Ku55nn6S3",
        "outputId": "120e2b69-d959-421c-b643-f2db365acbf0"
      },
      "source": [
        "m = [0.1, 0.1, 0.1, 0.1, 0.1]\n",
        "b = 0.1\n",
        "lr = 0.000001\n",
        "iter = 5\n",
        "\n",
        "precision = 0.01\n",
        "n = 1000\n",
        "const = -2/n\n",
        "\n",
        "init_cost = sample.map(lambda x: x[-1] - (y_pred1(x[:5], m, b))**2).reduce(lambda x, y: x+y)\n",
        "cost_list = [init_cost]\n",
        "m_list = [m]\n",
        "b_list = [b]\n",
        "\n",
        "for i in range(4):\n",
        "  #l = dist_fair.map(lambda x: (y_pred(x, m, b))**2).reduce(lambda x, y: x+y)\n",
        "  del_m = sample.map(lambda x: np.array(x[:5]) * (x[-1] - y_pred1(x[:5], m, b))).reduce(lambda x, y: cum_gradient(x, y))\n",
        "  m_cost = np.array(del_m)*const\n",
        "  del_b = sample.map(lambda x: x[-1] - y_pred1(x[:5], m, b)).reduce(lambda x, y: x+y)\n",
        "  b_cost = del_b*const\n",
        "  m = np.array(m) - m_cost*lr\n",
        "  #print(m)\n",
        "  b -= b_cost*lr\n",
        "  l = sample.map(lambda x: x[-1] - (y_pred1(x[:5], m, b))**2).reduce(lambda x, y: x+y)\n",
        "  print(l)\n",
        "  #print(l-cost_list[-1])\n",
        "  if ((abs(l - cost_list[-1])) <= precision):\n",
        "    print(\"stopped at iteration\", i)\n",
        "    break\n",
        "total_list2 = (m_list, b_list, cost_list)\n"
      ],
      "execution_count": null,
      "outputs": [
        {
          "output_type": "stream",
          "name": "stdout",
          "text": [
            "1256259.4011086104\n",
            "1237282.7872835945\n",
            "1217021.1110615279\n",
            "1195494.5068488307\n"
          ]
        }
      ]
    },
    {
      "cell_type": "code",
      "metadata": {
        "colab": {
          "base_uri": "https://localhost:8080/"
        },
        "id": "_jor4aNXrVOl",
        "outputId": "1dd552be-18a5-477c-d60b-1bcb847c50b7"
      },
      "source": [
        "m = [0.1, 0.1, 0.1, 0.1, 0.1]\n",
        "b = 0.1\n",
        "f = five_feat.take(3)\n",
        "f"
      ],
      "execution_count": null,
      "outputs": [
        {
          "output_type": "execute_result",
          "data": {
            "text/plain": [
              "[(0.03333333333333333, 0.44, 1.2857142857142858, 0.0, 0.5, 4.5),\n",
              " (0.03333333333333333, 0.71, 1.25, 0.0, 0.5, 5.0),\n",
              " (0.03333333333333333, 0.48, 1.25, 0.0, 0.5, 5.0)]"
            ]
          },
          "metadata": {},
          "execution_count": 19
        }
      ]
    },
    {
      "cell_type": "code",
      "metadata": {
        "id": "QNwi3gxOu5Hd"
      },
      "source": [
        "r = sc.parallelize(f)"
      ],
      "execution_count": null,
      "outputs": []
    },
    {
      "cell_type": "code",
      "metadata": {
        "colab": {
          "base_uri": "https://localhost:8080/"
        },
        "id": "YHP7ecojYZq1",
        "outputId": "040524d8-97e8-4586-e27c-18c689ed200b"
      },
      "source": [
        "import numpy as np\n",
        "m = [0.1, 0.1, 0.1, 0.1, 0.1]\n",
        "(f[0][-1] - y_pred1(f[0][:5], m, b))*f[0][:5]"
      ],
      "execution_count": null,
      "outputs": [
        {
          "output_type": "execute_result",
          "data": {
            "text/plain": [
              "array([0.14655556, 1.91664   , 5.49183673, 0.        , 2.175     ])"
            ]
          },
          "metadata": {},
          "execution_count": 31
        }
      ]
    },
    {
      "cell_type": "code",
      "metadata": {
        "colab": {
          "base_uri": "https://localhost:8080/"
        },
        "id": "NkOx386Tu-qA",
        "outputId": "cbae1803-2ad9-4b86-d552-9990b1c3942b"
      },
      "source": [
        "arr = r.map(lambda x: x[:5] * (x[-1] - y_pred1(x[:5], m, b))).reduce(lambda x, y: cum_gradient(x, y))\n",
        "arr"
      ],
      "execution_count": null,
      "outputs": [
        {
          "output_type": "execute_result",
          "data": {
            "text/plain": [
              "[0.473, 7.67419, 17.429336734693877, 0.0, 7.0249999999999995]"
            ]
          },
          "metadata": {},
          "execution_count": 36
        }
      ]
    },
    {
      "cell_type": "code",
      "metadata": {
        "id": "Zm5BscSBYwNg"
      },
      "source": [
        "ar = np.array(arr)*2"
      ],
      "execution_count": null,
      "outputs": []
    },
    {
      "cell_type": "code",
      "metadata": {
        "colab": {
          "base_uri": "https://localhost:8080/"
        },
        "id": "oPTIcWODZF0Z",
        "outputId": "e93b452a-ba82-47d4-98f2-d8b7b6136e85"
      },
      "source": [
        "ar"
      ],
      "execution_count": null,
      "outputs": [
        {
          "output_type": "execute_result",
          "data": {
            "text/plain": [
              "array([ 0.946     , 15.34838   , 34.85867347,  0.        , 14.05      ])"
            ]
          },
          "metadata": {},
          "execution_count": 39
        }
      ]
    },
    {
      "cell_type": "code",
      "metadata": {
        "colab": {
          "base_uri": "https://localhost:8080/"
        },
        "id": "inwWP7fEuELN",
        "outputId": "712056d6-8b89-4e4b-8b36-e60cd0832e5f"
      },
      "source": [
        "import numpy as np\n",
        "m = [0.1, 0.1, 0.1, 0.1, 0.1]\n",
        "(f[0][-1] - y_pred1(f[0][:5], m, b))*f[0][:5]"
      ],
      "execution_count": null,
      "outputs": [
        {
          "output_type": "execute_result",
          "data": {
            "text/plain": [
              "array([0.14655556, 1.91664   , 5.49183673, 0.        , 2.175     ])"
            ]
          },
          "metadata": {},
          "execution_count": 30
        }
      ]
    },
    {
      "cell_type": "code",
      "metadata": {
        "id": "cd_Kx-pRuEN_"
      },
      "source": [
        ""
      ],
      "execution_count": null,
      "outputs": []
    },
    {
      "cell_type": "code",
      "metadata": {
        "id": "rUOIoO2suERy"
      },
      "source": [
        ""
      ],
      "execution_count": null,
      "outputs": []
    },
    {
      "cell_type": "code",
      "metadata": {
        "colab": {
          "base_uri": "https://localhost:8080/"
        },
        "id": "CAxAoaHpYdVx",
        "outputId": "16f32bb2-f5d7-4b42-f7a9-a4205242cffa"
      },
      "source": [
        "import numpy as np\n",
        "w = np.zeros(5).reshape(-1, 1)\n",
        "w"
      ],
      "execution_count": null,
      "outputs": [
        {
          "output_type": "execute_result",
          "data": {
            "text/plain": [
              "array([[0.],\n",
              "       [0.],\n",
              "       [0.],\n",
              "       [0.],\n",
              "       [0.]])"
            ]
          },
          "metadata": {},
          "execution_count": 21
        }
      ]
    },
    {
      "cell_type": "code",
      "metadata": {
        "id": "2wb8o0mtYkOM"
      },
      "source": [
        "new = sc.parallelize([(1, 2, 3), (3, 2, 5), (5, 4, 7), (1, 2, 3)])"
      ],
      "execution_count": null,
      "outputs": []
    },
    {
      "cell_type": "code",
      "metadata": {
        "colab": {
          "base_uri": "https://localhost:8080/"
        },
        "id": "zUs4tphwc6RF",
        "outputId": "5a593886-c0eb-4932-b9ef-23cea3808a2c"
      },
      "source": [
        "new.collect()"
      ],
      "execution_count": null,
      "outputs": [
        {
          "output_type": "execute_result",
          "data": {
            "text/plain": [
              "[(1, 2, 3), (3, 2, 5), (5, 4, 7), (1, 2, 3)]"
            ]
          },
          "metadata": {},
          "execution_count": 24
        }
      ]
    },
    {
      "cell_type": "code",
      "metadata": {
        "colab": {
          "base_uri": "https://localhost:8080/"
        },
        "id": "eZHgkrkqeK-j",
        "outputId": "98e2241b-f22d-4a5b-ea26-5b5c4609ed46"
      },
      "source": [
        "x = [1, 2, 3, 4, 5]\n",
        "w = (3, 2, 5, 2, 7)\n",
        "zip(w, x)"
      ],
      "execution_count": null,
      "outputs": [
        {
          "output_type": "execute_result",
          "data": {
            "text/plain": [
              "<zip at 0x7f3a193f4cd0>"
            ]
          },
          "metadata": {},
          "execution_count": 29
        }
      ]
    },
    {
      "cell_type": "code",
      "metadata": {
        "id": "fzsUcUtDePRa"
      },
      "source": [
        "mul = y_pred1(w, x)"
      ],
      "execution_count": null,
      "outputs": []
    },
    {
      "cell_type": "code",
      "metadata": {
        "colab": {
          "base_uri": "https://localhost:8080/"
        },
        "id": "ZgNWnk0Ug3K2",
        "outputId": "050ac1c7-05b6-442f-96c7-2b0fa30ae60b"
      },
      "source": [
        "np.array(mul) + 1"
      ],
      "execution_count": null,
      "outputs": [
        {
          "output_type": "execute_result",
          "data": {
            "text/plain": [
              "array([ 4,  5, 16,  9, 36])"
            ]
          },
          "metadata": {},
          "execution_count": 46
        }
      ]
    },
    {
      "cell_type": "code",
      "metadata": {
        "colab": {
          "base_uri": "https://localhost:8080/"
        },
        "id": "ZEEplniOhz0e",
        "outputId": "741efd52-d287-4650-909f-a12c9c9312cf"
      },
      "source": [
        "x[:4]"
      ],
      "execution_count": null,
      "outputs": [
        {
          "output_type": "execute_result",
          "data": {
            "text/plain": [
              "[1, 2, 3, 4]"
            ]
          },
          "metadata": {},
          "execution_count": 48
        }
      ]
    },
    {
      "cell_type": "code",
      "metadata": {
        "colab": {
          "base_uri": "https://localhost:8080/"
        },
        "id": "oQ7138PVk_wq",
        "outputId": "dfea7e58-d7ef-4671-9668-f7c779d3b7af"
      },
      "source": [
        "words.take(3)"
      ],
      "execution_count": null,
      "outputs": [
        {
          "output_type": "execute_result",
          "data": {
            "text/plain": [
              "[['07290D3599E7A0D62097A346EFCC1FB5',\n",
              "  'E7750A37CAB07D0DFF0AF7E3573AC141',\n",
              "  '2013-01-01 00:00:00',\n",
              "  '2013-01-01 00:02:00',\n",
              "  '120',\n",
              "  '0.44',\n",
              "  '-73.956528',\n",
              "  '40.716976',\n",
              "  '-73.962440',\n",
              "  '40.715008',\n",
              "  'CSH',\n",
              "  '3.50',\n",
              "  '0.50',\n",
              "  '0.50',\n",
              "  '0.00',\n",
              "  '0.00',\n",
              "  '4.50'],\n",
              " ['22D70BF00EEB0ADC83BA8177BB861991',\n",
              "  '3FF2709163DE7036FCAA4E5A3324E4BF',\n",
              "  '2013-01-01 00:02:00',\n",
              "  '2013-01-01 00:02:00',\n",
              "  '0',\n",
              "  '0.00',\n",
              "  '0.000000',\n",
              "  '0.000000',\n",
              "  '0.000000',\n",
              "  '0.000000',\n",
              "  'CSH',\n",
              "  '27.00',\n",
              "  '0.00',\n",
              "  '0.50',\n",
              "  '0.00',\n",
              "  '0.00',\n",
              "  '27.50'],\n",
              " ['0EC22AAF491A8BD91F279350C2B010FD',\n",
              "  '778C92B26AE78A9EBDF96B49C67E4007',\n",
              "  '2013-01-01 00:01:00',\n",
              "  '2013-01-01 00:03:00',\n",
              "  '120',\n",
              "  '0.71',\n",
              "  '-73.973145',\n",
              "  '40.752827',\n",
              "  '-73.965897',\n",
              "  '40.760445',\n",
              "  'CSH',\n",
              "  '4.00',\n",
              "  '0.50',\n",
              "  '0.50',\n",
              "  '0.00',\n",
              "  '0.00',\n",
              "  '5.00']]"
            ]
          },
          "metadata": {},
          "execution_count": 54
        }
      ]
    },
    {
      "cell_type": "code",
      "metadata": {
        "id": "c8yFQ_nLrKX3"
      },
      "source": [
        "data_prep = wordsCorr.map(lambda x: (x[1], x[2], float(x[4]), float(x[5]), float(x[15]), 1, float(x[11])+float(x[14])))"
      ],
      "execution_count": null,
      "outputs": []
    },
    {
      "cell_type": "code",
      "metadata": {
        "colab": {
          "base_uri": "https://localhost:8080/"
        },
        "id": "pMVChIH9uK2P",
        "outputId": "2aad494d-aabd-4833-e284-a6d469f93735"
      },
      "source": [
        "data_prep.take(3)"
      ],
      "execution_count": null,
      "outputs": [
        {
          "output_type": "execute_result",
          "data": {
            "text/plain": [
              "[('E7750A37CAB07D0DFF0AF7E3573AC141',\n",
              "  '2013-01-01 00:00:00',\n",
              "  120.0,\n",
              "  0.44,\n",
              "  0.0,\n",
              "  1,\n",
              "  3.5),\n",
              " ('778C92B26AE78A9EBDF96B49C67E4007',\n",
              "  '2013-01-01 00:01:00',\n",
              "  120.0,\n",
              "  0.71,\n",
              "  0.0,\n",
              "  1,\n",
              "  4.0),\n",
              " ('BE317B986700F63C43438482792C8654',\n",
              "  '2013-01-01 00:01:00',\n",
              "  120.0,\n",
              "  0.48,\n",
              "  0.0,\n",
              "  1,\n",
              "  4.0)]"
            ]
          },
          "metadata": {},
          "execution_count": 76
        }
      ]
    },
    {
      "cell_type": "code",
      "metadata": {
        "id": "hjLDTUovwgg6"
      },
      "source": [
        "driver = data_prep.groupBy(lambda x: x[0]).mapValues(list)"
      ],
      "execution_count": null,
      "outputs": []
    },
    {
      "cell_type": "code",
      "metadata": {
        "colab": {
          "base_uri": "https://localhost:8080/"
        },
        "id": "AfkJt2CfyA6Y",
        "outputId": "a56535ec-2647-48fd-b698-087da657abc9"
      },
      "source": [
        "driver.take(1)"
      ],
      "execution_count": null,
      "outputs": [
        {
          "output_type": "execute_result",
          "data": {
            "text/plain": [
              "[('778C92B26AE78A9EBDF96B49C67E4007',\n",
              "  [('778C92B26AE78A9EBDF96B49C67E4007',\n",
              "    '2013-01-01 00:01:00',\n",
              "    120.0,\n",
              "    0.71,\n",
              "    0.0,\n",
              "    1,\n",
              "    4.0),\n",
              "   ('778C92B26AE78A9EBDF96B49C67E4007',\n",
              "    '2013-01-01 00:47:00',\n",
              "    600.0,\n",
              "    1.05,\n",
              "    0.0,\n",
              "    1,\n",
              "    8.0),\n",
              "   ('778C92B26AE78A9EBDF96B49C67E4007',\n",
              "    '2013-01-01 00:58:00',\n",
              "    240.0,\n",
              "    0.82,\n",
              "    0.0,\n",
              "    1,\n",
              "    6.0),\n",
              "   ('778C92B26AE78A9EBDF96B49C67E4007',\n",
              "    '2013-01-01 01:02:00',\n",
              "    300.0,\n",
              "    1.82,\n",
              "    0.0,\n",
              "    1,\n",
              "    7.0),\n",
              "   ('778C92B26AE78A9EBDF96B49C67E4007',\n",
              "    '2013-01-01 01:08:00',\n",
              "    720.0,\n",
              "    2.59,\n",
              "    0.0,\n",
              "    1,\n",
              "    11.0),\n",
              "   ('778C92B26AE78A9EBDF96B49C67E4007',\n",
              "    '2013-01-01 01:21:00',\n",
              "    480.0,\n",
              "    1.53,\n",
              "    0.0,\n",
              "    1,\n",
              "    7.5),\n",
              "   ('778C92B26AE78A9EBDF96B49C67E4007',\n",
              "    '2013-01-01 01:30:00',\n",
              "    840.0,\n",
              "    1.76,\n",
              "    0.0,\n",
              "    1,\n",
              "    11.0),\n",
              "   ('778C92B26AE78A9EBDF96B49C67E4007',\n",
              "    '2013-01-01 02:04:00',\n",
              "    600.0,\n",
              "    2.57,\n",
              "    0.0,\n",
              "    1,\n",
              "    10.0),\n",
              "   ('778C92B26AE78A9EBDF96B49C67E4007',\n",
              "    '2013-01-01 02:15:00',\n",
              "    120.0,\n",
              "    0.48,\n",
              "    0.0,\n",
              "    1,\n",
              "    3.5),\n",
              "   ('778C92B26AE78A9EBDF96B49C67E4007',\n",
              "    '2013-01-01 02:19:00',\n",
              "    360.0,\n",
              "    1.21,\n",
              "    0.0,\n",
              "    1,\n",
              "    5.5),\n",
              "   ('778C92B26AE78A9EBDF96B49C67E4007',\n",
              "    '2013-01-01 02:29:00',\n",
              "    720.0,\n",
              "    1.82,\n",
              "    0.0,\n",
              "    1,\n",
              "    9.5),\n",
              "   ('778C92B26AE78A9EBDF96B49C67E4007',\n",
              "    '2013-01-01 02:47:00',\n",
              "    540.0,\n",
              "    1.74,\n",
              "    0.0,\n",
              "    1,\n",
              "    8.5),\n",
              "   ('778C92B26AE78A9EBDF96B49C67E4007',\n",
              "    '2013-01-01 03:03:00',\n",
              "    480.0,\n",
              "    1.58,\n",
              "    0.0,\n",
              "    1,\n",
              "    7.5),\n",
              "   ('778C92B26AE78A9EBDF96B49C67E4007',\n",
              "    '2013-01-01 03:13:00',\n",
              "    480.0,\n",
              "    2.65,\n",
              "    0.0,\n",
              "    1,\n",
              "    11.5),\n",
              "   ('778C92B26AE78A9EBDF96B49C67E4007',\n",
              "    '2013-01-01 03:30:00',\n",
              "    240.0,\n",
              "    1.07,\n",
              "    0.0,\n",
              "    1,\n",
              "    5.5),\n",
              "   ('778C92B26AE78A9EBDF96B49C67E4007',\n",
              "    '2013-01-01 03:39:00',\n",
              "    1260.0,\n",
              "    7.16,\n",
              "    0.0,\n",
              "    1,\n",
              "    27.1),\n",
              "   ('778C92B26AE78A9EBDF96B49C67E4007',\n",
              "    '2013-01-01 04:01:00',\n",
              "    960.0,\n",
              "    5.01,\n",
              "    0.0,\n",
              "    1,\n",
              "    19.0),\n",
              "   ('778C92B26AE78A9EBDF96B49C67E4007',\n",
              "    '2013-01-01 04:29:00',\n",
              "    720.0,\n",
              "    2.98,\n",
              "    0.0,\n",
              "    1,\n",
              "    14.5),\n",
              "   ('778C92B26AE78A9EBDF96B49C67E4007',\n",
              "    '2013-01-01 04:43:00',\n",
              "    300.0,\n",
              "    0.79,\n",
              "    0.0,\n",
              "    1,\n",
              "    6.0),\n",
              "   ('778C92B26AE78A9EBDF96B49C67E4007',\n",
              "    '2013-01-01 04:54:00',\n",
              "    1320.0,\n",
              "    11.28,\n",
              "    0.0,\n",
              "    1,\n",
              "    32.5),\n",
              "   ('778C92B26AE78A9EBDF96B49C67E4007',\n",
              "    '2013-01-01 05:35:00',\n",
              "    240.0,\n",
              "    0.66,\n",
              "    0.0,\n",
              "    1,\n",
              "    5.0),\n",
              "   ('778C92B26AE78A9EBDF96B49C67E4007',\n",
              "    '2013-01-01 05:46:00',\n",
              "    480.0,\n",
              "    3.68,\n",
              "    0.0,\n",
              "    1,\n",
              "    11.5),\n",
              "   ('778C92B26AE78A9EBDF96B49C67E4007',\n",
              "    '2013-01-01 06:06:00',\n",
              "    240.0,\n",
              "    1.23,\n",
              "    0.0,\n",
              "    1,\n",
              "    6.0),\n",
              "   ('778C92B26AE78A9EBDF96B49C67E4007',\n",
              "    '2013-01-01 06:22:00',\n",
              "    360.0,\n",
              "    2.05,\n",
              "    0.0,\n",
              "    1,\n",
              "    8.0)])]"
            ]
          },
          "metadata": {},
          "execution_count": 78
        }
      ]
    },
    {
      "cell_type": "code",
      "metadata": {
        "id": "H13yfv7OyJoY"
      },
      "source": [
        ""
      ],
      "execution_count": null,
      "outputs": []
    }
  ]
}