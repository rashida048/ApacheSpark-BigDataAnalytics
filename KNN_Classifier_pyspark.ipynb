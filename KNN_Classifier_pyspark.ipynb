{
  "nbformat": 4,
  "nbformat_minor": 0,
  "metadata": {
    "colab": {
      "name": "KNN_Classifier_pyspark.ipynb",
      "provenance": [],
      "collapsed_sections": [],
      "authorship_tag": "ABX9TyO27J923dzA8uD2kj8fNF1K",
      "include_colab_link": true
    },
    "kernelspec": {
      "name": "python3",
      "display_name": "Python 3"
    },
    "language_info": {
      "name": "python"
    }
  },
  "cells": [
    {
      "cell_type": "markdown",
      "metadata": {
        "id": "view-in-github",
        "colab_type": "text"
      },
      "source": [
        "<a href=\"https://colab.research.google.com/github/rashida048/ApacheSpark-BigDataAnalytics/blob/main/KNN_Classifier_pyspark.ipynb\" target=\"_parent\"><img src=\"https://colab.research.google.com/assets/colab-badge.svg\" alt=\"Open In Colab\"/></a>"
      ]
    },
    {
      "cell_type": "code",
      "metadata": {
        "id": "nzrVkiUgpxNy"
      },
      "source": [
        "import sys\n",
        "import re\n",
        "import numpy as np\n",
        "\n",
        "from numpy import dot\n",
        "from numpy.linalg import norm"
      ],
      "execution_count": 1,
      "outputs": []
    },
    {
      "cell_type": "code",
      "metadata": {
        "colab": {
          "base_uri": "https://localhost:8080/"
        },
        "id": "UakjokyIqAJ5",
        "outputId": "ec09ba83-c305-4294-bca7-468ccb2b51ab"
      },
      "source": [
        "!pip install pyspark"
      ],
      "execution_count": 2,
      "outputs": [
        {
          "output_type": "stream",
          "name": "stdout",
          "text": [
            "Collecting pyspark\n",
            "  Downloading pyspark-3.1.2.tar.gz (212.4 MB)\n",
            "\u001b[K     |████████████████████████████████| 212.4 MB 67 kB/s \n",
            "\u001b[?25hCollecting py4j==0.10.9\n",
            "  Downloading py4j-0.10.9-py2.py3-none-any.whl (198 kB)\n",
            "\u001b[K     |████████████████████████████████| 198 kB 49.3 MB/s \n",
            "\u001b[?25hBuilding wheels for collected packages: pyspark\n",
            "  Building wheel for pyspark (setup.py) ... \u001b[?25l\u001b[?25hdone\n",
            "  Created wheel for pyspark: filename=pyspark-3.1.2-py2.py3-none-any.whl size=212880768 sha256=2fdeee0820dabda98ff63d74328b1c1c51e5002bb2947048110060d141d9941c\n",
            "  Stored in directory: /root/.cache/pip/wheels/a5/0a/c1/9561f6fecb759579a7d863dcd846daaa95f598744e71b02c77\n",
            "Successfully built pyspark\n",
            "Installing collected packages: py4j, pyspark\n",
            "Successfully installed py4j-0.10.9 pyspark-3.1.2\n"
          ]
        }
      ]
    },
    {
      "cell_type": "code",
      "metadata": {
        "id": "QFrvwu-BqCsd"
      },
      "source": [
        "from pyspark import SparkContext\n",
        "sc = SparkContext.getOrCreate() \n",
        "\n",
        "from pyspark.sql import SQLContext\n",
        "sqlContext = SQLContext(sc)"
      ],
      "execution_count": 3,
      "outputs": []
    },
    {
      "cell_type": "code",
      "metadata": {
        "id": "6Zj-ObTcqLlB"
      },
      "source": [
        "wikiCategory = sc.textFile(\"wiki-categorylinks-small.csv.bz2\")\n",
        "wikiPages = sc.textFile(\"WikipediaPagesOneDocPerLine1000LinesSmall.txt.bz2\")"
      ],
      "execution_count": 7,
      "outputs": []
    },
    {
      "cell_type": "code",
      "metadata": {
        "id": "5MbulQnXqSHi"
      },
      "source": [
        "wikiCats = wikiCategory.map(lambda x: x.split(\",\")).map(lambda x: (x[0].replace('\"', ''), x[1].replace('\"', '')))\n",
        "validLines = wikiPages.filter(lambda x: 'id' in x and 'url=' in x)"
      ],
      "execution_count": 8,
      "outputs": []
    },
    {
      "cell_type": "code",
      "metadata": {
        "colab": {
          "base_uri": "https://localhost:8080/"
        },
        "id": "nIhrJ36fqYNz",
        "outputId": "936d1cb2-f24c-4efd-c43c-d752a6dcf760"
      },
      "source": [
        "numberOfDocs = wikiPages.count()\n",
        "numberOfDocs"
      ],
      "execution_count": 9,
      "outputs": [
        {
          "output_type": "execute_result",
          "data": {
            "text/plain": [
              "1000"
            ]
          },
          "metadata": {},
          "execution_count": 9
        }
      ]
    },
    {
      "cell_type": "code",
      "metadata": {
        "id": "_qNPJUCyqaB0"
      },
      "source": [
        "keyAndText = validLines.map(lambda x : (x[x.index('id=\"') + 4 : x.index('\" url=')], x[x.index('\">') + 2:][:-6])) "
      ],
      "execution_count": 10,
      "outputs": []
    },
    {
      "cell_type": "code",
      "metadata": {
        "colab": {
          "base_uri": "https://localhost:8080/"
        },
        "id": "PSs73GwBqiFh",
        "outputId": "545ed8aa-beeb-49be-845f-25e1b526d033"
      },
      "source": [
        "keyAndText.take(2)"
      ],
      "execution_count": 11,
      "outputs": [
        {
          "output_type": "execute_result",
          "data": {
            "text/plain": [
              "[('431949',\n",
              "  'Black people and MormonismWhile at least two black men held the priesthood in the early church, from the mid-1800s until 1978, The Church of Jesus Christ of Latter-day Saints (LDS Church) had a policy which prevented most men of black African descent from being ordained to the church\\'s lay priesthood. Under the temple and priesthood restrictions before 1978, black members of African descent could not receive the priesthood or participate in temple ordinances besides baptisms for the dead. For a time in the 1960s and 1970s, they were not allowed to perform baptisms for the dead either. For young men and men in the LDS church, holding the priesthood is required to hold leadership roles, perform baptisms, to bless the sacrament, to bless babies and to bless the sick. Since black men could not hold the priesthood, they were excluded from holding leadership roles and performing these rituals. Temple ordinances are necessary for members to receive the endowment and marriage sealings necessary for exaltation, and black members could not enjoy these privileges. Church leaders taught that these restrictions were commanded by God. In 1978, the First Presidency and the Twelve, led by Spencer W. Kimball, declared they had received a revelation instructing them to reverse the racial restriction policy. After this revelation, black men could receive the priesthood and black people could receive temple ordinances.As early as 1908, a church publication stated that blacks could not receive the priesthood because their spirits were less valiant in the pre-existence. Church leaders used this explanation until 1978, when Church President Spencer W. Kimball publicly refuted it; later church leaders have called the explanation a List of Mormon folk beliefs. Joseph Smith and Brigham Young reasoned that black skin was a result of the Curse of Cain or the Curse of Ham. They used these Biblical curses to justify slavery. Young believed the curse made black people ineligible to vote, marry white people, or hold the priesthood. Successive presidents continued to use the Biblical curses to justify excluding black men from the priesthood. The idea that black skin was a curse was not officially contradicted until 2013.Young was instrumental in officially legalizing slavery in Utah Territory, teaching that the doctrine of slavery was connected to the priesthood ban. Slavery in Utah ended in 1862 when Congress abolished it. Blacks gained the right to vote in 1867, also through an act of Congress. Young and other church leaders were against interracial marriage. Utah\\'s anti-miscegenation law was repealed in 1963. There has never been a written church policy against interracial marriage. Church publications from 2003 still recommended that young people marry those with similar racial backgrounds. Black people in the LDS Church suffered exclusion and discrimination even after the 1978 revelation, and still feel the effects of racist attitudes.Before the civil rights movement, the LDS Church\\'s doctrine-based policy went largely unnoticed and unchallenged for around a century with the First Presidency stating in 1947 that the doctrine of the LDS Church which banned interracial marriage and black people from entering the temple or receiving the priesthood was never questioned by any of the Church leaders. In the 1960s, the NAACP twice threatened to protest the LDS Church if they did not support civil rights. The first time, Hugh B. Brown made a statement in general conference supporting civil rights; the second time, the LDS church refused to support a piece of legislation and the NAACP led an anti-discrimination march in Salt Lake City to protest. In response to a NAACP lawsuit in 1974, the LDS Church changed their policy to allow any boy to be troop leader in Boy Scouting troops. Apostle Ezra Taft Benson was vocally against civil rights. In 1968 and 1969, various collegiate athletic teams refused to play matches with Brigham Young University. In the 1970s, three LDS church members were excommunicated for criticizing church\\'s racial exclusion policies. Church president Kimball refuted racism in the 1970s, and in 2017 the LDS Church denounced racism and white supremacy.Though the LDS Church had an open membership policy for all races, they avoided opening missions in areas with large black populations and discouraged people with black ancestry from investigating the church. After the 1978 revelation, the LDS Church actively proselyted to blacks, and black membership greatly increased. Six temples are planned or built in Africa outside of South Africa. In 2008, there were about 1 million black members worldwide. Compared to other churches, the LDS church is not growing as fast as other religions in Africa.The priesthood of most other Mormon denominations, such as the Community of Christ, Bickertonite, and Strangite, have always been open to persons of all races.During the early years of the Latter Day Saint movement, at least two black men held the priesthood and became priests: Elijah Abel and Walker Lewis. After Smith\\'s death in 1844, Brigham Young became president of the main body of the church and led the Mormon pioneers to what would become the Utah Territory. Like many Americans at the time, Young, who was also the territorial governor, promoted discriminatory views about black people. On January 16, 1852, Young made a pronouncement to the Utah Territorial Legislature, stating that \"any man having one drop of the seed of [Cain]\\xa0... in him [could not] hold the priesthood.\" As recorded in the \"Journal of Discourses\", Young taught that black people\\'s position as \"servant of servants\" was a law under heaven and it was not the church\\'s place to change God\\'s law. Under the racial restrictions that lasted from Brigham Young\\'s presidency until 1978, persons with any black African ancestry could not receive church priesthood or any temple ordinances including the endowment and eternal marriage or participate in any proxy ordinances for the dead. An important exception to this temple ban was that (except for a complete temple ban period from the mid-1960s until the early 70s under McKay) black members had been allowed a limited use recommend to act as proxies in baptisms for the dead. The priesthood restriction was particularly limiting, because the LDS Church has a lay priesthood and most male members over the age of 12 have received the priesthood. Holders of the priesthood officiate at church meetings, perform blessings of healing, and manage church affairs. Excluding black people from the priesthood meant that men could not hold any significant church leadership roles or participate in many important events such as performing a baptism, blessing the sick, or giving a baby blessing. Between 1844 and 1977, most black people were not permitted to participate in ordinances performed in the LDS Church temples, such as the endowment ritual, celestial marriages, and family sealings. These ordinances are considered essential to enter the highest degree of heaven, so this meant that they could not enjoy the full privileges enjoyed by other Latter-day Saints during the restriction.For Latter-day Saints, a celestial marriage is not required to get into the celestial kingdom, but is required to obtain a fullness of glory or exaltation within the celestial kingdom. The righteous who do not have a celestial marriage would still live eternally with God, but they would be \"appointed angels in heaven, which angels are ministering servants.\" As black people were banned from entering celestial marriage prior to 1978, some interpreted this to mean that they would be treated as unmarried whites, being confined to only ever live in God\\'s presence as a ministering servant. Mark E. Petersen and Apostle George F. Richards taught that blacks could not achieve exaltation because of their priesthood and temple restrictions. Several leaders, including Joseph Smith, Brigham Young, Wilford Woodruff, George Albert Smith, David O. McKay, Joseph Fielding Smith, and Harold B. Lee taught that black people would eventually be able to receive a fullness of glory in the celestial kingdom. In 1973 church spokesperson Wendell Ashton stated that Mormon prophets have stated that the time will come when black Mormon men can receive the priesthood. In the LDS church, a patriarch gives patriarchal blessings to members to help them know their strengths and weaknesses and what to expect in their future life. The blessings also tell members which tribe of Israel they are descended from. Members who are not literally descended from the tribes are adopted into a tribe, usually Ephraim. In the early 19th and 20th centuries, members were more likely to believe they were literally descended from a certain tribe. The LDS church keeps copies of all patriarchal blessings. In Elijah Abel\\'s 1836 patriarchal blessing, no lineage was declared, and he was promised that in the afterlife he would be equal to his fellow members, and his \"soul be white in eternity\". Jane Manning James\\'s blessing in 1844 gave the lineage of Ham. Later, it became church policy to declare no lineage for black members. In 1934, the Presiding Patriarch James H. Wallis stated that black people could not receive a patriarchal blessing because of the priesthood ban, but that they could receive a blessing without a lineage. In Brazil, this was interpreted to mean that if a patriarch pronounced a lineage, then the member was not a descendant of Cain and was therefore eligible for the priesthood, despite physical or genealogical evidence of African ancestry. Actual patriarchs did not strictly adhere to Wallis\\'s statement. In 1961, the Church Historian\\'s Office reported that other lineages had been given, including from Cain. In 1971, the Presiding Patriarch stated that non-Israelite tribes should not be given as a lineage in a patriarchal blessing. In a 1980 address to students at Brigham Young University, James E. Faust attempted to assure listeners that if they had no declared lineage in their patriarchal blessing, that the Holy Ghost would \"purge out the old blood, and make him actually of the seed of Abraham.\" After the 1978 revelation, patriarchs sometimes declared lineage in patriarchal blessings for black members, but sometimes they did not declare a lineage. Some black members have asked for and received new patriarchal blessings including a lineage.On June 8, 1978, the First Presidency of the LDS church released an official declaration which would allow \"all worthy male members of the church [to] be ordained to the priesthood without regard to race or color.\" According to the accounts of several of those present, while praying in the Salt Lake Temple, the First Presidency and the Quorum of the Twelve Apostles received the revelation relating to the lifting of the priesthood ban. The apostle McConkie wrote that all present \"received the same message\" and were then able to understand \"the will of the Lord.\" There were many factors that led up to the publication of this declaration: trouble from the NAACP because of priesthood inequality, the announcement of the first LDS temple in Brazil, and other pressures from members and leaders of the church. After the publication of Lester Bush\\'s seminal article in \"Dialogue\", \"Mormonism\\'s Negro Doctrine: An Historical Overview\", BYU vice-president Robert K. Thomas feared that the church would lose its tax exemption status. The article described the church\\'s racially discriminatory practices in detail. The article inspired internal discussion among church leaders, weakening the idea that the priesthood ban was doctrinal.Church leaders taught for decades that the priesthood ordination and temple ordinance ban was commanded by God. In 1949 the First Presidency under George Smith officially stated that it \"remains as it has always stood\" and was \"not a matter of the declaration of a policy but of direct commandment from the Lord\". A second First Presidency statement (this time under McKay) in 1969 reemphasized that this \"seeming discrimination by the Church towards the Negro is not something which originated with man; but goes back into the beginning with God\". As president of the church, Kimball also emphasized in a 1973 press conference that the ban was \"not my policy or the Church’s policy. It is the policy of the Lord who has established it.\"One of the justifications that the LDS church used for the discriminatory policy was that black individual\\'s pre-existence spirits were not as virtuous as white pre-existence spirits. Brigham Young rejected the idea that Africans were cursed because they had been less valiant in a premortal life, but Orson Pratt supported it. Formally, this justification appeared as early as 1908 in a \"Liahona\" magazine article. Joseph Fielding Smith supported the idea in his 1931 book \"The Way to Perfection\", stating that the priesthood restriction on black was a \"punishment\" for actions in the pre-existence. In a letter in 1947, the First Presidency wrote in a letter to Lowry Nelson that blacks were not entitled to the full blessings of the Gospel, and referenced the \"revelations [...] on the preexistence\" as a justification. In 1952 Lowry published a critique of the what he termed a racist policy in an article in \"The Nation\". Lowry believes it was the first time the folk doctrine that blacks were less righteous in the pre-existence was publicized to the non-Mormon world.The LDS church also used this explanation in their 1949 statement explicitly barring blacks from holding the priesthood. An address by Mark E. Peterson was widely circulated by BYU religion faculty in the 1950s and 60s and used the \"less valiant in the pre-existence\" explanation to justify segregation, a view which Lowell Bennion and Kendall White, among other members, heavily criticized. The apostle Joseph Fielding Smith also taught that black people were less faithful in the preexistence.After the priesthood ban ended in 1978, church leaders refuted the idea that black people were less valiant in the pre-existence. In a 1978 interview with \"Time\" Magazine, President Spencer W. Kimball stated that the LDS Church no longer held to the theory that those of African descent were any less valiant in the pre-earth life. Jeffrey R. Holland in a 2006 interview for the PBS documentary \"The Mormons\" stated that inaccurate racial \"folklore\" was invented to justify the priesthood ban, and that reasons for the previous ban are unknown. The LDS Church explicitly denounced any justification for the priesthood restriction based in views on events in the pre-mortal life in the \"Race and the Priesthood\" essay published in 2013.According to the Bible, after Cain killed Abel, God cursed him and put a mark on him, although the Bible does not state what the nature of the mark was. The \"Pearl of Great Price\", another Mormon book of scripture, describes the descendants of Cain as dark-skinned. In another biblical account, Ham discovered his father Noah drunk and naked in his tent. Because of this, Noah cursed Ham\\'s son, Canaan to be \"servants of servants\". Although the scriptures do not mention Ham\\'s skin color, a common Judeo-Christian interpretation of these verses, which pre-dates Mormonism, was used to justify slavery.Both Joseph Smith and Brigham Young referred to the curse as a justification for slavery. In addition, Brigham Young used the curse to bar blacks from the priesthood, ban interracial marriages, and oppose black suffrage. He stated that the curse would one day be lifted and that black people would be able to receive the priesthood post-mortally.Young once taught that the devil was black, and his successor as church president, John Taylor, taught on multiple occasions that the reason that black people (those with the curse of Cain) were allowed to survive the flood was so that the devil could be properly represented on the earth through the children of Ham and his wife Egyptus. The next president, Wilford Woodruff also affirmed that millions of people have Cain\\'s mark of blackness drawing a parallel to modern Native American\\'s \"curse of redness\".In a 1908 \"Liahona\" article for missionaries, an anonymous but church-sanctioned author reviewed the scriptures about blackness in the \"Pearl of Great Price\". The author postulated that Ham married a descendant of Cain. Therefore Canaan received two curses, one from Noah, and one from being a descendant of Cain. The article states that Canaan was the \"sole ancestor of the Negro race\" and explicitly linked his curse to be \"servant of servants\" to black priesthood denial. To support this idea, the article also discussed how Pharaoh, a descendant of Canaan according to LDS scripture, could not have the priesthood, because Noah \"cursed him as pertaining to the Priesthood\".In 1931, Joseph Fielding Smith wrote on the same topic in \"The Way to Perfection: Short Discourses on Gospel Themes\", generating controversy within and without Mormonism. For evidence that modern blacks were descended from Cain, Smith wrote that \"it is generally believed that\" Cain\\'s curse was continued through his descendants and through Ham\\'s wife. Smith states that \"some of the brethren who were associate with Joseph Smith have declared that he taught this doctrine.\" General authorities in the LDS church favored Smith\\'s explanation until 2013, when an LDS Church-published essay \"disavowed\" the idea that black skin is the sign of a curse. The Old Testament student manual, which is published by the Church and is the manual currently used to teach the Old Testament in LDS Institutes, teaches that Canaan could not hold the priesthood because of his race.One Mormon scholar, Alma Allred, points out that according to Mormon scripture, Ham himself was not cursed, but his fourth son Canaan was. Before Canaan was cursed, but after Ham married, Ham \"walked with God,\" suggesting that Ham was not cursed for marrying a Canaanite woman as some Mormon leaders believed. Allred further notes the inconsistency of the curse on descendants of Canaan by observing that Abraham and Joseph of Egypt both married Egyptian, Canaanite women. According to LDS theology, both prophets had birthrights passed down to their posterity. Allred further argues that Pharoh was not denied holding the priesthood, but the \"right of the priesthood\", interpreting this scriptural phrase as a specific right to be the presiding high priest, which was given to Ephraim through Shem.According to the \"Pearl of Great Price\", the people of Canaan were a group of people that lived during the time of Enoch, before the Canaanites mentioned in the Bible. Enoch prophesied that the people of Canaan would war against the people of Shum, and that God would curse their land with heat, and that a blackness would come upon them. When Enoch called the people to repentance, he taught everyone except the people of Canaan. Later, the \"Book of Abraham\" identifies Pharaoh as a Canaanite. There is no explicit connection from the antediluvian people of Canaan to Cain\\'s descendants, the Canaanites descended from Ham\\'s son Canaan or modern black people. However, the \"Pearl of Great Price\" identifies both Cain\\'s descendants and the people of Canaan as black and cursed, and they were frequently used interchangeably. Bruce R. McConkie justified restrictions on teaching black people because Enoch did not teach the people of Canaan.Initial Mormon converts were from the north and opposed slavery. This caused contention in the slave state of Missouri, and the church began teaching pro-slavery doctrine and distancing itself from abolitionism. During this time, several slave owners joined the church, and brought their slaves with them when they moved to Nauvoo. As mayor of Nauvoo, Joseph Smith prohibited blacks from holding office, joining the Nauvoo Legion, voting or marrying whites. Also during this time, Joseph Smith began his presidential campaign on a platform for the government to buy slaves into freedom over several years. He was killed during his presidential campaign.Some slave owners brought their slaves with them to Utah, though several slaves escaped. The church put out a statement of neutrality towards slavery, stating that it was between the slave owner and God. A few years later, Brigham Young began teaching that slavery was ordained of God and that equality efforts were misguided. Under his direction, Utah passed laws supporting slavery and making it illegal for blacks to vote, hold public office, join the Nauvoo legion, or marry whites. The church\\'s position was criticized by abolitionists and the republican party. The US government freed the slaves and overturned laws prohibiting blacks from voting.After the Civil War, issues of civil rights went largely unnoticed until the civil rights movement. In 1954, church apostle Mark E. Petersen gave a speech at BYU opposing interracial marriages and supporting segregation, sparking criticism. The National Association for the Advancement of Colored People (NAACP) criticized the church\\'s position on civil rights, led anti-discrimination marches and filed a lawsuit against the church\\'s practice of not allowing black children to be troop leaders. Several athletes began protesting BYU over civil right issues. In response the Church issued a statement supporting civil rights and changed its policy on boy scouts. Apostle Ezra Taft Benson began criticizing the civil rights movement and challenging accusations of police brutality. After the reversal of the priesthood ban in 1978, the church has stayed relatively silent on matters of civil rights.The first known slaves to enter the Utah Territory came west with the congregations of Mississippi. By 1850, 100 blacks had arrived, the majority of whom were slaves. After the pioneers arrived in Utah, they continued to buy and sell slaves as property. Many prominent members of the church were slave owners, including William H. Hooper, Abraham O. Smoot, and Charles C. Rich. Church members would use their slaves as tithing, both lending out their slaves to work for the church as well as giving their slaves to the church. Though initially opposed to it, by the early 1850\\'s Brigham Young was a \"firm believer in slavery\". Brigham Young and Heber C. Kimball used the slave labor that had been donated as tithing and then eventually granted their freedom. The church opposed slaves who wanted to escape their masters.The period from 1830 to 1844 was of fundamental importance in shaping Mormon beliefs and customs with regard to race. Joseph Smith supported and opposed slavery at different points in his life. In 1835, he wrote an official declaration that opposed baptizing slaves against the will of their masters. In the statement, he also wrote that it was not right to make slaves \"dissatisfied with their situations.\" The statement became part of the Doctrine and Covenants. Smith wrote an essay in 1836, published in \"Latter Day Saints<nowiki>\\'</nowiki> Messenger and Advocate\", which was strongly anti-abolitionist. In the essay, he gave five reasons for opposing the abolition of slavery:Smith probably wanted to distance Mormons from abolitionists, since many Mormons were living in Missouri, a pro-slavery state. After the Mormons were forced out of Missouri, they lived in Illinois, a free state. Smith\\'s position on slavery changed, and he was vocally against slavery from 1842 until his death.Because of slave owners who were converting to the church in Missouri, there was much confusion regarding the church\\'s position on slavery. These same feelings arose during the migration to Utah. In 1851, apostle Orson Hyde stated that there was no law in Utah prohibiting or authorizing slavery, and that the decisions on the topic were to remain between slaves and their masters. He also clarified that individuals\\' choices on the matter were not in any way a reflection of the church as a whole or its doctrine. Brigham Young taught that slavery was \"of Divine institution, and not to be abolished until the curse pronounced on Ham shall have been removed from his descendants.\" After the Compromise of 1850 allowed California into the Union as a free state while permitting Utah and New Mexico territories the option of deciding the issue by popular sovereignty, the Utah Territorial Legislature took up the issue of legalizing slavery. At that time, Brigham Young was governor, and the Utah Territorial Legislature was dominated by church leaders. In 1852, Brigham Young addressed the joint session of the legislature advocating slavery. He made the matter religious by declaring that if members of the church believe in the Bible and the priesthood then they should also believe in slavery. Following the speech, the Utah Legislature passed an Act in Relation to Service, which officially sanctioned slavery in Utah Territory. The Utah slavery law stipulated that slaves would be freed if their masters had sexual relations with them; attempted to take them from the territory against their will; or neglected to feed, clothe, or provide shelter to them. In addition, the law stipulated that slaves must receive schooling.Utah was the only western state or territory that had slaves in 1850, but slavery was never important economically in Utah, and there were fewer than 100 slaves in the territory. In 1860, the census showed that 29 of the 59 black people in Utah Territory were slaves. When the American Civil War broke out in 1861, Utah sided with the Union, and slavery ended in 1862 when the United States Congress abolished slavery in the Utah Territory.In 1851, a company of 437 Mormons under direction of Elders Amasa M. Lyman and Charles C. Rich of the Quorum of the Twelve Apostles settled at what is now San Bernardino. This first company took 26 slaves, and more slaves were brought over as San Bernardino continued to grow. Since California was a free state, the slaves should have been freed when they entered. However, slavery was openly tolerated in San Bernardino. Many wanted to be free, but were still under the control of their masters and ignorant of the laws and their rights. Judge Benjamin Hayes freed 14 slaves who had belonged to Robert Smith. Other slaves were freed by their masters.As in other places in Illinois, only free white males could vote in Nauvoo.When Utah territory was created, suffrage was only granted to free white males. At that time, only a few states had allowed black suffrage. Brigham Young explained that this was connected to the priesthood ban. He argued that black suffrage would help make blacks equal to whites, which would result in a curse. On January 10, 1867, Congress passed the Territorial Suffrage Act, which prohibited denying suffrage based on race or previous condition of servitude, which nullified Utah\\'s ban on black suffrage.Before the civil rights movement, the LDS Church\\'s doctrine-based policy went largely unnoticed and unchallenged for around a century with the First Presidency stating in 1947 that the doctrine of the Church which banned interracial marriage and black people from entering the temple or receiving the priesthood was never questioned by any of the Church leaders. In 1958, apostle Joseph Fielding Smith published \"Answers to Gospel Questions\", which stated that blacks should \"receive all the rights and privileges [...] as declared in the Declaration of Independence.\" He went on to say that black people should not be barred from any type of employment or education, and should be free \"to make their lives as happy as it is possible without interference from white men, labor unions, or from any other source.\"In the 1960s, the National Association for the Advancement of Colored People (NAACP) attempted to convince LDS Church leaders to support civil rights legislation and to reverse its practices in relation to African American priesthood holding and temple attendance during the Civil Rights era. In early 1963, NAACP leadership attempted to arrange meetings with church leadership, but were rebuffed in their efforts. Later that year, University of Utah professor Sterling McMurrin arranged a meeting between the NAACP and church leaders. N. Eldon Tanner and Hugh B. Brown, the two counselors to David O. McKay in the First Presidency, met with the head of the Utah NAACP. The NAACP threatened to protest at the October 1963 General Conference if the LDS church did not make a statement about civil rights. Brown promised that a statement would be made. Sterling McMurrin wrote the statement, which McKay approved. McKay did not want their statement to be an \"official pronouncement of the First Presidency,\" perhaps because some apostles were against civil rights. During the ensuing General Conference, Brown read the statement in support of civil rights legislation before beginning his talk, in a way that made the statement seem official. The NAACP did not protest at the conference.In 1965, the church leadership met with the NAACP, and agreed to publish an editorial in church-owned newspaper the \"Deseret News\", which would support civil rights legislation pending in the Utah legislature. The church failed to follow-through on the commitment, and Tanner explained, \"We have decided to remain silent\". In March 1965, the NAACP led an anti-discrimination march in Salt Lake City, protesting church policies. In response, McKay agreed to let the \"Deseret News\" reprint the civil rights statement from 1963 as an \"official\" statement. In 1966, the NAACP issued a statement criticizing the church, saying the church \"[had] maintained a rigid and continuous segregation stand\" and that the church had made \"no effort to counteract the widespread discriminatory practices in education, in housing, in employment, and other areas of life.\"Since the early part of the 20th century, each ward of the LDS Church in the United States has organized its own Boy Scouting troop. Some LDS Church-sponsored troops permitted black youth to join, but a church policy required that the troop leader to be the deacons quorum president, which had the result of excluding black children from that role. The NAACP filed a federal lawsuit in 1974 challenging this practice, and soon thereafter the LDS Church reversed its policy.After Hugh B. Brown\\'s statement in support of civil rights in 1963, Ezra Taft Benson began to tell others in speeches that the civil rights movement was a Communist plot. Ralph R. Harding, a congressmen from Idaho, criticized Benson\\'s extreme views. Soon afterward, the first presidency appointed Benson to oversee the European states mission. Joseph Fielding Smith privately expressed that he hoped the appointment would help to temper Benson\\'s extreme political views. Benson returned in 1965 and had not changed his political views. He gave an inflammatory speech in General Conference, parts of which were removed when the talk appeared in official church publications.In the October 1967 General Conference Apostle Ezra Benson declared that the civil rights movement was a tool of Communist revolutionaries, and that it was led by mostly white male Communists who want to \"destroy America by spilling Negro blood\". He also stated that accusing law enforcement of \"police brutality\" against black people should be recognized as attempts to discredit and discourage law enforcement. His talk was re-published the next year by the church\\'s Deseret Book as a pamphlet titled \"Civil Rights: Tool of Communist Deception\". African-American athletes protested against LDS Church policies by boycotting several sporting events with Brigham Young University. In 1968, after the assassination of Martin Luther King, black members of the UTEP track team approached their coach and expressed their desire not to compete against BYU in an upcoming meet. When the coach disregarded the athletes\\' complaint, the athletes boycotted the meet. In 1969, 14 members of the University of Wyoming football team were removed from the team for planning to protest the policies of the LDS church. In November 1969, Stanford University President Kenneth Pitzer suspended athletic relations with BYU. Athletes protested Mormon racial policies at Arizona State University, San Jose State University, the University of New Mexico, and others.During the first century of its existence, the church discouraged social interaction with blacks and encouraged segregation. Joseph Smith supported segregation, stating \"I would confine them [black people] by strict law to their own species\". Until 1963, many church leaders supported legalized racial segregation. David O. McKay, J. Reuben Clark, Henry D. Moyle, Ezra Taft Benson, Joseph Fielding Smith, Harold B. Lee, and Mark E. Peterson were leading proponents of segregation. In 1947 the First Presidency, under the direction of church president George Albert Smith, sent a response letter to a member about social interaction with black people stating, \"Social intercourse between the Whites and the Negroes should certainly not be encouraged\" In response to inquiries from a Californian stake president about whether white members were required to associate with black people the apostle Clark wrote in September 1949 that the church taught white members to avoid social interaction with black people.During the years, different black families were either told by church leadership not to attend church or chose not to attend church after white members complained. The church began considering segregated congregations, and sent missionaries to southern United States to establish segregated congregations.In 1947, mission president, Rulon Howells, decided to segregate the branch in Piracicaba, Brazil, with white members meeting in the chapel and black members meeting in a member\\'s home. When the black members resisted, arguing that integration would help everyone, Howells decided to remove the missionaries from the black members and stop visiting them. The First Presidency under Heber J. Grant sent a letter to then Stake President Ezra Benson in Washington D.C. advising that if two black Mormon women were \"discreetly approached\" they should be happy to sit at the back or side so as not to upset some white women who had complained about sitting near them in relief society. At least one black family was forbidden from attending church after white members complained about their attendance. In 1956, Mark E. Petersen suggested that a segregated chapel should be created for places where a number of black families joined.The church also advocated for segregation laws and enforced segregation in its facilities. Hotel Utah, a church-run hotel, banned black guests, even when other hotels made exceptions for black celebrities. Blacks were prohibited from performing in the Salt Lake Tabernacle, and the Deseret News did not allow black people to appear in photographs with white people. Church leaders urged white members to join civic groups and opened up LDS chapels \"for meetings to prevent Negroes from becoming neighbors\", even after a 1948 Supreme Court decision against racial covenants in housing. They counseled members to buy homes so black people wouldn\\'t move next to LDS chapels. In the 1950s, the San Francisco mission office took legal action to prevent black families from moving into the church neighborhood. A black man living in Salt Lake City, Daily Oliver, described how, as a boy in the 1910s, he was excluded from an LDS-led boy scout troop because they did not want blacks in their building. In 1954, Apostle Mark Petersen taught that segregation was inspired by God, arguing that \"what God hath separated, let not man bring together again\". He used examples of the Lamanites and Nephites, the curse of Cain, Jacob and Esau, and the Israelites and Canaanites as scriptural precedence for segregation.Church leaders opposed desegregation in schools, especially at BYU. After Dr. Robinson wrote an editorial in the Deseret News, President McKay deleted portions that indicated support for desegregation in schools, explaining it would not be fair to force a white child to learn with a black child. Apostle J. Rueben Clark instructed the general Relief Society president to keep the National Council of Women from supporting going on record in favor of school desegregation. Harold B Lee protested an African student who was given a scholarship, believing it was dangerous to integrate blacks on BYU\\'s campus.Church leaders advocated for the segregation of the blood, concerned that giving white members blood from black people might disqualify them from the priesthood. In 1943, the LDS Hospital opened a blood bank which kept separate blood stocks for whites and blacks. It was the second-largest in-hospital blood bank. After the 1978 ending of the priesthood ban, Consolidated Blood Services agreed to supply hospitals with connections to the LDS Church, including LDS Hospital, Primary Children\\'s and Cottonwood Hospitals in Salt Lake City, McKay-Dee Hospital in Ogden, and Utah Valley Hospital in Provo. Racially segregated blood stocks reportedly ended in the 1970s, although white patients worried about receiving blood from a black donor were reassured that this would not happen even after 1978.The church\\'s stance against interracial marriage held consistent for over a century while attitudes towards black people and the priesthood, slavery, or equal rights saw considerable changes. Nearly every decade beginning with the church\\'s formation until the \\'70s saw some denunciation against miscegenation. Church leaders\\' views stemmed from the priesthood policy and racist \"biological and social\" principles of the time.One of the first times that anti-miscegenation feelings were mentioned by church leaders, occurred on February 6, 1835. An assistant president of the church, W. W. Phelps, wrote a letter theorizing that Ham\\'s wife was a descendant of Cain and that Ham \"himself\" was cursed for \"marrying a black wife\". Joseph Smith wrote that he felt that black peoples should be \"confined by strict law to their own species,\" which some have said directly opposes Smith\\'s advocacy for all other civil rights. In Nauvoo, it was against the law for black men to marry whites, and Joseph Smith fined two black men for violating his probation of intermarriage between blacks and whites.In 1852, the Utah legislature passed Act in Relation to Service which carried penalties for whites who had sexual relations with blacks. The day after it passed, church president Brigham Young explained that that if someone mixes their seed with the seed of Cain, that both they and their children will have the Curse of Cain. He then prophesied that if the Church were approve of intermarriage with blacks, that the Church would go on to destruction and the priesthood would be taken away. The seed of Cain generally referred to those with dark skin who were of African descent. In 1863 during a sermon criticizing the federal government, Young said that the penalty for interracial reproduction between whites and blacks was death. In 1946, J. Reuben Clark called racial intermarriage a \"wicked virus\" in an address by in the church\\'s official Improvement Era magazine (a predecessor to the current New Era). The next year, church member Virgil H. Sponberg asked if members of the church should be required to interact with blacks. The First Presidency under George Albert Smith sent a reply on May 5 stating that social interaction with blacks should not be encouraged because it would lead to interracial marriage. Two months later in a 17 July 1947 letter to Lowry Nelson, the First Presidency stated that marriage between a black person and a white person is not sanctioned by the church and is \"contrary to church doctrine\". Two years later in response to inquiries from a Californian stake president about whether white members were required to associate with black people the apostle Clark wrote that the church discouraged social interaction with black people since it could lead to marriage with them and interracial children. Church apostle Mark E. Petersen said in a 1954 address that he wanted to preserve the purity of the white race and that Blacks desired to become white through intermarriage. The speech was circulated among BYU religion faculty, much to embarrassment of fellow LDS scholars. Petersen later denied giving the address. In 1958, church apostle Bruce McConkie published \"Mormon Doctrine\" in which he stated that \"the whole negro race have been cursed with a black skin, the mark of Cain, so they can be identified as a caste apart, a people with whom the other descendants of Adam should not intermarry.\" The quote remained, despite many other revisions, until the church\\'s Deseret Book ceased printing the book in 2010.Utah\\'s anti-miscegenation law was repealed in 1963 by the Utah state legislature. In 1967, the Supreme Court ruling on the case of \"Loving v. Virginia\" determined that any prohibition of interracial marriages in the United States was unconstitutional. The official newspaper of the LDS Church, the \"Church News\", printed an article entitled \"Interracial marriage discouraged\". This article was printed on June 17, 1978, in the same issue that announced the policy reversal for blacks and the priesthood.In a 1965 address to BYU students, apostle Spencer W. Kimball advised BYU students on interracial marriage: \"Now, the brethren feel that it is not the wisest thing to cross racial lines in dating and marrying. There is no condemnation. We have had some of our fine young people who have crossed the lines. We hope they will be very happy, but experience of the brethren through a hundred years has proved to us that marriage is a very difficult thing under any circumstances and the difficulty increases in interrace marriages.\" A church lesson manual for boys 12–13, published in 1995, contains a 1976 quote from Spencer W. Kimball that recommended the practice of marrying others of similar racial, economic, social, educational, and religious backgrounds. In 2003, the church published the Eternal Marriage Student Manual, which uses the same quote. There was no written church policy on interracial marriages, which had been permitted since before the 1978 Revelation on the Priesthood. In 1978, church spokesman Don LeFevre said, \"So there is no ban on interracial marriage. If a black partner contemplating marriage is worthy of going to the Temple, nobody\\'s going to stop him\\xa0... if he\\'s ready to go to the Temple, obviously he may go with the blessings of the church.\"Speaking on behalf of the church, Robert Millet wrote in 2003: \"[T]he Church Handbook of Instructions\\xa0... is the guide for all Church leaders on doctrine and practice. There is, in fact, no mention whatsoever in this handbook concerning interracial marriages. In addition, having served as a Church leader for almost 30 years, I can also certify that I have never received official verbal instructions condemning marriages between black and white members.\"Between the 19th and mid-20th centuries, some Mormons held racist views, and exclusion from priesthood was not the only discrimination practiced toward black people. With Joseph Smith as the mayor of Nauvoo, blacks were prohibited from holding office or joining the Nauvoo Legion. Brigham Young taught that equality efforts were misguided, claiming that those who fought for equality among blacks were trying to elevate them \"to an equality with those whom Nature and Nature\\'s God has indicated to be their masters, their superiors\", but that instead they should \"observe the law of natural affection for our kind.\"During the 1960s and 1970s, Mormons in the western United States were close to averages in the United States in racial attitudes. In 1966, Armand Mauss surveyed Mormons on racial attitudes and discriminatory practices. He found that \"Mormons resembled the rather \\'moderate\\' denominations (such as Presbyterian, Congregational, Episcopalian), rather than the \\'fundamentalists\\' or the sects.\" Negative racial attitudes within Mormonism varied inversely with education, occupation, community size of origin, and youth, reflecting the national trend. Urban Mormons with a more orthodox view of Mormonism tended to be more tolerant. The American racial attitudes caused difficulties when the church tried to apply the one-drop rule to other areas. For example, many members in Brazil did not understand American classifications of race and how it applied to the priesthood ban, causing a rift between the missionaries and members.Anti-black jokes commonly circulated among Mormons before the 1978 revelation. In the early 1970s, apostle Spencer W. Kimball began preaching against racism. In 1972, he said: \"Intolerance by church members is despicable. A special problem exists with respect to black people because they may not now receive the priesthood. Some members of the Church would justify their own un-Christian discrimination against black people because of that rule with respect to the priesthood, but while this restriction has been imposed by the Lord, it is not for us to add burdens upon the shoulders of our black brethren. They who have received Christ in faith through authoritative baptism are heirs to the celestial kingdom along with men of all other races. And those who remain faithful to the end may expect that God may finally grant them all blessings they have merited through their righteousness. Such matters are in the Lord\\'s hands. It is for us to extend our love to all.\" In a study covering 1972 to 1996, church members in the United States has been shown to have lower rates of approval of segregation than others from the United States, as well as a faster decline in approval of segregation over the periods covered, both with statistical significance.Today, the church actively opposes racism among its membership. It is currently working to reach out to black people, and has several predominantly black wards inside the United States. It teaches that all are invited to come unto Christ and it speaks against those who harbor ill feelings towards another race. In 2006, church president Gordon B. Hinckley said in a General Conference of the church that those who use racial slurs can not be called disciples of Christ.In the July 1992 edition of the \"New Era\", the church published a MormonAd promoting racial equality in the church. The photo contained several youth of a variety of ethic backgrounds with the words \"Family Photo\" in large print. Underneath the picture are the words \"God created the races—but not racism. We are all children of the same Father. Violence and hatred have no place in His family. (See Acts 10:34.)\"In August 2017, the LDS church released a statement about the Unite the Right rally in Charlottesville, Virginia condemning racism in general through its Public Relations Department. Following the statement, the LDS Church released an additional statement, specifically condemning white supremacy as morally wrong. Black Mormon blogger Tami Smith said that she joyfully heard the statement and felt that the church was standing with black church members. White Mormon blogger Ayla Stewart argues that the statement is non-binding since it came from the Public Relations Department, rather than the First Presidency.In the second half of the 20th century some white LDS Church members protested against church teachings and policies excluding black members from temple ordinances and the priesthood. For instance, three members, John Fitzgerald, Douglas A. Wallace, and Byron Marchant, were all excommunicated by the LDS Church in the 1970s for publicly criticizing these teachings (in the years 1973, 1976, and 1977 respectively). Wallace had given the priesthood to a black man on 2 April 1976 without authorization and the next day attempted to enter the general conference to stage a demonstration. After being legally barred from the following October conference, his house was put under surveillance during the April 1977 conference by police at the request of the LDS church and the FBI. Marchant was excommunicated for signaling the first vote in opposition to sustaining the church president in modern history during the April 1977 general conference. His vote was motivated by the temple and priesthood ban. He had also received previous media attention as an LDS scoutmaster of a mixed-faith scout troop involved in a 1974 lawsuit that changed the church\\'s policy banning even non-Mormon black Boy Scouts from acting as patrol leaders as church-led scouting troop policy had tied scouting position with Aaronic Priesthood authority.Others white members who publicly opposed church teachings and policies around black people included Grant Syphers and his wife who were denied access to the temple over their objections, with their San Francisco bishop stating that \"Anyone who could not accept the Church\\'s stand on Negroes\\xa0... could not go to the temple.\" Their stake president agreed and they were denied the temple recommend renewal. Additionally, Prominent LDS politician Stewart Udall, who was then acting as the United States Secretary of the Interior, wrote a strongly-worded public letter in 1967 criticizing LDS policies around black members to which he received hundreds of critical response letters, including ones from apostles Delbert Stapley and Spencer Kimball.LDS historian Wayne J. Embry interviewed several black LDS Church members in 1987 and reported that all the participants reported \"incidents of aloofness on the part of white members, a reluctance or a refusal to shake hands with them or sit by them, and racist comments made to them.\" Embry further reported that one black church member attended church for three years, despite being completely ignored by fellow church members. Embry reports that \"she [the same black church member] had to write directly to the president of the LDS Church to find out how to be baptized\" because none of her fellow church members would tell her.Despite the end of the priesthood ban in 1978, racist beliefs in the church prevailed. White church member Eugene England, a professor at Brigham Young University, wrote in 1998 that most Mormons still held deeply racist beliefs, including that blacks were descended from Cain and Ham and subject to their curses. England\\'s students at BYU who reported these beliefs learned them from their parents or from instructors at church, and had little insight into how these beliefs contradicted gospel teachings. In 2003, black LDS Church member Darron Smith noticed a similar problem, and wrote in \"Sunstone\" about the persistence of racist beliefs in the LDS church. Smith wrote that racism persisted in the church because church leadership had not addressed the ban\\'s origins. This racism persisted in the beliefs that blacks were descendants of Cain, that they were neutral in the war in heaven, and that skin color was tied to righteousness. In 2007, journalist and church member, Peggy Fletcher Stack, wrote that black Mormons still felt separate from other church members because of how other members treat them, ranging from calling them the \"n-word\" at church and in the temple to small differences in treatment. The dearth of blacks in Mormon church leadership also contributes to black members\\' feelings of not belonging.The first statement regarding proselyting towards blacks was about slaves. In 1835, the Church\\'s policy was to not proselyte to slaves unless they had permission from their masters. This policy was changed in 1836, when Smith wrote that slaves should not be taught the gospel at all until after their masters were converted. Though the church had an open membership policy for all races, they avoided opening missions in areas with large black populations, discouraged people with black ancestry from investigating the church, counseled members to avoid social interactions with black people, and instructed black members to segregate when white members complained of having to worship with them. Relatively few black people who joined the church retained active membership prior to 1978. Bruce McConkie stated in his 1966 Mormon Doctrine that the \"gospel message of salvation is not carried affirmatively to them, although sometimes negroes search out the truth.\" Despite interest from a few hundred Nigerians, proselyting efforts were delayed in Nigeria in the 1960s. After the Nigerian government stalled the church\\'s visa, apostles did not want to proselyte there. In Africa, there were only active missionaries among whites in South Africa. Blacks in South Africa who requested baptism were told that the church was not working among the blacks. In the South Pacific, the church avoiding missionary work among native Fijians until 1955 when the church determined they were related to other Polynesian groups. In Brazil, LDS officials discouraged individuals with black ancestry from investigating the church. They instituted an mission-wide genealogy program to discover black ancestry, and their official records were marked if any black ancestry was discovered. In the 1970s \"lineage lessons\" were added to determine that interested persons were eligible for teaching. After 1978, there were no restrictions against proselytizing to blacks. Shortly after, missionaries began entering areas of Africa that were more predominately black.The church does not currently keep official records on the race of its membership, so exact numbers are unknown. Black people have been members of Mormon congregations since its foundation, but in 1964 its black membership was small, with about 300 to 400 black members worldwide. In 1970, the officially-sanctioned black LDS support group, the Genesis Group, was formed in Salt Lake City, Utah. In 1997, there were approximately 500,000 black members of the church (about 5% of the total membership), mostly in Africa, Brazil and the Caribbean. Since then, black membership has grown, especially in West Africa, where two temples have been built, doubling to about 1 million black members worldwide by 2008. In April 2017 the LDS Church announced plans to build a temple in Nairobi, Kenya bringing to 6 the temples planned or built in Africa outside South Africa. In 2017 two black South African men were called to serve as mission presidents. Regarding the LDS Church in Africa, professor Philip Jenkins noted in 2009 that LDS growth has been slower than that of other churches due to a number of reasons, one being the white face of the church due to the priesthood ban, and another being the church\\'s refusal to accommodate local customs like polygamy.Joseph Smith III, son of Joseph Smith, founded the Reorganized Church of Jesus Christ of Latter-day Saints in 1860, now known as the Community of Christ. Smith was a vocal advocate of abolishing the slave trade, and followed Owen Lovejoy, an anti-slavery congressman from Illinois, and Abraham Lincoln. He joined the Republican party and advocated for their antislavery politics. He rejected the fugitive slave law, and openly stated that he would assist slaves trying to escape. While he was a strong opponent of slavery, he still viewed whites as superior to blacks, and held that they must not “sacrifice the dignity, honor and prestige that may be rightfully attached to the ruling races.”The priesthood has always been open to men of all races, and women since 1984. They reject the Pearl of Great Price, including the teachings on priesthood restrictions.Warren Jeffs, President of the Fundamentalist Church of Jesus Christ of Latter-Day Saints since 2002, has made several documented statements on black people including the following:The Church of Jesus Christ (Bickertonite) has advocated full racial integration throughout all aspects of the church since its organization in 1862. While America disputed over civil liberties and racial segregation, the church claimed their message was for all races. In 1905, the church suspended an elder for opposing the full integration of all races.Historian Dale Morgan wrote in 1949: \"An interesting feature of the Church\\'s doctrine is that it discriminates in no way against\\xa0... members of other racial groups, who are fully admitted to all the privileges of the priesthood. It has taken a strong stand for human rights, and was, for example, uncompromisingly against the Ku Klux Klan during that organization\\'s period of ascendancy after the First World War.\"At a time when racial segregation or discrimination was commonplace in most institutions throughout America, two of the most prominent leaders of The Church of Jesus Christ were African American. Apostle John Penn, member of the Quorum of Twelve from 1910 to 1955, conducted missionary work with many Italian Americans, and was often referred to as \"The Italian\\'s Doctor\". Matthew Miller, an evangelist ordained in 1937, traveled throughout Canada establishing missions with Native Americans.Strangites welcomed African Americans into their church during a time when some other factions (such as the Utah LDS church, until 1978) denied them the priesthood, or certain other benefits of membership. Strang ordained at least two African Americans to the eldership during his lifetime.'),\n",
              " ('431952',\n",
              "  'Norwegian Military AcademyThe Norwegian Military Academy (\"Krigsskolen\"), in Oslo, educates officers of the Norwegian Army and serves as the King\\'s Royal Guard. The academy was established in 1750, and is the oldest institution for higher education in Norway. The current commandant is Colonel Erlend Bekkestad.The Commander-in-Chief of the Norwegian armed forces, Hans Jacob Arnold Jensen, sent a request to the King of Denmark-Norway in 1750 to establish a school of mathematics in Christiania. The King determined, through the Royal Resolution of 16 December 1750, to establish \"Den frie matematiske skole\" (The Free Mathematical School). It was the first institution offering higher education in Norway, but it did not give any extensive military education. The students were recruited from the officer corps or from nobles in military service.After a reorganization in 1804, the school became an officer school and an independent unit with its own command. From 1876-1880 a college degree was required to apply. The school was first established at Tollbugata 10. It was moved to St. Olavsplass in 1899 and in 1918 it was moved back to Tollbugata 10. In 1969, it was moved to Linderud, where it is currently located.Between 1984 and 1995 Krigsskolen Gimlemoen in Kristiansand was also in operation. This was a 2-year degree (in addition to a one year NCO/ Sargent schools, and at least one year service as an NCO as a requirement for admission). Students from KSG was awarded a commission as officers in the Army. .In 2003, the Military Academy was obligated to follow the Law of Universities and granted the right to award bachelor\\'s degrees.Applicants must be Norwegian citizens aged at least eighteen, have good health and no criminal record, and must have completed high school and a one-year NCO course.After being accepted as candidates, all applicants must then complete and pass a two-week field exercise, with physical tests which include a three kilometre run, hang-ups, push-ups, sit-ups, and a 200-metre swimming test.The Academy is a part of the Norwegian Army. The Academy consists of 7 courses. 1 course is located at Terningmoen, with a yearlong NCO course and prep course. 5 course are located at Linderud, with general education, engineering education and a qualifying course. The logistical course is located in Bergen.The Academy offers a general education as well as a specialized engineering and logistical education. In addition, several civilian studies are available.The general course last for 3 years and is divided into the fields of military power, leadership, language and inter-cultural communication, strategy and physical training. When finished, the cadets will serve as platoon commanders.The engineering course last for 3 years and is divided into the fields of military building techniques, military geography, mathematics, statistics, physics, chemistry and computer science. When finished, the cadets will serve as platoon commanders.The logistics course last for 3 years and is divided into the fields of methodology, logistics, law and economy. When finished, the cadets will serve as logistical officers.The NCO course last for 1 year and is divided into the fields of military leadership, tactics and operations, physical training, language and mathematics. After completing the course, the cadets can start a 3-year course.The qualifying course last for 6 months and includes the fields of military power and operations, military leadership, methodology and physical training.During the courses, the cadets complete several field exercises to train leadership, tactics and decision-making. One of the infamous field exercises is the combat course, conducted to test the limits of the cadets in a combat environment over a long period of time. The exercise must be completed, and certain demands must be met before the cadets qualify the 3-year courses.The classes have a tradition of taking names from Norwegian officers, inspiring the cadets to follow in their paths. The Norwegian Military Academy performs ceremonial duties for the King of Norway. A parade is conducted every 16 December to celebrate the establishment of the Academy. In addition, the Academy conducts a parade 8 May, to celebrate the Liberation Day or Veteran Day.')]"
            ]
          },
          "metadata": {},
          "execution_count": 11
        }
      ]
    },
    {
      "cell_type": "code",
      "metadata": {
        "id": "7XjLSPXHqjp5"
      },
      "source": [
        "def buildArray(listOfIndices):\n",
        "  returnVal = np.zeros(20000)\n",
        "\n",
        "  for index in listOfIndices:\n",
        "    returnVal[index] = int(returnVal[index]) + 1\n",
        "\n",
        "  mysum = np.sum(returnVal)\n",
        "\n",
        "  returnVal = np.divide(returnVal, mysum)\n",
        "  return returnVal\n",
        "\n",
        "\n",
        "def build_zero_one_array(listOfIndices):\n",
        "  returnVal = np.zeros (20000)\n",
        "    \n",
        "  for index in listOfIndices:\n",
        "    if returnVal[index] == 0: returnVal[index] = 1\n",
        "    \n",
        "  return returnVal\n",
        "\n",
        "\n",
        "def stringVector(x):\n",
        "    returnVal = str(x[0])\n",
        "    for j in x[1]:\n",
        "        returnVal += ',' + str(j)\n",
        "    return returnVal\n",
        "\n",
        "\n",
        "def cousinSim (x,y):\n",
        "\tnormA = np.linalg.norm(x)\n",
        "\tnormB = np.linalg.norm(y)\n",
        "\treturn np.dot(x,y)/(normA*normB)"
      ],
      "execution_count": 12,
      "outputs": []
    },
    {
      "cell_type": "code",
      "metadata": {
        "id": "SGz48M23qwNW"
      },
      "source": [
        "keyAndText = validLines.map(lambda x : (x[x.index('id=\"') + 4 : x.index('\" url=')], x[x.index('\">') + 2:][:-6]))"
      ],
      "execution_count": 28,
      "outputs": []
    },
    {
      "cell_type": "code",
      "metadata": {
        "id": "8rLnKWWpq02X"
      },
      "source": [
        "regex = re.compile('[^a-zA-Z]')\n",
        "keyAndListOfWords = keyAndText.map(lambda x : (str(x[0]), regex.sub(' ', x[1]).lower().split()))"
      ],
      "execution_count": 29,
      "outputs": []
    },
    {
      "cell_type": "code",
      "metadata": {
        "colab": {
          "base_uri": "https://localhost:8080/"
        },
        "id": "M3cLaIcAq3CU",
        "outputId": "2a8d1263-aea5-4fa7-e848-a4705d28166f"
      },
      "source": [
        "keyAndListOfWords.take(2)"
      ],
      "execution_count": 33,
      "outputs": [
        {
          "output_type": "execute_result",
          "data": {
            "text/plain": [
              "[('431949',\n",
              "  ['black',\n",
              "   'people',\n",
              "   'and',\n",
              "   'mormonismwhile',\n",
              "   'at',\n",
              "   'least',\n",
              "   'two',\n",
              "   'black',\n",
              "   'men',\n",
              "   'held',\n",
              "   'the',\n",
              "   'priesthood',\n",
              "   'in',\n",
              "   'the',\n",
              "   'early',\n",
              "   'church',\n",
              "   'from',\n",
              "   'the',\n",
              "   'mid',\n",
              "   's',\n",
              "   'until',\n",
              "   'the',\n",
              "   'church',\n",
              "   'of',\n",
              "   'jesus',\n",
              "   'christ',\n",
              "   'of',\n",
              "   'latter',\n",
              "   'day',\n",
              "   'saints',\n",
              "   'lds',\n",
              "   'church',\n",
              "   'had',\n",
              "   'a',\n",
              "   'policy',\n",
              "   'which',\n",
              "   'prevented',\n",
              "   'most',\n",
              "   'men',\n",
              "   'of',\n",
              "   'black',\n",
              "   'african',\n",
              "   'descent',\n",
              "   'from',\n",
              "   'being',\n",
              "   'ordained',\n",
              "   'to',\n",
              "   'the',\n",
              "   'church',\n",
              "   's',\n",
              "   'lay',\n",
              "   'priesthood',\n",
              "   'under',\n",
              "   'the',\n",
              "   'temple',\n",
              "   'and',\n",
              "   'priesthood',\n",
              "   'restrictions',\n",
              "   'before',\n",
              "   'black',\n",
              "   'members',\n",
              "   'of',\n",
              "   'african',\n",
              "   'descent',\n",
              "   'could',\n",
              "   'not',\n",
              "   'receive',\n",
              "   'the',\n",
              "   'priesthood',\n",
              "   'or',\n",
              "   'participate',\n",
              "   'in',\n",
              "   'temple',\n",
              "   'ordinances',\n",
              "   'besides',\n",
              "   'baptisms',\n",
              "   'for',\n",
              "   'the',\n",
              "   'dead',\n",
              "   'for',\n",
              "   'a',\n",
              "   'time',\n",
              "   'in',\n",
              "   'the',\n",
              "   's',\n",
              "   'and',\n",
              "   's',\n",
              "   'they',\n",
              "   'were',\n",
              "   'not',\n",
              "   'allowed',\n",
              "   'to',\n",
              "   'perform',\n",
              "   'baptisms',\n",
              "   'for',\n",
              "   'the',\n",
              "   'dead',\n",
              "   'either',\n",
              "   'for',\n",
              "   'young',\n",
              "   'men',\n",
              "   'and',\n",
              "   'men',\n",
              "   'in',\n",
              "   'the',\n",
              "   'lds',\n",
              "   'church',\n",
              "   'holding',\n",
              "   'the',\n",
              "   'priesthood',\n",
              "   'is',\n",
              "   'required',\n",
              "   'to',\n",
              "   'hold',\n",
              "   'leadership',\n",
              "   'roles',\n",
              "   'perform',\n",
              "   'baptisms',\n",
              "   'to',\n",
              "   'bless',\n",
              "   'the',\n",
              "   'sacrament',\n",
              "   'to',\n",
              "   'bless',\n",
              "   'babies',\n",
              "   'and',\n",
              "   'to',\n",
              "   'bless',\n",
              "   'the',\n",
              "   'sick',\n",
              "   'since',\n",
              "   'black',\n",
              "   'men',\n",
              "   'could',\n",
              "   'not',\n",
              "   'hold',\n",
              "   'the',\n",
              "   'priesthood',\n",
              "   'they',\n",
              "   'were',\n",
              "   'excluded',\n",
              "   'from',\n",
              "   'holding',\n",
              "   'leadership',\n",
              "   'roles',\n",
              "   'and',\n",
              "   'performing',\n",
              "   'these',\n",
              "   'rituals',\n",
              "   'temple',\n",
              "   'ordinances',\n",
              "   'are',\n",
              "   'necessary',\n",
              "   'for',\n",
              "   'members',\n",
              "   'to',\n",
              "   'receive',\n",
              "   'the',\n",
              "   'endowment',\n",
              "   'and',\n",
              "   'marriage',\n",
              "   'sealings',\n",
              "   'necessary',\n",
              "   'for',\n",
              "   'exaltation',\n",
              "   'and',\n",
              "   'black',\n",
              "   'members',\n",
              "   'could',\n",
              "   'not',\n",
              "   'enjoy',\n",
              "   'these',\n",
              "   'privileges',\n",
              "   'church',\n",
              "   'leaders',\n",
              "   'taught',\n",
              "   'that',\n",
              "   'these',\n",
              "   'restrictions',\n",
              "   'were',\n",
              "   'commanded',\n",
              "   'by',\n",
              "   'god',\n",
              "   'in',\n",
              "   'the',\n",
              "   'first',\n",
              "   'presidency',\n",
              "   'and',\n",
              "   'the',\n",
              "   'twelve',\n",
              "   'led',\n",
              "   'by',\n",
              "   'spencer',\n",
              "   'w',\n",
              "   'kimball',\n",
              "   'declared',\n",
              "   'they',\n",
              "   'had',\n",
              "   'received',\n",
              "   'a',\n",
              "   'revelation',\n",
              "   'instructing',\n",
              "   'them',\n",
              "   'to',\n",
              "   'reverse',\n",
              "   'the',\n",
              "   'racial',\n",
              "   'restriction',\n",
              "   'policy',\n",
              "   'after',\n",
              "   'this',\n",
              "   'revelation',\n",
              "   'black',\n",
              "   'men',\n",
              "   'could',\n",
              "   'receive',\n",
              "   'the',\n",
              "   'priesthood',\n",
              "   'and',\n",
              "   'black',\n",
              "   'people',\n",
              "   'could',\n",
              "   'receive',\n",
              "   'temple',\n",
              "   'ordinances',\n",
              "   'as',\n",
              "   'early',\n",
              "   'as',\n",
              "   'a',\n",
              "   'church',\n",
              "   'publication',\n",
              "   'stated',\n",
              "   'that',\n",
              "   'blacks',\n",
              "   'could',\n",
              "   'not',\n",
              "   'receive',\n",
              "   'the',\n",
              "   'priesthood',\n",
              "   'because',\n",
              "   'their',\n",
              "   'spirits',\n",
              "   'were',\n",
              "   'less',\n",
              "   'valiant',\n",
              "   'in',\n",
              "   'the',\n",
              "   'pre',\n",
              "   'existence',\n",
              "   'church',\n",
              "   'leaders',\n",
              "   'used',\n",
              "   'this',\n",
              "   'explanation',\n",
              "   'until',\n",
              "   'when',\n",
              "   'church',\n",
              "   'president',\n",
              "   'spencer',\n",
              "   'w',\n",
              "   'kimball',\n",
              "   'publicly',\n",
              "   'refuted',\n",
              "   'it',\n",
              "   'later',\n",
              "   'church',\n",
              "   'leaders',\n",
              "   'have',\n",
              "   'called',\n",
              "   'the',\n",
              "   'explanation',\n",
              "   'a',\n",
              "   'list',\n",
              "   'of',\n",
              "   'mormon',\n",
              "   'folk',\n",
              "   'beliefs',\n",
              "   'joseph',\n",
              "   'smith',\n",
              "   'and',\n",
              "   'brigham',\n",
              "   'young',\n",
              "   'reasoned',\n",
              "   'that',\n",
              "   'black',\n",
              "   'skin',\n",
              "   'was',\n",
              "   'a',\n",
              "   'result',\n",
              "   'of',\n",
              "   'the',\n",
              "   'curse',\n",
              "   'of',\n",
              "   'cain',\n",
              "   'or',\n",
              "   'the',\n",
              "   'curse',\n",
              "   'of',\n",
              "   'ham',\n",
              "   'they',\n",
              "   'used',\n",
              "   'these',\n",
              "   'biblical',\n",
              "   'curses',\n",
              "   'to',\n",
              "   'justify',\n",
              "   'slavery',\n",
              "   'young',\n",
              "   'believed',\n",
              "   'the',\n",
              "   'curse',\n",
              "   'made',\n",
              "   'black',\n",
              "   'people',\n",
              "   'ineligible',\n",
              "   'to',\n",
              "   'vote',\n",
              "   'marry',\n",
              "   'white',\n",
              "   'people',\n",
              "   'or',\n",
              "   'hold',\n",
              "   'the',\n",
              "   'priesthood',\n",
              "   'successive',\n",
              "   'presidents',\n",
              "   'continued',\n",
              "   'to',\n",
              "   'use',\n",
              "   'the',\n",
              "   'biblical',\n",
              "   'curses',\n",
              "   'to',\n",
              "   'justify',\n",
              "   'excluding',\n",
              "   'black',\n",
              "   'men',\n",
              "   'from',\n",
              "   'the',\n",
              "   'priesthood',\n",
              "   'the',\n",
              "   'idea',\n",
              "   'that',\n",
              "   'black',\n",
              "   'skin',\n",
              "   'was',\n",
              "   'a',\n",
              "   'curse',\n",
              "   'was',\n",
              "   'not',\n",
              "   'officially',\n",
              "   'contradicted',\n",
              "   'until',\n",
              "   'young',\n",
              "   'was',\n",
              "   'instrumental',\n",
              "   'in',\n",
              "   'officially',\n",
              "   'legalizing',\n",
              "   'slavery',\n",
              "   'in',\n",
              "   'utah',\n",
              "   'territory',\n",
              "   'teaching',\n",
              "   'that',\n",
              "   'the',\n",
              "   'doctrine',\n",
              "   'of',\n",
              "   'slavery',\n",
              "   'was',\n",
              "   'connected',\n",
              "   'to',\n",
              "   'the',\n",
              "   'priesthood',\n",
              "   'ban',\n",
              "   'slavery',\n",
              "   'in',\n",
              "   'utah',\n",
              "   'ended',\n",
              "   'in',\n",
              "   'when',\n",
              "   'congress',\n",
              "   'abolished',\n",
              "   'it',\n",
              "   'blacks',\n",
              "   'gained',\n",
              "   'the',\n",
              "   'right',\n",
              "   'to',\n",
              "   'vote',\n",
              "   'in',\n",
              "   'also',\n",
              "   'through',\n",
              "   'an',\n",
              "   'act',\n",
              "   'of',\n",
              "   'congress',\n",
              "   'young',\n",
              "   'and',\n",
              "   'other',\n",
              "   'church',\n",
              "   'leaders',\n",
              "   'were',\n",
              "   'against',\n",
              "   'interracial',\n",
              "   'marriage',\n",
              "   'utah',\n",
              "   's',\n",
              "   'anti',\n",
              "   'miscegenation',\n",
              "   'law',\n",
              "   'was',\n",
              "   'repealed',\n",
              "   'in',\n",
              "   'there',\n",
              "   'has',\n",
              "   'never',\n",
              "   'been',\n",
              "   'a',\n",
              "   'written',\n",
              "   'church',\n",
              "   'policy',\n",
              "   'against',\n",
              "   'interracial',\n",
              "   'marriage',\n",
              "   'church',\n",
              "   'publications',\n",
              "   'from',\n",
              "   'still',\n",
              "   'recommended',\n",
              "   'that',\n",
              "   'young',\n",
              "   'people',\n",
              "   'marry',\n",
              "   'those',\n",
              "   'with',\n",
              "   'similar',\n",
              "   'racial',\n",
              "   'backgrounds',\n",
              "   'black',\n",
              "   'people',\n",
              "   'in',\n",
              "   'the',\n",
              "   'lds',\n",
              "   'church',\n",
              "   'suffered',\n",
              "   'exclusion',\n",
              "   'and',\n",
              "   'discrimination',\n",
              "   'even',\n",
              "   'after',\n",
              "   'the',\n",
              "   'revelation',\n",
              "   'and',\n",
              "   'still',\n",
              "   'feel',\n",
              "   'the',\n",
              "   'effects',\n",
              "   'of',\n",
              "   'racist',\n",
              "   'attitudes',\n",
              "   'before',\n",
              "   'the',\n",
              "   'civil',\n",
              "   'rights',\n",
              "   'movement',\n",
              "   'the',\n",
              "   'lds',\n",
              "   'church',\n",
              "   's',\n",
              "   'doctrine',\n",
              "   'based',\n",
              "   'policy',\n",
              "   'went',\n",
              "   'largely',\n",
              "   'unnoticed',\n",
              "   'and',\n",
              "   'unchallenged',\n",
              "   'for',\n",
              "   'around',\n",
              "   'a',\n",
              "   'century',\n",
              "   'with',\n",
              "   'the',\n",
              "   'first',\n",
              "   'presidency',\n",
              "   'stating',\n",
              "   'in',\n",
              "   'that',\n",
              "   'the',\n",
              "   'doctrine',\n",
              "   'of',\n",
              "   'the',\n",
              "   'lds',\n",
              "   'church',\n",
              "   'which',\n",
              "   'banned',\n",
              "   'interracial',\n",
              "   'marriage',\n",
              "   'and',\n",
              "   'black',\n",
              "   'people',\n",
              "   'from',\n",
              "   'entering',\n",
              "   'the',\n",
              "   'temple',\n",
              "   'or',\n",
              "   'receiving',\n",
              "   'the',\n",
              "   'priesthood',\n",
              "   'was',\n",
              "   'never',\n",
              "   'questioned',\n",
              "   'by',\n",
              "   'any',\n",
              "   'of',\n",
              "   'the',\n",
              "   'church',\n",
              "   'leaders',\n",
              "   'in',\n",
              "   'the',\n",
              "   's',\n",
              "   'the',\n",
              "   'naacp',\n",
              "   'twice',\n",
              "   'threatened',\n",
              "   'to',\n",
              "   'protest',\n",
              "   'the',\n",
              "   'lds',\n",
              "   'church',\n",
              "   'if',\n",
              "   'they',\n",
              "   'did',\n",
              "   'not',\n",
              "   'support',\n",
              "   'civil',\n",
              "   'rights',\n",
              "   'the',\n",
              "   'first',\n",
              "   'time',\n",
              "   'hugh',\n",
              "   'b',\n",
              "   'brown',\n",
              "   'made',\n",
              "   'a',\n",
              "   'statement',\n",
              "   'in',\n",
              "   'general',\n",
              "   'conference',\n",
              "   'supporting',\n",
              "   'civil',\n",
              "   'rights',\n",
              "   'the',\n",
              "   'second',\n",
              "   'time',\n",
              "   'the',\n",
              "   'lds',\n",
              "   'church',\n",
              "   'refused',\n",
              "   'to',\n",
              "   'support',\n",
              "   'a',\n",
              "   'piece',\n",
              "   'of',\n",
              "   'legislation',\n",
              "   'and',\n",
              "   'the',\n",
              "   'naacp',\n",
              "   'led',\n",
              "   'an',\n",
              "   'anti',\n",
              "   'discrimination',\n",
              "   'march',\n",
              "   'in',\n",
              "   'salt',\n",
              "   'lake',\n",
              "   'city',\n",
              "   'to',\n",
              "   'protest',\n",
              "   'in',\n",
              "   'response',\n",
              "   'to',\n",
              "   'a',\n",
              "   'naacp',\n",
              "   'lawsuit',\n",
              "   'in',\n",
              "   'the',\n",
              "   'lds',\n",
              "   'church',\n",
              "   'changed',\n",
              "   'their',\n",
              "   'policy',\n",
              "   'to',\n",
              "   'allow',\n",
              "   'any',\n",
              "   'boy',\n",
              "   'to',\n",
              "   'be',\n",
              "   'troop',\n",
              "   'leader',\n",
              "   'in',\n",
              "   'boy',\n",
              "   'scouting',\n",
              "   'troops',\n",
              "   'apostle',\n",
              "   'ezra',\n",
              "   'taft',\n",
              "   'benson',\n",
              "   'was',\n",
              "   'vocally',\n",
              "   'against',\n",
              "   'civil',\n",
              "   'rights',\n",
              "   'in',\n",
              "   'and',\n",
              "   'various',\n",
              "   'collegiate',\n",
              "   'athletic',\n",
              "   'teams',\n",
              "   'refused',\n",
              "   'to',\n",
              "   'play',\n",
              "   'matches',\n",
              "   'with',\n",
              "   'brigham',\n",
              "   'young',\n",
              "   'university',\n",
              "   'in',\n",
              "   'the',\n",
              "   's',\n",
              "   'three',\n",
              "   'lds',\n",
              "   'church',\n",
              "   'members',\n",
              "   'were',\n",
              "   'excommunicated',\n",
              "   'for',\n",
              "   'criticizing',\n",
              "   'church',\n",
              "   's',\n",
              "   'racial',\n",
              "   'exclusion',\n",
              "   'policies',\n",
              "   'church',\n",
              "   'president',\n",
              "   'kimball',\n",
              "   'refuted',\n",
              "   'racism',\n",
              "   'in',\n",
              "   'the',\n",
              "   's',\n",
              "   'and',\n",
              "   'in',\n",
              "   'the',\n",
              "   'lds',\n",
              "   'church',\n",
              "   'denounced',\n",
              "   'racism',\n",
              "   'and',\n",
              "   'white',\n",
              "   'supremacy',\n",
              "   'though',\n",
              "   'the',\n",
              "   'lds',\n",
              "   'church',\n",
              "   'had',\n",
              "   'an',\n",
              "   'open',\n",
              "   'membership',\n",
              "   'policy',\n",
              "   'for',\n",
              "   'all',\n",
              "   'races',\n",
              "   'they',\n",
              "   'avoided',\n",
              "   'opening',\n",
              "   'missions',\n",
              "   'in',\n",
              "   'areas',\n",
              "   'with',\n",
              "   'large',\n",
              "   'black',\n",
              "   'populations',\n",
              "   'and',\n",
              "   'discouraged',\n",
              "   'people',\n",
              "   'with',\n",
              "   'black',\n",
              "   'ancestry',\n",
              "   'from',\n",
              "   'investigating',\n",
              "   'the',\n",
              "   'church',\n",
              "   'after',\n",
              "   'the',\n",
              "   'revelation',\n",
              "   'the',\n",
              "   'lds',\n",
              "   'church',\n",
              "   'actively',\n",
              "   'proselyted',\n",
              "   'to',\n",
              "   'blacks',\n",
              "   'and',\n",
              "   'black',\n",
              "   'membership',\n",
              "   'greatly',\n",
              "   'increased',\n",
              "   'six',\n",
              "   'temples',\n",
              "   'are',\n",
              "   'planned',\n",
              "   'or',\n",
              "   'built',\n",
              "   'in',\n",
              "   'africa',\n",
              "   'outside',\n",
              "   'of',\n",
              "   'south',\n",
              "   'africa',\n",
              "   'in',\n",
              "   'there',\n",
              "   'were',\n",
              "   'about',\n",
              "   'million',\n",
              "   'black',\n",
              "   'members',\n",
              "   'worldwide',\n",
              "   'compared',\n",
              "   'to',\n",
              "   'other',\n",
              "   'churches',\n",
              "   'the',\n",
              "   'lds',\n",
              "   'church',\n",
              "   'is',\n",
              "   'not',\n",
              "   'growing',\n",
              "   'as',\n",
              "   'fast',\n",
              "   'as',\n",
              "   'other',\n",
              "   'religions',\n",
              "   'in',\n",
              "   'africa',\n",
              "   'the',\n",
              "   'priesthood',\n",
              "   'of',\n",
              "   'most',\n",
              "   'other',\n",
              "   'mormon',\n",
              "   'denominations',\n",
              "   'such',\n",
              "   'as',\n",
              "   'the',\n",
              "   'community',\n",
              "   'of',\n",
              "   'christ',\n",
              "   'bickertonite',\n",
              "   'and',\n",
              "   'strangite',\n",
              "   'have',\n",
              "   'always',\n",
              "   'been',\n",
              "   'open',\n",
              "   'to',\n",
              "   'persons',\n",
              "   'of',\n",
              "   'all',\n",
              "   'races',\n",
              "   'during',\n",
              "   'the',\n",
              "   'early',\n",
              "   'years',\n",
              "   'of',\n",
              "   'the',\n",
              "   'latter',\n",
              "   'day',\n",
              "   'saint',\n",
              "   'movement',\n",
              "   'at',\n",
              "   'least',\n",
              "   'two',\n",
              "   'black',\n",
              "   'men',\n",
              "   'held',\n",
              "   'the',\n",
              "   'priesthood',\n",
              "   'and',\n",
              "   'became',\n",
              "   'priests',\n",
              "   'elijah',\n",
              "   'abel',\n",
              "   'and',\n",
              "   'walker',\n",
              "   'lewis',\n",
              "   'after',\n",
              "   'smith',\n",
              "   's',\n",
              "   'death',\n",
              "   'in',\n",
              "   'brigham',\n",
              "   'young',\n",
              "   'became',\n",
              "   'president',\n",
              "   'of',\n",
              "   'the',\n",
              "   'main',\n",
              "   'body',\n",
              "   'of',\n",
              "   'the',\n",
              "   'church',\n",
              "   'and',\n",
              "   'led',\n",
              "   'the',\n",
              "   'mormon',\n",
              "   'pioneers',\n",
              "   'to',\n",
              "   'what',\n",
              "   'would',\n",
              "   'become',\n",
              "   'the',\n",
              "   'utah',\n",
              "   'territory',\n",
              "   'like',\n",
              "   'many',\n",
              "   'americans',\n",
              "   'at',\n",
              "   'the',\n",
              "   'time',\n",
              "   'young',\n",
              "   'who',\n",
              "   'was',\n",
              "   'also',\n",
              "   'the',\n",
              "   'territorial',\n",
              "   'governor',\n",
              "   'promoted',\n",
              "   'discriminatory',\n",
              "   'views',\n",
              "   'about',\n",
              "   'black',\n",
              "   'people',\n",
              "   'on',\n",
              "   'january',\n",
              "   'young',\n",
              "   'made',\n",
              "   'a',\n",
              "   'pronouncement',\n",
              "   'to',\n",
              "   'the',\n",
              "   'utah',\n",
              "   'territorial',\n",
              "   'legislature',\n",
              "   'stating',\n",
              "   'that',\n",
              "   'any',\n",
              "   'man',\n",
              "   'having',\n",
              "   'one',\n",
              "   'drop',\n",
              "   'of',\n",
              "   'the',\n",
              "   'seed',\n",
              "   'of',\n",
              "   'cain',\n",
              "   'in',\n",
              "   'him',\n",
              "   'could',\n",
              "   'not',\n",
              "   'hold',\n",
              "   'the',\n",
              "   'priesthood',\n",
              "   'as',\n",
              "   'recorded',\n",
              "   'in',\n",
              "   'the',\n",
              "   'journal',\n",
              "   'of',\n",
              "   'discourses',\n",
              "   'young',\n",
              "   'taught',\n",
              "   'that',\n",
              "   'black',\n",
              "   'people',\n",
              "   's',\n",
              "   'position',\n",
              "   'as',\n",
              "   'servant',\n",
              "   'of',\n",
              "   'servants',\n",
              "   'was',\n",
              "   'a',\n",
              "   'law',\n",
              "   'under',\n",
              "   'heaven',\n",
              "   'and',\n",
              "   'it',\n",
              "   'was',\n",
              "   'not',\n",
              "   'the',\n",
              "   'church',\n",
              "   's',\n",
              "   'place',\n",
              "   'to',\n",
              "   'change',\n",
              "   'god',\n",
              "   's',\n",
              "   'law',\n",
              "   'under',\n",
              "   'the',\n",
              "   'racial',\n",
              "   'restrictions',\n",
              "   'that',\n",
              "   'lasted',\n",
              "   'from',\n",
              "   'brigham',\n",
              "   'young',\n",
              "   's',\n",
              "   'presidency',\n",
              "   'until',\n",
              "   'persons',\n",
              "   'with',\n",
              "   'any',\n",
              "   'black',\n",
              "   'african',\n",
              "   'ancestry',\n",
              "   'could',\n",
              "   'not',\n",
              "   'receive',\n",
              "   'church',\n",
              "   'priesthood',\n",
              "   'or',\n",
              "   'any',\n",
              "   'temple',\n",
              "   'ordinances',\n",
              "   'including',\n",
              "   'the',\n",
              "   'endowment',\n",
              "   'and',\n",
              "   'eternal',\n",
              "   'marriage',\n",
              "   'or',\n",
              "   'participate',\n",
              "   'in',\n",
              "   'any',\n",
              "   'proxy',\n",
              "   'ordinances',\n",
              "   'for',\n",
              "   'the',\n",
              "   'dead',\n",
              "   'an',\n",
              "   'important',\n",
              "   'exception',\n",
              "   'to',\n",
              "   'this',\n",
              "   'temple',\n",
              "   'ban',\n",
              "   'was',\n",
              "   'that',\n",
              "   'except',\n",
              "   'for',\n",
              "   'a',\n",
              "   'complete',\n",
              "   'temple',\n",
              "   'ban',\n",
              "   'period',\n",
              "   'from',\n",
              "   'the',\n",
              "   'mid',\n",
              "   's',\n",
              "   'until',\n",
              "   'the',\n",
              "   'early',\n",
              "   's',\n",
              "   'under',\n",
              "   'mckay',\n",
              "   'black',\n",
              "   'members',\n",
              "   'had',\n",
              "   'been',\n",
              "   'allowed',\n",
              "   'a',\n",
              "   'limited',\n",
              "   'use',\n",
              "   'recommend',\n",
              "   'to',\n",
              "   'act',\n",
              "   'as',\n",
              "   'proxies',\n",
              "   'in',\n",
              "   'baptisms',\n",
              "   'for',\n",
              "   'the',\n",
              "   'dead',\n",
              "   'the',\n",
              "   'priesthood',\n",
              "   'restriction',\n",
              "   'was',\n",
              "   ...]),\n",
              " ('431952',\n",
              "  ['norwegian',\n",
              "   'military',\n",
              "   'academythe',\n",
              "   'norwegian',\n",
              "   'military',\n",
              "   'academy',\n",
              "   'krigsskolen',\n",
              "   'in',\n",
              "   'oslo',\n",
              "   'educates',\n",
              "   'officers',\n",
              "   'of',\n",
              "   'the',\n",
              "   'norwegian',\n",
              "   'army',\n",
              "   'and',\n",
              "   'serves',\n",
              "   'as',\n",
              "   'the',\n",
              "   'king',\n",
              "   's',\n",
              "   'royal',\n",
              "   'guard',\n",
              "   'the',\n",
              "   'academy',\n",
              "   'was',\n",
              "   'established',\n",
              "   'in',\n",
              "   'and',\n",
              "   'is',\n",
              "   'the',\n",
              "   'oldest',\n",
              "   'institution',\n",
              "   'for',\n",
              "   'higher',\n",
              "   'education',\n",
              "   'in',\n",
              "   'norway',\n",
              "   'the',\n",
              "   'current',\n",
              "   'commandant',\n",
              "   'is',\n",
              "   'colonel',\n",
              "   'erlend',\n",
              "   'bekkestad',\n",
              "   'the',\n",
              "   'commander',\n",
              "   'in',\n",
              "   'chief',\n",
              "   'of',\n",
              "   'the',\n",
              "   'norwegian',\n",
              "   'armed',\n",
              "   'forces',\n",
              "   'hans',\n",
              "   'jacob',\n",
              "   'arnold',\n",
              "   'jensen',\n",
              "   'sent',\n",
              "   'a',\n",
              "   'request',\n",
              "   'to',\n",
              "   'the',\n",
              "   'king',\n",
              "   'of',\n",
              "   'denmark',\n",
              "   'norway',\n",
              "   'in',\n",
              "   'to',\n",
              "   'establish',\n",
              "   'a',\n",
              "   'school',\n",
              "   'of',\n",
              "   'mathematics',\n",
              "   'in',\n",
              "   'christiania',\n",
              "   'the',\n",
              "   'king',\n",
              "   'determined',\n",
              "   'through',\n",
              "   'the',\n",
              "   'royal',\n",
              "   'resolution',\n",
              "   'of',\n",
              "   'december',\n",
              "   'to',\n",
              "   'establish',\n",
              "   'den',\n",
              "   'frie',\n",
              "   'matematiske',\n",
              "   'skole',\n",
              "   'the',\n",
              "   'free',\n",
              "   'mathematical',\n",
              "   'school',\n",
              "   'it',\n",
              "   'was',\n",
              "   'the',\n",
              "   'first',\n",
              "   'institution',\n",
              "   'offering',\n",
              "   'higher',\n",
              "   'education',\n",
              "   'in',\n",
              "   'norway',\n",
              "   'but',\n",
              "   'it',\n",
              "   'did',\n",
              "   'not',\n",
              "   'give',\n",
              "   'any',\n",
              "   'extensive',\n",
              "   'military',\n",
              "   'education',\n",
              "   'the',\n",
              "   'students',\n",
              "   'were',\n",
              "   'recruited',\n",
              "   'from',\n",
              "   'the',\n",
              "   'officer',\n",
              "   'corps',\n",
              "   'or',\n",
              "   'from',\n",
              "   'nobles',\n",
              "   'in',\n",
              "   'military',\n",
              "   'service',\n",
              "   'after',\n",
              "   'a',\n",
              "   'reorganization',\n",
              "   'in',\n",
              "   'the',\n",
              "   'school',\n",
              "   'became',\n",
              "   'an',\n",
              "   'officer',\n",
              "   'school',\n",
              "   'and',\n",
              "   'an',\n",
              "   'independent',\n",
              "   'unit',\n",
              "   'with',\n",
              "   'its',\n",
              "   'own',\n",
              "   'command',\n",
              "   'from',\n",
              "   'a',\n",
              "   'college',\n",
              "   'degree',\n",
              "   'was',\n",
              "   'required',\n",
              "   'to',\n",
              "   'apply',\n",
              "   'the',\n",
              "   'school',\n",
              "   'was',\n",
              "   'first',\n",
              "   'established',\n",
              "   'at',\n",
              "   'tollbugata',\n",
              "   'it',\n",
              "   'was',\n",
              "   'moved',\n",
              "   'to',\n",
              "   'st',\n",
              "   'olavsplass',\n",
              "   'in',\n",
              "   'and',\n",
              "   'in',\n",
              "   'it',\n",
              "   'was',\n",
              "   'moved',\n",
              "   'back',\n",
              "   'to',\n",
              "   'tollbugata',\n",
              "   'in',\n",
              "   'it',\n",
              "   'was',\n",
              "   'moved',\n",
              "   'to',\n",
              "   'linderud',\n",
              "   'where',\n",
              "   'it',\n",
              "   'is',\n",
              "   'currently',\n",
              "   'located',\n",
              "   'between',\n",
              "   'and',\n",
              "   'krigsskolen',\n",
              "   'gimlemoen',\n",
              "   'in',\n",
              "   'kristiansand',\n",
              "   'was',\n",
              "   'also',\n",
              "   'in',\n",
              "   'operation',\n",
              "   'this',\n",
              "   'was',\n",
              "   'a',\n",
              "   'year',\n",
              "   'degree',\n",
              "   'in',\n",
              "   'addition',\n",
              "   'to',\n",
              "   'a',\n",
              "   'one',\n",
              "   'year',\n",
              "   'nco',\n",
              "   'sargent',\n",
              "   'schools',\n",
              "   'and',\n",
              "   'at',\n",
              "   'least',\n",
              "   'one',\n",
              "   'year',\n",
              "   'service',\n",
              "   'as',\n",
              "   'an',\n",
              "   'nco',\n",
              "   'as',\n",
              "   'a',\n",
              "   'requirement',\n",
              "   'for',\n",
              "   'admission',\n",
              "   'students',\n",
              "   'from',\n",
              "   'ksg',\n",
              "   'was',\n",
              "   'awarded',\n",
              "   'a',\n",
              "   'commission',\n",
              "   'as',\n",
              "   'officers',\n",
              "   'in',\n",
              "   'the',\n",
              "   'army',\n",
              "   'in',\n",
              "   'the',\n",
              "   'military',\n",
              "   'academy',\n",
              "   'was',\n",
              "   'obligated',\n",
              "   'to',\n",
              "   'follow',\n",
              "   'the',\n",
              "   'law',\n",
              "   'of',\n",
              "   'universities',\n",
              "   'and',\n",
              "   'granted',\n",
              "   'the',\n",
              "   'right',\n",
              "   'to',\n",
              "   'award',\n",
              "   'bachelor',\n",
              "   's',\n",
              "   'degrees',\n",
              "   'applicants',\n",
              "   'must',\n",
              "   'be',\n",
              "   'norwegian',\n",
              "   'citizens',\n",
              "   'aged',\n",
              "   'at',\n",
              "   'least',\n",
              "   'eighteen',\n",
              "   'have',\n",
              "   'good',\n",
              "   'health',\n",
              "   'and',\n",
              "   'no',\n",
              "   'criminal',\n",
              "   'record',\n",
              "   'and',\n",
              "   'must',\n",
              "   'have',\n",
              "   'completed',\n",
              "   'high',\n",
              "   'school',\n",
              "   'and',\n",
              "   'a',\n",
              "   'one',\n",
              "   'year',\n",
              "   'nco',\n",
              "   'course',\n",
              "   'after',\n",
              "   'being',\n",
              "   'accepted',\n",
              "   'as',\n",
              "   'candidates',\n",
              "   'all',\n",
              "   'applicants',\n",
              "   'must',\n",
              "   'then',\n",
              "   'complete',\n",
              "   'and',\n",
              "   'pass',\n",
              "   'a',\n",
              "   'two',\n",
              "   'week',\n",
              "   'field',\n",
              "   'exercise',\n",
              "   'with',\n",
              "   'physical',\n",
              "   'tests',\n",
              "   'which',\n",
              "   'include',\n",
              "   'a',\n",
              "   'three',\n",
              "   'kilometre',\n",
              "   'run',\n",
              "   'hang',\n",
              "   'ups',\n",
              "   'push',\n",
              "   'ups',\n",
              "   'sit',\n",
              "   'ups',\n",
              "   'and',\n",
              "   'a',\n",
              "   'metre',\n",
              "   'swimming',\n",
              "   'test',\n",
              "   'the',\n",
              "   'academy',\n",
              "   'is',\n",
              "   'a',\n",
              "   'part',\n",
              "   'of',\n",
              "   'the',\n",
              "   'norwegian',\n",
              "   'army',\n",
              "   'the',\n",
              "   'academy',\n",
              "   'consists',\n",
              "   'of',\n",
              "   'courses',\n",
              "   'course',\n",
              "   'is',\n",
              "   'located',\n",
              "   'at',\n",
              "   'terningmoen',\n",
              "   'with',\n",
              "   'a',\n",
              "   'yearlong',\n",
              "   'nco',\n",
              "   'course',\n",
              "   'and',\n",
              "   'prep',\n",
              "   'course',\n",
              "   'course',\n",
              "   'are',\n",
              "   'located',\n",
              "   'at',\n",
              "   'linderud',\n",
              "   'with',\n",
              "   'general',\n",
              "   'education',\n",
              "   'engineering',\n",
              "   'education',\n",
              "   'and',\n",
              "   'a',\n",
              "   'qualifying',\n",
              "   'course',\n",
              "   'the',\n",
              "   'logistical',\n",
              "   'course',\n",
              "   'is',\n",
              "   'located',\n",
              "   'in',\n",
              "   'bergen',\n",
              "   'the',\n",
              "   'academy',\n",
              "   'offers',\n",
              "   'a',\n",
              "   'general',\n",
              "   'education',\n",
              "   'as',\n",
              "   'well',\n",
              "   'as',\n",
              "   'a',\n",
              "   'specialized',\n",
              "   'engineering',\n",
              "   'and',\n",
              "   'logistical',\n",
              "   'education',\n",
              "   'in',\n",
              "   'addition',\n",
              "   'several',\n",
              "   'civilian',\n",
              "   'studies',\n",
              "   'are',\n",
              "   'available',\n",
              "   'the',\n",
              "   'general',\n",
              "   'course',\n",
              "   'last',\n",
              "   'for',\n",
              "   'years',\n",
              "   'and',\n",
              "   'is',\n",
              "   'divided',\n",
              "   'into',\n",
              "   'the',\n",
              "   'fields',\n",
              "   'of',\n",
              "   'military',\n",
              "   'power',\n",
              "   'leadership',\n",
              "   'language',\n",
              "   'and',\n",
              "   'inter',\n",
              "   'cultural',\n",
              "   'communication',\n",
              "   'strategy',\n",
              "   'and',\n",
              "   'physical',\n",
              "   'training',\n",
              "   'when',\n",
              "   'finished',\n",
              "   'the',\n",
              "   'cadets',\n",
              "   'will',\n",
              "   'serve',\n",
              "   'as',\n",
              "   'platoon',\n",
              "   'commanders',\n",
              "   'the',\n",
              "   'engineering',\n",
              "   'course',\n",
              "   'last',\n",
              "   'for',\n",
              "   'years',\n",
              "   'and',\n",
              "   'is',\n",
              "   'divided',\n",
              "   'into',\n",
              "   'the',\n",
              "   'fields',\n",
              "   'of',\n",
              "   'military',\n",
              "   'building',\n",
              "   'techniques',\n",
              "   'military',\n",
              "   'geography',\n",
              "   'mathematics',\n",
              "   'statistics',\n",
              "   'physics',\n",
              "   'chemistry',\n",
              "   'and',\n",
              "   'computer',\n",
              "   'science',\n",
              "   'when',\n",
              "   'finished',\n",
              "   'the',\n",
              "   'cadets',\n",
              "   'will',\n",
              "   'serve',\n",
              "   'as',\n",
              "   'platoon',\n",
              "   'commanders',\n",
              "   'the',\n",
              "   'logistics',\n",
              "   'course',\n",
              "   'last',\n",
              "   'for',\n",
              "   'years',\n",
              "   'and',\n",
              "   'is',\n",
              "   'divided',\n",
              "   'into',\n",
              "   'the',\n",
              "   'fields',\n",
              "   'of',\n",
              "   'methodology',\n",
              "   'logistics',\n",
              "   'law',\n",
              "   'and',\n",
              "   'economy',\n",
              "   'when',\n",
              "   'finished',\n",
              "   'the',\n",
              "   'cadets',\n",
              "   'will',\n",
              "   'serve',\n",
              "   'as',\n",
              "   'logistical',\n",
              "   'officers',\n",
              "   'the',\n",
              "   'nco',\n",
              "   'course',\n",
              "   'last',\n",
              "   'for',\n",
              "   'year',\n",
              "   'and',\n",
              "   'is',\n",
              "   'divided',\n",
              "   'into',\n",
              "   'the',\n",
              "   'fields',\n",
              "   'of',\n",
              "   'military',\n",
              "   'leadership',\n",
              "   'tactics',\n",
              "   'and',\n",
              "   'operations',\n",
              "   'physical',\n",
              "   'training',\n",
              "   'language',\n",
              "   'and',\n",
              "   'mathematics',\n",
              "   'after',\n",
              "   'completing',\n",
              "   'the',\n",
              "   'course',\n",
              "   'the',\n",
              "   'cadets',\n",
              "   'can',\n",
              "   'start',\n",
              "   'a',\n",
              "   'year',\n",
              "   'course',\n",
              "   'the',\n",
              "   'qualifying',\n",
              "   'course',\n",
              "   'last',\n",
              "   'for',\n",
              "   'months',\n",
              "   'and',\n",
              "   'includes',\n",
              "   'the',\n",
              "   'fields',\n",
              "   'of',\n",
              "   'military',\n",
              "   'power',\n",
              "   'and',\n",
              "   'operations',\n",
              "   'military',\n",
              "   'leadership',\n",
              "   'methodology',\n",
              "   'and',\n",
              "   'physical',\n",
              "   'training',\n",
              "   'during',\n",
              "   'the',\n",
              "   'courses',\n",
              "   'the',\n",
              "   'cadets',\n",
              "   'complete',\n",
              "   'several',\n",
              "   'field',\n",
              "   'exercises',\n",
              "   'to',\n",
              "   'train',\n",
              "   'leadership',\n",
              "   'tactics',\n",
              "   'and',\n",
              "   'decision',\n",
              "   'making',\n",
              "   'one',\n",
              "   'of',\n",
              "   'the',\n",
              "   'infamous',\n",
              "   'field',\n",
              "   'exercises',\n",
              "   'is',\n",
              "   'the',\n",
              "   'combat',\n",
              "   'course',\n",
              "   'conducted',\n",
              "   'to',\n",
              "   'test',\n",
              "   'the',\n",
              "   'limits',\n",
              "   'of',\n",
              "   'the',\n",
              "   'cadets',\n",
              "   'in',\n",
              "   'a',\n",
              "   'combat',\n",
              "   'environment',\n",
              "   'over',\n",
              "   'a',\n",
              "   'long',\n",
              "   'period',\n",
              "   'of',\n",
              "   'time',\n",
              "   'the',\n",
              "   'exercise',\n",
              "   'must',\n",
              "   'be',\n",
              "   'completed',\n",
              "   'and',\n",
              "   'certain',\n",
              "   'demands',\n",
              "   'must',\n",
              "   'be',\n",
              "   'met',\n",
              "   'before',\n",
              "   'the',\n",
              "   'cadets',\n",
              "   'qualify',\n",
              "   'the',\n",
              "   'year',\n",
              "   'courses',\n",
              "   'the',\n",
              "   'classes',\n",
              "   'have',\n",
              "   'a',\n",
              "   'tradition',\n",
              "   'of',\n",
              "   'taking',\n",
              "   'names',\n",
              "   'from',\n",
              "   'norwegian',\n",
              "   'officers',\n",
              "   'inspiring',\n",
              "   'the',\n",
              "   'cadets',\n",
              "   'to',\n",
              "   'follow',\n",
              "   'in',\n",
              "   'their',\n",
              "   'paths',\n",
              "   'the',\n",
              "   'norwegian',\n",
              "   'military',\n",
              "   'academy',\n",
              "   'performs',\n",
              "   'ceremonial',\n",
              "   'duties',\n",
              "   'for',\n",
              "   'the',\n",
              "   'king',\n",
              "   'of',\n",
              "   'norway',\n",
              "   'a',\n",
              "   'parade',\n",
              "   'is',\n",
              "   'conducted',\n",
              "   'every',\n",
              "   'december',\n",
              "   'to',\n",
              "   'celebrate',\n",
              "   'the',\n",
              "   'establishment',\n",
              "   'of',\n",
              "   'the',\n",
              "   'academy',\n",
              "   'in',\n",
              "   'addition',\n",
              "   'the',\n",
              "   'academy',\n",
              "   'conducts',\n",
              "   'a',\n",
              "   'parade',\n",
              "   'may',\n",
              "   'to',\n",
              "   'celebrate',\n",
              "   'the',\n",
              "   'liberation',\n",
              "   'day',\n",
              "   'or',\n",
              "   'veteran',\n",
              "   'day'])]"
            ]
          },
          "metadata": {},
          "execution_count": 33
        }
      ]
    },
    {
      "cell_type": "code",
      "metadata": {
        "id": "jS9vZSy0QNyI"
      },
      "source": [
        "allWords = keyAndListOfWords.flatMap(lambda x: [(y, 1) for y in x[1]])"
      ],
      "execution_count": 38,
      "outputs": []
    },
    {
      "cell_type": "code",
      "metadata": {
        "colab": {
          "base_uri": "https://localhost:8080/"
        },
        "id": "HlqkO7iqQwJn",
        "outputId": "1117ea78-3fc2-47e4-950a-69ffaf7a6782"
      },
      "source": [
        "allWords.take(3)"
      ],
      "execution_count": 39,
      "outputs": [
        {
          "output_type": "execute_result",
          "data": {
            "text/plain": [
              "[('black', 1), ('people', 1), ('and', 1)]"
            ]
          },
          "metadata": {},
          "execution_count": 39
        }
      ]
    },
    {
      "cell_type": "code",
      "metadata": {
        "id": "q59Xg9bWq6Yg"
      },
      "source": [
        "#allWords_2d = keyAndListOfWords.map(lambda x: x[1])\n",
        "#allWords_1d = allWords_2d.flatMap(lambda x:x)\n",
        "#allWords = allWords_1d.map(lambda x: (x, 1))"
      ],
      "execution_count": 16,
      "outputs": []
    },
    {
      "cell_type": "code",
      "metadata": {
        "colab": {
          "base_uri": "https://localhost:8080/"
        },
        "id": "PDAygTEIrF45",
        "outputId": "44802222-302a-496f-f299-d36ccae21384"
      },
      "source": [
        "allWords.count()"
      ],
      "execution_count": 40,
      "outputs": [
        {
          "output_type": "execute_result",
          "data": {
            "text/plain": [
              "971463"
            ]
          },
          "metadata": {},
          "execution_count": 40
        }
      ]
    },
    {
      "cell_type": "code",
      "metadata": {
        "id": "3dZf8-4UrH_l"
      },
      "source": [
        "allCounts = allWords.reduceByKey(lambda x, y: x+y)"
      ],
      "execution_count": 41,
      "outputs": []
    },
    {
      "cell_type": "code",
      "metadata": {
        "colab": {
          "base_uri": "https://localhost:8080/"
        },
        "id": "wryJp7njRUhc",
        "outputId": "8173cc9f-e2c3-47e5-8a96-9af5329def57"
      },
      "source": [
        "allCounts.take(3)"
      ],
      "execution_count": 42,
      "outputs": [
        {
          "output_type": "execute_result",
          "data": {
            "text/plain": [
              "[('at', 4810), ('two', 1848), ('priesthood', 78)]"
            ]
          },
          "metadata": {},
          "execution_count": 42
        }
      ]
    },
    {
      "cell_type": "code",
      "metadata": {
        "colab": {
          "base_uri": "https://localhost:8080/"
        },
        "id": "RUREmYCnrJ08",
        "outputId": "40d383da-a024-47be-a658-1d393afbbdbe"
      },
      "source": [
        "allCounts.count()"
      ],
      "execution_count": 43,
      "outputs": [
        {
          "output_type": "execute_result",
          "data": {
            "text/plain": [
              "49429"
            ]
          },
          "metadata": {},
          "execution_count": 43
        }
      ]
    },
    {
      "cell_type": "code",
      "metadata": {
        "id": "sEP2E_f6rNPV"
      },
      "source": [
        "topWords = allCounts.top(20000, lambda x: x[1])"
      ],
      "execution_count": 44,
      "outputs": []
    },
    {
      "cell_type": "code",
      "metadata": {
        "colab": {
          "base_uri": "https://localhost:8080/"
        },
        "id": "PIBnYSmarN4p",
        "outputId": "c2a2799b-dbd1-46d3-fc82-6271c8f7a929"
      },
      "source": [
        "print(\"Top Words in Corpus:\", allCounts.top(10, key=lambda x: x[1]))"
      ],
      "execution_count": 45,
      "outputs": [
        {
          "output_type": "stream",
          "name": "stdout",
          "text": [
            "Top Words in Corpus: [('the', 74530), ('of', 34512), ('and', 28479), ('in', 27758), ('to', 22583), ('a', 21212), ('was', 12160), ('as', 8811), ('for', 8773), ('on', 8435)]\n"
          ]
        }
      ]
    },
    {
      "cell_type": "code",
      "metadata": {
        "id": "fX64ehBorRIc"
      },
      "source": [
        "topWordsK = sc.parallelize(range(20000))\n",
        "dictionary = topWordsK.map (lambda x : (topWords[x][0], x))"
      ],
      "execution_count": 46,
      "outputs": []
    },
    {
      "cell_type": "code",
      "metadata": {
        "colab": {
          "base_uri": "https://localhost:8080/"
        },
        "id": "ul5qQaOuR9Bo",
        "outputId": "87278f8d-e31c-4f6c-ff3f-939a127b1a47"
      },
      "source": [
        "topWordsK.take(3)"
      ],
      "execution_count": 48,
      "outputs": [
        {
          "output_type": "execute_result",
          "data": {
            "text/plain": [
              "[0, 1, 2]"
            ]
          },
          "metadata": {},
          "execution_count": 48
        }
      ]
    },
    {
      "cell_type": "code",
      "metadata": {
        "colab": {
          "base_uri": "https://localhost:8080/"
        },
        "id": "kxVQtkfTSIAG",
        "outputId": "8b0394be-5106-4a6a-df43-f1cc495edfca"
      },
      "source": [
        "topWords[3]"
      ],
      "execution_count": 50,
      "outputs": [
        {
          "output_type": "execute_result",
          "data": {
            "text/plain": [
              "('in', 27758)"
            ]
          },
          "metadata": {},
          "execution_count": 50
        }
      ]
    },
    {
      "cell_type": "code",
      "metadata": {
        "colab": {
          "base_uri": "https://localhost:8080/"
        },
        "id": "zEAuznVNrbeF",
        "outputId": "1b22a9f8-1318-4377-c300-58b67a568a38"
      },
      "source": [
        "print(\"Word Postions in our Feature Matrix. Last 20 words in 20k positions: \", dictionary.top(20, lambda x : x[1]))"
      ],
      "execution_count": 47,
      "outputs": [
        {
          "output_type": "stream",
          "name": "stdout",
          "text": [
            "Word Postions in our Feature Matrix. Last 20 words in 20k positions:  [('quebecor', 19999), ('poten', 19998), ('kasada', 19997), ('yadnya', 19996), ('drift', 19995), ('iata', 19994), ('satire', 19993), ('expreso', 19992), ('olimpico', 19991), ('auxiliaries', 19990), ('tenses', 19989), ('petherick', 19988), ('stowe', 19987), ('infimum', 19986), ('parramatta', 19985), ('rimpac', 19984), ('hyderabad', 19983), ('cubes', 19982), ('meats', 19981), ('chaat', 19980)]\n"
          ]
        }
      ]
    },
    {
      "cell_type": "code",
      "metadata": {
        "id": "mxTXeOATrduS"
      },
      "source": [
        "allWordsWithDocID = keyAndListOfWords.flatMap(lambda x: ((j, x[0]) for j in x[1]))"
      ],
      "execution_count": 51,
      "outputs": []
    },
    {
      "cell_type": "code",
      "metadata": {
        "id": "ySYw7QZLrh9S"
      },
      "source": [
        "allDictionaryWords = dictionary.join(allWordsWithDocID)"
      ],
      "execution_count": 54,
      "outputs": []
    },
    {
      "cell_type": "code",
      "metadata": {
        "colab": {
          "base_uri": "https://localhost:8080/"
        },
        "id": "eweG-HPWwVwg",
        "outputId": "5777569c-a16f-4adc-cb3b-b43445dc8174"
      },
      "source": [
        "allWordsWithDocID.take(3)"
      ],
      "execution_count": 85,
      "outputs": [
        {
          "output_type": "execute_result",
          "data": {
            "text/plain": [
              "[('black', '431949'), ('people', '431949'), ('and', '431949')]"
            ]
          },
          "metadata": {},
          "execution_count": 85
        }
      ]
    },
    {
      "cell_type": "code",
      "metadata": {
        "colab": {
          "base_uri": "https://localhost:8080/"
        },
        "id": "6sNZ21IABkgY",
        "outputId": "2fc1bca2-ecf7-4965-e4af-302a5c39addd"
      },
      "source": [
        "allDictionaryWords.take(5)"
      ],
      "execution_count": 55,
      "outputs": [
        {
          "output_type": "execute_result",
          "data": {
            "text/plain": [
              "[('of', (1, '431949')),\n",
              " ('of', (1, '431949')),\n",
              " ('of', (1, '431949')),\n",
              " ('of', (1, '431949')),\n",
              " ('of', (1, '431949'))]"
            ]
          },
          "metadata": {},
          "execution_count": 55
        }
      ]
    },
    {
      "cell_type": "code",
      "metadata": {
        "id": "NFvMnamzrjo1"
      },
      "source": [
        "allDictionaryWords_dis = allDictionaryWords.distinct()"
      ],
      "execution_count": 101,
      "outputs": []
    },
    {
      "cell_type": "code",
      "metadata": {
        "colab": {
          "base_uri": "https://localhost:8080/"
        },
        "id": "24lQjYr4xdpt",
        "outputId": "366f149e-ef99-4b15-84c8-a1c819be6117"
      },
      "source": [
        "allDictionaryWords_dis.take(5)"
      ],
      "execution_count": 102,
      "outputs": [
        {
          "output_type": "execute_result",
          "data": {
            "text/plain": [
              "[('two', ('431952', 40)),\n",
              " ('two', ('431971', 40)),\n",
              " ('two', ('431989', 40)),\n",
              " ('two', ('432014', 40)),\n",
              " ('two', ('432015', 40))]"
            ]
          },
          "metadata": {},
          "execution_count": 102
        }
      ]
    },
    {
      "cell_type": "code",
      "metadata": {
        "id": "u5D38TM3rnYt"
      },
      "source": [
        "justDocAndPos = allDictionaryWords.map(lambda x: (x[1][1], x[1][0]))"
      ],
      "execution_count": 60,
      "outputs": []
    },
    {
      "cell_type": "code",
      "metadata": {
        "colab": {
          "base_uri": "https://localhost:8080/"
        },
        "id": "nKEABw4VA-uz",
        "outputId": "04199694-bd4e-4c11-f5cd-4522896d41d8"
      },
      "source": [
        "justDocAndPos.take(5)"
      ],
      "execution_count": 61,
      "outputs": [
        {
          "output_type": "execute_result",
          "data": {
            "text/plain": [
              "[('431949', 1), ('431949', 1), ('431949', 1), ('431949', 1), ('431949', 1)]"
            ]
          },
          "metadata": {},
          "execution_count": 61
        }
      ]
    },
    {
      "cell_type": "code",
      "metadata": {
        "id": "goGKtrSvrwiN"
      },
      "source": [
        "allDictionaryWordsInEachDoc = justDocAndPos.groupByKey()"
      ],
      "execution_count": 62,
      "outputs": []
    },
    {
      "cell_type": "code",
      "metadata": {
        "colab": {
          "base_uri": "https://localhost:8080/"
        },
        "id": "kEZJsMQ65OOa",
        "outputId": "e4c0a8b7-f414-4a5e-8b37-c82b382161e5"
      },
      "source": [
        "allDictionaryWordsInEachDoc.take(2)"
      ],
      "execution_count": 63,
      "outputs": [
        {
          "output_type": "execute_result",
          "data": {
            "text/plain": [
              "[('431952', <pyspark.resultiterable.ResultIterable at 0x7fa12c9aa510>),\n",
              " ('431971', <pyspark.resultiterable.ResultIterable at 0x7fa12c9aa850>)]"
            ]
          },
          "metadata": {},
          "execution_count": 63
        }
      ]
    },
    {
      "cell_type": "code",
      "metadata": {
        "id": "Kv_zpjvL_mnH"
      },
      "source": [
        "def buildArray(listOfIndices):\n",
        "  returnVal = np.zeros(20000)\n",
        "\n",
        "  for index in listOfIndices:\n",
        "    returnVal[index] = returnVal[index] + 1\n",
        "\n",
        "  mysum = np.sum(returnVal)\n",
        "\n",
        "  returnVal = np.divide(returnVal, mysum)\n",
        "  return returnVal"
      ],
      "execution_count": 64,
      "outputs": []
    },
    {
      "cell_type": "code",
      "metadata": {
        "colab": {
          "base_uri": "https://localhost:8080/"
        },
        "id": "sMMT-LGk2YuQ",
        "outputId": "b0dc4f04-0efa-4dd1-8266-dd5b4c64e3bb"
      },
      "source": [
        "buildArray(allDictionaryWordsInEachDoc.take(1)[0][1])"
      ],
      "execution_count": 65,
      "outputs": [
        {
          "output_type": "execute_result",
          "data": {
            "text/plain": [
              "array([0.08850932, 0.02950311, 0.04658385, ..., 0.        , 0.        ,\n",
              "       0.        ])"
            ]
          },
          "metadata": {},
          "execution_count": 65
        }
      ]
    },
    {
      "cell_type": "code",
      "metadata": {
        "colab": {
          "base_uri": "https://localhost:8080/"
        },
        "id": "4ZM0Jljr6OX5",
        "outputId": "00cd1420-149d-4fae-948b-f1cbd63d0e89"
      },
      "source": [
        "len(list(allDictionaryWordsInEachDoc.take(1)[0][1]))"
      ],
      "execution_count": 66,
      "outputs": [
        {
          "output_type": "execute_result",
          "data": {
            "text/plain": [
              "644"
            ]
          },
          "metadata": {},
          "execution_count": 66
        }
      ]
    },
    {
      "cell_type": "code",
      "metadata": {
        "id": "gNyiOL9Fr19z"
      },
      "source": [
        "# The following line this gets us a set of\n",
        "# (docID,  [dictionaryPos1, dictionaryPos2, dictionaryPos3...]) pairs\n",
        "# and converts the dictionary positions to a bag-of-words numpy array...\n",
        "allDocsAsNumpyArrays = allDictionaryWordsInEachDoc.map(lambda x: (x[0], buildArray(list(x[1]))))"
      ],
      "execution_count": 67,
      "outputs": []
    },
    {
      "cell_type": "code",
      "metadata": {
        "colab": {
          "base_uri": "https://localhost:8080/"
        },
        "id": "xLGU0ZrntWRj",
        "outputId": "4572c0b0-a97d-47e0-ee5e-32f0dd9ea60a"
      },
      "source": [
        "print(allDocsAsNumpyArrays.take(3))"
      ],
      "execution_count": 68,
      "outputs": [
        {
          "output_type": "stream",
          "name": "stdout",
          "text": [
            "[('431952', array([0.08850932, 0.02950311, 0.04658385, ..., 0.        , 0.        ,\n",
            "       0.        ])), ('431971', array([0.08553655, 0.02488336, 0.05132193, ..., 0.        , 0.        ,\n",
            "       0.        ])), ('431989', array([0.09074244, 0.03574702, 0.03849679, ..., 0.        , 0.        ,\n",
            "       0.        ]))]\n"
          ]
        }
      ]
    },
    {
      "cell_type": "code",
      "metadata": {
        "id": "V2cxbyqgWrte"
      },
      "source": [
        "zeroOne = allDocsAsNumpyArrays.map(lambda x: (x[0], np.array([0 if i == 0 else 1 for i in x[1]])))"
      ],
      "execution_count": 69,
      "outputs": []
    },
    {
      "cell_type": "code",
      "metadata": {
        "colab": {
          "base_uri": "https://localhost:8080/"
        },
        "id": "d8o65KsJgnbb",
        "outputId": "9ba976d3-b2c3-415b-d61a-843355f2768d"
      },
      "source": [
        "zeroOne.take(1)"
      ],
      "execution_count": 70,
      "outputs": [
        {
          "output_type": "execute_result",
          "data": {
            "text/plain": [
              "[('431952', array([1, 1, 1, ..., 0, 0, 0]))]"
            ]
          },
          "metadata": {},
          "execution_count": 70
        }
      ]
    },
    {
      "cell_type": "code",
      "metadata": {
        "id": "G_6vW1fjgsjt"
      },
      "source": [
        "dfArray = zeroOne.reduce(lambda x1, x2: (\"\", np.add(x1[1], x2[1])))[1]"
      ],
      "execution_count": 71,
      "outputs": []
    },
    {
      "cell_type": "code",
      "metadata": {
        "colab": {
          "base_uri": "https://localhost:8080/"
        },
        "id": "leZ28wLxi4qb",
        "outputId": "638bb969-e00c-4782-be4b-6c7a6bfe0680"
      },
      "source": [
        "dfArray.take(2)"
      ],
      "execution_count": 72,
      "outputs": [
        {
          "output_type": "execute_result",
          "data": {
            "text/plain": [
              "869"
            ]
          },
          "metadata": {},
          "execution_count": 72
        }
      ]
    },
    {
      "cell_type": "code",
      "metadata": {
        "colab": {
          "base_uri": "https://localhost:8080/"
        },
        "id": "kcLXVsZzuHzM",
        "outputId": "c31a4506-7be1-4de1-e872-5d63a8b8d387"
      },
      "source": [
        "dfArray[4]"
      ],
      "execution_count": 73,
      "outputs": [
        {
          "output_type": "execute_result",
          "data": {
            "text/plain": [
              "922"
            ]
          },
          "metadata": {},
          "execution_count": 73
        }
      ]
    },
    {
      "cell_type": "code",
      "metadata": {
        "id": "Z__PBAp7i_by"
      },
      "source": [
        "multiplier = np.full(20000, numberOfDocs)"
      ],
      "execution_count": 74,
      "outputs": []
    },
    {
      "cell_type": "code",
      "metadata": {
        "colab": {
          "base_uri": "https://localhost:8080/"
        },
        "id": "6zkV-ljLlHn8",
        "outputId": "cd75d55a-34d1-4128-c0e8-6c379f5c2678"
      },
      "source": [
        "multiplier[1000]"
      ],
      "execution_count": 75,
      "outputs": [
        {
          "output_type": "execute_result",
          "data": {
            "text/plain": [
              "1000"
            ]
          },
          "metadata": {},
          "execution_count": 75
        }
      ]
    },
    {
      "cell_type": "code",
      "metadata": {
        "id": "6JphS6fVlJxS"
      },
      "source": [
        "idfArray = np.log(np.divide(multiplier, dfArray))"
      ],
      "execution_count": 159,
      "outputs": []
    },
    {
      "cell_type": "code",
      "metadata": {
        "colab": {
          "base_uri": "https://localhost:8080/"
        },
        "id": "xebj1am2w5Xh",
        "outputId": "cd1c0a39-9183-490c-8ca0-a9f87325fb5a"
      },
      "source": [
        "allDocsAsNumpyArrays.take(2)"
      ],
      "execution_count": 160,
      "outputs": [
        {
          "output_type": "execute_result",
          "data": {
            "text/plain": [
              "[('431952',\n",
              "  array([0.08850932, 0.02950311, 0.04658385, ..., 0.        , 0.        ,\n",
              "         0.        ])),\n",
              " ('431971',\n",
              "  array([0.08553655, 0.02488336, 0.05132193, ..., 0.        , 0.        ,\n",
              "         0.        ]))]"
            ]
          },
          "metadata": {},
          "execution_count": 160
        }
      ]
    },
    {
      "cell_type": "code",
      "metadata": {
        "id": "WRXmp3RawL3u"
      },
      "source": [
        "allDocsAsNumpyArraysTFidf = allDocsAsNumpyArrays.map(lambda x: (x[0], np.multiply(x[1], idfArray)))"
      ],
      "execution_count": 161,
      "outputs": []
    },
    {
      "cell_type": "code",
      "metadata": {
        "colab": {
          "base_uri": "https://localhost:8080/"
        },
        "id": "4ztKqb61wR_2",
        "outputId": "a6939641-f7fc-48c2-f87b-3a8f80cce717"
      },
      "source": [
        "allDocsAsNumpyArraysTFidf.take(2)"
      ],
      "execution_count": 162,
      "outputs": [
        {
          "output_type": "execute_result",
          "data": {
            "text/plain": [
              "[('431952',\n",
              "  array([0.00747631, 0.00246002, 0.00654094, ..., 0.        , 0.        ,\n",
              "         0.        ])),\n",
              " ('431971',\n",
              "  array([0.0072252 , 0.00207481, 0.00720622, ..., 0.        , 0.        ,\n",
              "         0.        ]))]"
            ]
          },
          "metadata": {},
          "execution_count": 162
        }
      ]
    },
    {
      "cell_type": "code",
      "metadata": {
        "colab": {
          "base_uri": "https://localhost:8080/"
        },
        "id": "X4iJI09rwUJF",
        "outputId": "721023cd-0574-4ad1-9d59-c9998c38a3be"
      },
      "source": [
        "wikiCats.take(1)"
      ],
      "execution_count": 163,
      "outputs": [
        {
          "output_type": "execute_result",
          "data": {
            "text/plain": [
              "[('434042', '1987_debut_albums')]"
            ]
          },
          "metadata": {},
          "execution_count": 163
        }
      ]
    },
    {
      "cell_type": "code",
      "metadata": {
        "id": "Ur6HG2WCwi8N"
      },
      "source": [
        "featuresRDD = wikiCats.join(allDocsAsNumpyArraysTFidf).map(lambda x: (x[1][0], x[1][1]))"
      ],
      "execution_count": 164,
      "outputs": []
    },
    {
      "cell_type": "code",
      "metadata": {
        "colab": {
          "base_uri": "https://localhost:8080/"
        },
        "id": "JIdfwhWCxnsV",
        "outputId": "f8aa219c-e254-44d1-ddc6-6c990a4e135b"
      },
      "source": [
        "\n",
        "wikiCats.join(allDocsAsNumpyArraysTFidf).take(1)"
      ],
      "execution_count": 165,
      "outputs": [
        {
          "output_type": "execute_result",
          "data": {
            "text/plain": [
              "[('456050',\n",
              "  ('All_articles_with_unsourced_statements',\n",
              "   array([0.00619833, 0.00281363, 0.00376037, ..., 0.        , 0.        ,\n",
              "          0.        ])))]"
            ]
          },
          "metadata": {},
          "execution_count": 165
        }
      ]
    },
    {
      "cell_type": "code",
      "metadata": {
        "colab": {
          "base_uri": "https://localhost:8080/"
        },
        "id": "WMb_segvxqQj",
        "outputId": "cc5c774c-91da-42d2-b2f1-11f23090bcba"
      },
      "source": [
        "featuresRDD = wikiCats.join(allDocsAsNumpyArraysTFidf).map(lambda x: (x[1][0], x[1][1]))\n",
        "\n",
        "featuresRDD.cache()\n",
        "featuresRDD.take(10)"
      ],
      "execution_count": 166,
      "outputs": [
        {
          "output_type": "execute_result",
          "data": {
            "text/plain": [
              "[('All_articles_with_unsourced_statements',\n",
              "  array([0.00619833, 0.00281363, 0.00376037, ..., 0.        , 0.        ,\n",
              "         0.        ])),\n",
              " ('Articles_with_inconsistent_citation_formats',\n",
              "  array([0.00619833, 0.00281363, 0.00376037, ..., 0.        , 0.        ,\n",
              "         0.        ])),\n",
              " ('Articles_with_unsourced_statements_from_February_2013',\n",
              "  array([0.00619833, 0.00281363, 0.00376037, ..., 0.        , 0.        ,\n",
              "         0.        ])),\n",
              " ('CS1:_long_volume_value',\n",
              "  array([0.00619833, 0.00281363, 0.00376037, ..., 0.        , 0.        ,\n",
              "         0.        ])),\n",
              " ('CS1_maint:_archived_copy_as_title',\n",
              "  array([0.00619833, 0.00281363, 0.00376037, ..., 0.        , 0.        ,\n",
              "         0.        ])),\n",
              " ('Continued_fractions',\n",
              "  array([0.00619833, 0.00281363, 0.00376037, ..., 0.        , 0.        ,\n",
              "         0.        ])),\n",
              " ('Gamma_and_related_functions',\n",
              "  array([0.00619833, 0.00281363, 0.00376037, ..., 0.        , 0.        ,\n",
              "         0.        ])),\n",
              " ('CS1_Spanish-language_sources_(es)',\n",
              "  array([0.00637503, 0.00943943, 0.00794786, ..., 0.        , 0.        ,\n",
              "         0.        ])),\n",
              " ('CS1_maint:_archived_copy_as_title',\n",
              "  array([0.00637503, 0.00943943, 0.00794786, ..., 0.        , 0.        ,\n",
              "         0.        ])),\n",
              " ('Lists_of_states_of_Mexico',\n",
              "  array([0.00637503, 0.00943943, 0.00794786, ..., 0.        , 0.        ,\n",
              "         0.        ]))]"
            ]
          },
          "metadata": {},
          "execution_count": 166
        }
      ]
    },
    {
      "cell_type": "code",
      "metadata": {
        "id": "DH992fyz-mXZ"
      },
      "source": [
        "def zero_check(x):\n",
        "    if (x == 0): \n",
        "        return 0.0001\n",
        "    else:\n",
        "        return x"
      ],
      "execution_count": 93,
      "outputs": []
    },
    {
      "cell_type": "code",
      "metadata": {
        "id": "JgKgUgtYybX3"
      },
      "source": [
        "def getPrediction (textInput, k):\n",
        "    # Create an RDD out of the textIput\n",
        "    myDoc = sc.parallelize (('', textInput))\n",
        "\n",
        "    # Flat map the text to (word, 1) pair for each word in the doc\n",
        "    wordsInThatDoc = myDoc.flatMap (lambda x : ((j, 1) for j in regex.sub(' ', x).lower().split()))\n",
        "\n",
        "    # This will give us a set of (word, (dictionaryPos, 1)) pairs\n",
        "    allDictionaryWordsInThatDoc = dictionary.join (wordsInThatDoc).map (lambda x: (x[1][1], x[1][0])).groupByKey()\n",
        "\n",
        "    # Get tf array for the input string\n",
        "    myArray = buildArray (allDictionaryWordsInThatDoc.top (1)[0][1])\n",
        "\n",
        "    myArray1 = myArray[myArray != 0]\n",
        "\n",
        "    #idf = np.log(np.divide(np.full(20000, numberOfDocs), myArray))\n",
        "\n",
        "    multiple = np.array([(1/i) if i !=0 else i for i in myArray])\n",
        "    idfArr = np.log(multiple, where= multiple > 0)\n",
        "\n",
        "    # Get the tf * idf array for the input string\n",
        "    myArray = np.multiply (myArray, idf)\n",
        "\n",
        "    #myArray_total = list(myArray) + [0]*(20000-len(myArray))\n",
        "    \n",
        "    #allDocsAsNumpyArraysTFidf\n",
        "    # Get the distance from the input text string to all database documents, using cosine similarity (np.dot() )\n",
        "    distances = featuresRDD.map (lambda x : (x[0], np.dot (x[1], myArray)))\n",
        "    # distances = allDocsAsNumpyArraysTFidf.map (lambda x : (x[0], cousinSim (x[1],myArray)))\n",
        "    # get the top k distances\n",
        "    topK = distances.top (k, lambda x : x[1])\n",
        "    \n",
        "    # and transform the top k distances into a set of (docID, 1) pairs\n",
        "    docIDRepresented = sc.parallelize(topK).map (lambda x : (x[0], 1))\n",
        "\n",
        "    # now, for each docID, get the count of the number of times this document ID appeared in the top k\n",
        "    numTimes = docIDRepresented.reduceByKey(lambda x, y: x+y)\n",
        "    \n",
        "    # Return the top 1 of them.\n",
        "    # Ask yourself: Why we are using twice top() operation here?\n",
        "    return numTimes.top(k, lambda x: x[1])"
      ],
      "execution_count": 99,
      "outputs": []
    },
    {
      "cell_type": "code",
      "metadata": {
        "colab": {
          "base_uri": "https://localhost:8080/"
        },
        "id": "MXQk1lhE-RtM",
        "outputId": "865cd66f-0003-4d7d-b628-21afd1b4edc0"
      },
      "source": [
        "print(getPrediction('Sport Basketball Volleyball Soccer', 10))"
      ],
      "execution_count": 100,
      "outputs": [
        {
          "output_type": "stream",
          "name": "stderr",
          "text": [
            "/usr/local/lib/python3.7/dist-packages/ipykernel_launcher.py:16: RuntimeWarning: divide by zero encountered in true_divide\n",
            "  app.launch_new_instance()\n",
            "/usr/local/lib/python3.7/dist-packages/ipykernel_launcher.py:19: RuntimeWarning: invalid value encountered in multiply\n"
          ]
        },
        {
          "output_type": "stream",
          "name": "stdout",
          "text": [
            "[('CS1_maint:_archived_copy_as_title', 2), ('All_articles_with_unsourced_statements', 1), ('CS1:_long_volume_value', 1), ('Continued_fractions', 1), ('CS1_Spanish-language_sources_(es)', 1), ('Lists_of_states_of_Mexico', 1), ('Articles_with_inconsistent_citation_formats', 1), ('Articles_with_unsourced_statements_from_February_2013', 1), ('Gamma_and_related_functions', 1)]\n"
          ]
        }
      ]
    },
    {
      "cell_type": "code",
      "metadata": {
        "colab": {
          "base_uri": "https://localhost:8080/"
        },
        "id": "9UeSElL--R4Z",
        "outputId": "dd6ebcf1-c94a-464e-ad09-c56855b6b9e1"
      },
      "source": [
        "print(getPrediction('What is the capital city of Australia?', 10))"
      ],
      "execution_count": 93,
      "outputs": [
        {
          "output_type": "stream",
          "name": "stdout",
          "text": [
            "[('All_stub_articles', 1), ('Connecticut_Republicans', 1), ('Members_of_the_United_States_House_of_Representatives_from_Pennsylvania', 1), ('Pennsylvania_Republicans', 1), ('1833_births', 1), ('1919_deaths', 1), ('19th-century_American_politicians', 1), ('Griswold_family', 1), ('Members_of_the_Connecticut_House_of_Representatives', 1), ('Pennsylvania_United_States_Representative_stubs', 1)]\n"
          ]
        }
      ]
    },
    {
      "cell_type": "code",
      "metadata": {
        "colab": {
          "base_uri": "https://localhost:8080/"
        },
        "id": "_Ge7rGMm9fkJ",
        "outputId": "bb3674af-2e6b-4d98-f35d-8166fcc7e6be"
      },
      "source": [
        "[2, 2] + [0, 0]"
      ],
      "execution_count": 89,
      "outputs": [
        {
          "output_type": "execute_result",
          "data": {
            "text/plain": [
              "[2, 2, 0, 0]"
            ]
          },
          "metadata": {},
          "execution_count": 89
        }
      ]
    },
    {
      "cell_type": "code",
      "metadata": {
        "colab": {
          "base_uri": "https://localhost:8080/"
        },
        "id": "TkZxeNwhIVg0",
        "outputId": "1fe83e5f-5244-4f09-ed96-196189717e98"
      },
      "source": [
        "[0]*3"
      ],
      "execution_count": 90,
      "outputs": [
        {
          "output_type": "execute_result",
          "data": {
            "text/plain": [
              "[0, 0, 0]"
            ]
          },
          "metadata": {},
          "execution_count": 90
        }
      ]
    },
    {
      "cell_type": "code",
      "metadata": {
        "id": "i5TrpG5FIotI"
      },
      "source": [
        "textInput = \"'Sport Basketball Volleyball Soccer\"\n",
        "k = 10"
      ],
      "execution_count": 101,
      "outputs": []
    },
    {
      "cell_type": "code",
      "metadata": {
        "id": "lCoC8-7eyV12"
      },
      "source": [
        "myDoc = sc.parallelize (('', textInput))\n",
        "wordsInThatDoc = myDoc.flatMap (lambda x : ((j, 1) for j in regex.sub(' ', x).lower().split()))"
      ],
      "execution_count": 103,
      "outputs": []
    },
    {
      "cell_type": "code",
      "metadata": {
        "colab": {
          "base_uri": "https://localhost:8080/"
        },
        "id": "tjfbvJACyZKf",
        "outputId": "55c804fb-9dde-4b96-9964-7cf67e607b30"
      },
      "source": [
        "wordsInThatDoc.collect()"
      ],
      "execution_count": 105,
      "outputs": [
        {
          "output_type": "execute_result",
          "data": {
            "text/plain": [
              "[('sport', 1), ('basketball', 1), ('volleyball', 1), ('soccer', 1)]"
            ]
          },
          "metadata": {},
          "execution_count": 105
        }
      ]
    },
    {
      "cell_type": "code",
      "metadata": {
        "id": "4JbkbCcTye6W"
      },
      "source": [
        "allDictionaryWordsInThatDoc = dictionary.join (wordsInThatDoc).map (lambda x: (x[1][1], x[1][0])).groupByKey ()\n"
      ],
      "execution_count": 107,
      "outputs": []
    },
    {
      "cell_type": "code",
      "metadata": {
        "colab": {
          "base_uri": "https://localhost:8080/"
        },
        "id": "uRHAUXrY1JDL",
        "outputId": "7989b1fb-40be-4265-c3ac-1a036f21bb46"
      },
      "source": [
        "allDictionaryWordsInThatDoc.take(2)"
      ],
      "execution_count": 117,
      "outputs": [
        {
          "output_type": "execute_result",
          "data": {
            "text/plain": [
              "[(1, <pyspark.resultiterable.ResultIterable at 0x7fa12cd3c910>)]"
            ]
          },
          "metadata": {},
          "execution_count": 117
        }
      ]
    },
    {
      "cell_type": "code",
      "metadata": {
        "colab": {
          "base_uri": "https://localhost:8080/"
        },
        "id": "VvI1K6IwylCK",
        "outputId": "45a7aad7-2638-43aa-fd0e-b6b93d62fe5f"
      },
      "source": [
        "allDictionaryWordsInThatDoc.collect()"
      ],
      "execution_count": 109,
      "outputs": [
        {
          "output_type": "execute_result",
          "data": {
            "text/plain": [
              "[(1, <pyspark.resultiterable.ResultIterable at 0x7fa12c9a6f50>)]"
            ]
          },
          "metadata": {},
          "execution_count": 109
        }
      ]
    },
    {
      "cell_type": "code",
      "metadata": {
        "id": "R_4rJ56DyoYZ"
      },
      "source": [
        "myArray = buildArray (allDictionaryWordsInThatDoc.top (1)[0][1])"
      ],
      "execution_count": 129,
      "outputs": []
    },
    {
      "cell_type": "code",
      "metadata": {
        "colab": {
          "base_uri": "https://localhost:8080/"
        },
        "id": "nOWOHel6yuBs",
        "outputId": "97839958-5933-490f-f8e0-516123bd5b94"
      },
      "source": [
        "len(myArray)"
      ],
      "execution_count": 130,
      "outputs": [
        {
          "output_type": "execute_result",
          "data": {
            "text/plain": [
              "20000"
            ]
          },
          "metadata": {},
          "execution_count": 130
        }
      ]
    },
    {
      "cell_type": "code",
      "metadata": {
        "colab": {
          "base_uri": "https://localhost:8080/"
        },
        "id": "N8es08nD2IJ_",
        "outputId": "d6697aa6-8bd3-41b2-d191-35a9bd006b10"
      },
      "source": [
        "myArray"
      ],
      "execution_count": 131,
      "outputs": [
        {
          "output_type": "execute_result",
          "data": {
            "text/plain": [
              "array([0., 0., 0., ..., 0., 0., 0.])"
            ]
          },
          "metadata": {},
          "execution_count": 131
        }
      ]
    },
    {
      "cell_type": "code",
      "metadata": {
        "id": "P7SjlZh4yvGv"
      },
      "source": [
        "multiple = np.array([(1/i) if i !=0 else i for i in myArray])"
      ],
      "execution_count": 132,
      "outputs": []
    },
    {
      "cell_type": "code",
      "metadata": {
        "colab": {
          "base_uri": "https://localhost:8080/"
        },
        "id": "Nc4qT3HN1hs6",
        "outputId": "dcdd7e0e-e20e-4fc2-baf6-88c15ca06e3d"
      },
      "source": [
        "multiple"
      ],
      "execution_count": 133,
      "outputs": [
        {
          "output_type": "execute_result",
          "data": {
            "text/plain": [
              "array([0., 0., 0., ..., 0., 0., 0.])"
            ]
          },
          "metadata": {},
          "execution_count": 133
        }
      ]
    },
    {
      "cell_type": "code",
      "metadata": {
        "id": "l0jPeNBjzURd"
      },
      "source": [
        "idfArr = np.log(multiplier, myArray, where= myArray > 0)"
      ],
      "execution_count": 167,
      "outputs": []
    },
    {
      "cell_type": "code",
      "metadata": {
        "colab": {
          "base_uri": "https://localhost:8080/"
        },
        "id": "7VkKfpjx1X_2",
        "outputId": "98a33436-ebf6-4476-bf5e-bca5a4620165"
      },
      "source": [
        "idfArr"
      ],
      "execution_count": 172,
      "outputs": [
        {
          "output_type": "execute_result",
          "data": {
            "text/plain": [
              "array([0., 0., 0., ..., 0., 0., 0.])"
            ]
          },
          "metadata": {},
          "execution_count": 172
        }
      ]
    },
    {
      "cell_type": "code",
      "metadata": {
        "id": "pgwS4A9356Rq"
      },
      "source": [
        ""
      ],
      "execution_count": 174,
      "outputs": []
    },
    {
      "cell_type": "code",
      "metadata": {
        "id": "5A0lHqC405wL"
      },
      "source": [
        "myArray = np.multiply(myArray, idfArr)"
      ],
      "execution_count": 136,
      "outputs": []
    },
    {
      "cell_type": "code",
      "metadata": {
        "id": "daVi5TIX1U-u"
      },
      "source": [
        "distances = featuresRDD.map (lambda x : (x[0], np.dot (x[1], myArray)))"
      ],
      "execution_count": 142,
      "outputs": []
    },
    {
      "cell_type": "code",
      "metadata": {
        "colab": {
          "base_uri": "https://localhost:8080/"
        },
        "id": "kXl_Bcjk2iA-",
        "outputId": "51d0ffec-4c7d-4abb-b20d-1adfce4f0033"
      },
      "source": [
        "distances.take(2)"
      ],
      "execution_count": 143,
      "outputs": [
        {
          "output_type": "execute_result",
          "data": {
            "text/plain": [
              "[('All_articles_with_unsourced_statements', nan),\n",
              " ('Articles_with_inconsistent_citation_formats', nan)]"
            ]
          },
          "metadata": {},
          "execution_count": 143
        }
      ]
    },
    {
      "cell_type": "code",
      "metadata": {
        "id": "I1ZNRwE52b6j"
      },
      "source": [
        "topK = distances.top (k, lambda x : x[1])"
      ],
      "execution_count": 144,
      "outputs": []
    },
    {
      "cell_type": "code",
      "metadata": {
        "colab": {
          "base_uri": "https://localhost:8080/"
        },
        "id": "kmC2kGHY2fhr",
        "outputId": "a4b19a60-deff-421d-d03f-f5978507db3d"
      },
      "source": [
        "topK[3]"
      ],
      "execution_count": 146,
      "outputs": [
        {
          "output_type": "execute_result",
          "data": {
            "text/plain": [
              "('CS1:_long_volume_value', nan)"
            ]
          },
          "metadata": {},
          "execution_count": 146
        }
      ]
    },
    {
      "cell_type": "code",
      "metadata": {
        "id": "bd_mWHqE25PK"
      },
      "source": [
        "docIDRepresented = sc.parallelize(topK).map (lambda x : (x[0], 1))\n"
      ],
      "execution_count": 147,
      "outputs": []
    },
    {
      "cell_type": "code",
      "metadata": {
        "id": "hXOfcgGv3AN2"
      },
      "source": [
        "numTimes = docIDRepresented.reduceByKey(lambda x, y: x+y)"
      ],
      "execution_count": 148,
      "outputs": []
    },
    {
      "cell_type": "code",
      "metadata": {
        "colab": {
          "base_uri": "https://localhost:8080/"
        },
        "id": "wLbRJWCf3LFE",
        "outputId": "94216961-69b5-4623-c419-7793b6fed105"
      },
      "source": [
        "numTimes.top(k, lambda x: x[1])"
      ],
      "execution_count": 150,
      "outputs": [
        {
          "output_type": "execute_result",
          "data": {
            "text/plain": [
              "[('CS1_maint:_archived_copy_as_title', 2),\n",
              " ('All_articles_with_unsourced_statements', 1),\n",
              " ('CS1:_long_volume_value', 1),\n",
              " ('Continued_fractions', 1),\n",
              " ('CS1_Spanish-language_sources_(es)', 1),\n",
              " ('Lists_of_states_of_Mexico', 1),\n",
              " ('Articles_with_inconsistent_citation_formats', 1),\n",
              " ('Articles_with_unsourced_statements_from_February_2013', 1),\n",
              " ('Gamma_and_related_functions', 1)]"
            ]
          },
          "metadata": {},
          "execution_count": 150
        }
      ]
    },
    {
      "cell_type": "code",
      "metadata": {
        "id": "jcRtvHAg3NAJ"
      },
      "source": [
        ""
      ],
      "execution_count": null,
      "outputs": []
    }
  ]
}