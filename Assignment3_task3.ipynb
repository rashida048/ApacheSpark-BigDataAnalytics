{
  "nbformat": 4,
  "nbformat_minor": 0,
  "metadata": {
    "colab": {
      "name": "Assignment3_task3.ipynb",
      "provenance": [],
      "authorship_tag": "ABX9TyPG9HSQ4f7CGyxIFoDnR24N",
      "include_colab_link": true
    },
    "kernelspec": {
      "name": "python3",
      "display_name": "Python 3"
    },
    "language_info": {
      "name": "python"
    }
  },
  "cells": [
    {
      "cell_type": "markdown",
      "metadata": {
        "id": "view-in-github",
        "colab_type": "text"
      },
      "source": [
        "<a href=\"https://colab.research.google.com/github/rashida048/ApacheSpark-BigDataAnalytics/blob/main/Assignment3_task3.ipynb\" target=\"_parent\"><img src=\"https://colab.research.google.com/assets/colab-badge.svg\" alt=\"Open In Colab\"/></a>"
      ]
    },
    {
      "cell_type": "code",
      "metadata": {
        "colab": {
          "base_uri": "https://localhost:8080/"
        },
        "id": "h0qjcg5l7RT2",
        "outputId": "7adcaeae-c92a-481a-e31b-fc953dd2df0b"
      },
      "source": [
        "!pip install pyspark"
      ],
      "execution_count": null,
      "outputs": [
        {
          "output_type": "stream",
          "name": "stdout",
          "text": [
            "Requirement already satisfied: pyspark in /usr/local/lib/python3.7/dist-packages (3.1.2)\n",
            "Requirement already satisfied: py4j==0.10.9 in /usr/local/lib/python3.7/dist-packages (from pyspark) (0.10.9)\n"
          ]
        }
      ]
    },
    {
      "cell_type": "code",
      "metadata": {
        "id": "I31LNkOl7TVF"
      },
      "source": [
        "from pyspark import SparkContext\n",
        "sc = SparkContext.getOrCreate()"
      ],
      "execution_count": null,
      "outputs": []
    },
    {
      "cell_type": "code",
      "metadata": {
        "id": "7XbuMAE37gXC"
      },
      "source": [
        "rd = sc.textFile(\"taxi-data-sorted-small.csv.bz2\")"
      ],
      "execution_count": null,
      "outputs": []
    },
    {
      "cell_type": "code",
      "metadata": {
        "id": "US2fOtWT7nN_"
      },
      "source": [
        "words = rd.map(lambda x: x.split(','))"
      ],
      "execution_count": null,
      "outputs": []
    },
    {
      "cell_type": "code",
      "metadata": {
        "id": "xee1jm4N7nrf"
      },
      "source": [
        "def isfloat(value):\n",
        "    try:\n",
        "        float(value)\n",
        "        return True\n",
        "    except:\n",
        "        return False"
      ],
      "execution_count": null,
      "outputs": []
    },
    {
      "cell_type": "code",
      "metadata": {
        "id": "5YStNV3D7qfT"
      },
      "source": [
        "def correctRows(p):\n",
        "    if(len(p)==17):\n",
        "        if(isfloat(p[5]) and isfloat(p[11])):\n",
        "            if(float(p[5]) !=0 and float(p[11]) !=0):\n",
        "                return p"
      ],
      "execution_count": null,
      "outputs": []
    },
    {
      "cell_type": "code",
      "metadata": {
        "id": "rP9Kq57D7sHj"
      },
      "source": [
        "wordsCorr = words.filter(lambda x: correctRows(x))"
      ],
      "execution_count": null,
      "outputs": []
    },
    {
      "cell_type": "code",
      "metadata": {
        "id": "iwBEunlWsP7u"
      },
      "source": [
        ""
      ],
      "execution_count": null,
      "outputs": []
    },
    {
      "cell_type": "code",
      "metadata": {
        "colab": {
          "base_uri": "https://localhost:8080/"
        },
        "id": "xUnp3vGhr4qC",
        "outputId": "2e6f4dc9-926d-4e9c-9a89-a6e64c8486e3"
      },
      "source": [
        "wordsCorr.take(2)"
      ],
      "execution_count": null,
      "outputs": [
        {
          "output_type": "execute_result",
          "data": {
            "text/plain": [
              "[['07290D3599E7A0D62097A346EFCC1FB5',\n",
              "  'E7750A37CAB07D0DFF0AF7E3573AC141',\n",
              "  '2013-01-01 00:00:00',\n",
              "  '2013-01-01 00:02:00',\n",
              "  '120',\n",
              "  '0.44',\n",
              "  '-73.956528',\n",
              "  '40.716976',\n",
              "  '-73.962440',\n",
              "  '40.715008',\n",
              "  'CSH',\n",
              "  '3.50',\n",
              "  '0.50',\n",
              "  '0.50',\n",
              "  '0.00',\n",
              "  '0.00',\n",
              "  '4.50'],\n",
              " ['0EC22AAF491A8BD91F279350C2B010FD',\n",
              "  '778C92B26AE78A9EBDF96B49C67E4007',\n",
              "  '2013-01-01 00:01:00',\n",
              "  '2013-01-01 00:03:00',\n",
              "  '120',\n",
              "  '0.71',\n",
              "  '-73.973145',\n",
              "  '40.752827',\n",
              "  '-73.965897',\n",
              "  '40.760445',\n",
              "  'CSH',\n",
              "  '4.00',\n",
              "  '0.50',\n",
              "  '0.50',\n",
              "  '0.00',\n",
              "  '0.00',\n",
              "  '5.00']]"
            ]
          },
          "metadata": {},
          "execution_count": 148
        }
      ]
    },
    {
      "cell_type": "code",
      "metadata": {
        "id": "JVuxTb32sWfK"
      },
      "source": [
        "def zeroOrOne(x):\n",
        "  if (x >= 1 and x <= 6):\n",
        "    return 1.0\n",
        "  else:\n",
        "    return 0.0"
      ],
      "execution_count": null,
      "outputs": []
    },
    {
      "cell_type": "code",
      "metadata": {
        "id": "rHJzwzpgr4sJ"
      },
      "source": [
        "night_ride_add = wordsCorr.map(lambda x: x + [zeroOrOne(int(x[1][-7]))])"
      ],
      "execution_count": null,
      "outputs": []
    },
    {
      "cell_type": "code",
      "metadata": {
        "id": "HJoptWdQr4vt"
      },
      "source": [
        "five_feat = night_ride_add.map(lambda x: (x[1], float(x[4])/3600, float(x[5]), 1.0, float(x[15]), x[-1], float(x[11]) + float(x[14]) ))"
      ],
      "execution_count": null,
      "outputs": []
    },
    {
      "cell_type": "code",
      "metadata": {
        "colab": {
          "base_uri": "https://localhost:8080/"
        },
        "id": "zgrDNl4y8eHd",
        "outputId": "620ac6d7-7916-4677-a91f-d922e445d499"
      },
      "source": [
        "five_feat.take(3)"
      ],
      "execution_count": null,
      "outputs": [
        {
          "output_type": "execute_result",
          "data": {
            "text/plain": [
              "[('E7750A37CAB07D0DFF0AF7E3573AC141',\n",
              "  0.03333333333333333,\n",
              "  0.44,\n",
              "  1.0,\n",
              "  0.0,\n",
              "  0.0,\n",
              "  3.5),\n",
              " ('778C92B26AE78A9EBDF96B49C67E4007',\n",
              "  0.03333333333333333,\n",
              "  0.71,\n",
              "  1.0,\n",
              "  0.0,\n",
              "  1.0,\n",
              "  4.0),\n",
              " ('BE317B986700F63C43438482792C8654',\n",
              "  0.03333333333333333,\n",
              "  0.48,\n",
              "  1.0,\n",
              "  0.0,\n",
              "  0.0,\n",
              "  4.0)]"
            ]
          },
          "metadata": {},
          "execution_count": 152
        }
      ]
    },
    {
      "cell_type": "code",
      "metadata": {
        "id": "iSy7tnGnA1WR"
      },
      "source": [
        "five_feat_arr = five_feat.groupByKey()"
      ],
      "execution_count": null,
      "outputs": []
    },
    {
      "cell_type": "code",
      "metadata": {
        "id": "N4mWqPv7Gxb3"
      },
      "source": [
        "aggr = five_feat.groupByKey().mapValues(list)"
      ],
      "execution_count": null,
      "outputs": []
    },
    {
      "cell_type": "code",
      "metadata": {
        "id": "0Sswc48CUo7S"
      },
      "source": [
        ""
      ],
      "execution_count": null,
      "outputs": []
    }
  ]
}