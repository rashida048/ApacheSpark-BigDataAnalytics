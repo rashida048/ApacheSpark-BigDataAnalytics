{
  "nbformat": 4,
  "nbformat_minor": 0,
  "metadata": {
    "colab": {
      "name": "Assignment3_task3.ipynb",
      "provenance": [],
      "authorship_tag": "ABX9TyP71ej+NYhUsVrpA9Cpibav",
      "include_colab_link": true
    },
    "kernelspec": {
      "name": "python3",
      "display_name": "Python 3"
    },
    "language_info": {
      "name": "python"
    }
  },
  "cells": [
    {
      "cell_type": "markdown",
      "metadata": {
        "id": "view-in-github",
        "colab_type": "text"
      },
      "source": [
        "<a href=\"https://colab.research.google.com/github/rashida048/ApacheSpark-BigDataAnalytics/blob/main/Assignment3_task3.ipynb\" target=\"_parent\"><img src=\"https://colab.research.google.com/assets/colab-badge.svg\" alt=\"Open In Colab\"/></a>"
      ]
    },
    {
      "cell_type": "code",
      "metadata": {
        "colab": {
          "base_uri": "https://localhost:8080/"
        },
        "id": "IVXtEnNbzAi7",
        "outputId": "1d8e99b0-9eca-49c7-8106-75e1f0e62c01"
      },
      "source": [
        "!pip install pyspark"
      ],
      "execution_count": 1,
      "outputs": [
        {
          "output_type": "stream",
          "name": "stdout",
          "text": [
            "Collecting pyspark\n",
            "  Downloading pyspark-3.1.2.tar.gz (212.4 MB)\n",
            "\u001b[K     |████████████████████████████████| 212.4 MB 63 kB/s \n",
            "\u001b[?25hCollecting py4j==0.10.9\n",
            "  Downloading py4j-0.10.9-py2.py3-none-any.whl (198 kB)\n",
            "\u001b[K     |████████████████████████████████| 198 kB 33.3 MB/s \n",
            "\u001b[?25hBuilding wheels for collected packages: pyspark\n",
            "  Building wheel for pyspark (setup.py) ... \u001b[?25l\u001b[?25hdone\n",
            "  Created wheel for pyspark: filename=pyspark-3.1.2-py2.py3-none-any.whl size=212880768 sha256=6093c69b2a72efa3aa6201a01fa93b6772a61281e8b3760eb7f69210921874e1\n",
            "  Stored in directory: /root/.cache/pip/wheels/a5/0a/c1/9561f6fecb759579a7d863dcd846daaa95f598744e71b02c77\n",
            "Successfully built pyspark\n",
            "Installing collected packages: py4j, pyspark\n",
            "Successfully installed py4j-0.10.9 pyspark-3.1.2\n"
          ]
        }
      ]
    },
    {
      "cell_type": "code",
      "metadata": {
        "id": "JTlHmyFlzDjV"
      },
      "source": [
        "from pyspark import SparkContext\n",
        "sc = SparkContext.getOrCreate()"
      ],
      "execution_count": 2,
      "outputs": []
    },
    {
      "cell_type": "code",
      "metadata": {
        "id": "Yg__VCCozLYT"
      },
      "source": [
        "rd = sc.textFile(\"taxi-data-sorted-small.csv.bz2\")"
      ],
      "execution_count": 3,
      "outputs": []
    },
    {
      "cell_type": "code",
      "metadata": {
        "id": "IUdQaY84zVss"
      },
      "source": [
        "words = rd.map(lambda x: x.split(','))"
      ],
      "execution_count": 4,
      "outputs": []
    },
    {
      "cell_type": "code",
      "metadata": {
        "id": "xE3z6YSx0CY4"
      },
      "source": [
        "def isfloat(value):\n",
        "    try:\n",
        "        float(value)\n",
        "        return True\n",
        "    except:\n",
        "        return False"
      ],
      "execution_count": 5,
      "outputs": []
    },
    {
      "cell_type": "code",
      "metadata": {
        "id": "QEhlRaod0DsZ"
      },
      "source": [
        "def correctRows(p):\n",
        "    if(len(p)==17):\n",
        "        if(isfloat(p[5]) and isfloat(p[11])):\n",
        "            if(float(p[5]) !=0 and float(p[11]) !=0):\n",
        "                return p"
      ],
      "execution_count": 6,
      "outputs": []
    },
    {
      "cell_type": "code",
      "metadata": {
        "id": "ipySBANx0FC2"
      },
      "source": [
        "wordsCorr = words.filter(lambda x: correctRows(x))"
      ],
      "execution_count": 7,
      "outputs": []
    },
    {
      "cell_type": "code",
      "metadata": {
        "id": "eZQ9yMJK0GR_"
      },
      "source": [
        "def zeroOrOne(x):\n",
        "  if (x >= 1 and x <= 6):\n",
        "    return 1.0\n",
        "  else:\n",
        "    return 0.0"
      ],
      "execution_count": 8,
      "outputs": []
    },
    {
      "cell_type": "code",
      "metadata": {
        "id": "i9xihHBT0KRl"
      },
      "source": [
        "def date(x):\n",
        "  return x[:10]"
      ],
      "execution_count": 9,
      "outputs": []
    },
    {
      "cell_type": "code",
      "metadata": {
        "id": "BeflXeDk0bMm"
      },
      "source": [
        "night_ride_date = wordsCorr.map(lambda x: x + [date(x[2])] + [zeroOrOne(int(x[2][-7]))])"
      ],
      "execution_count": 10,
      "outputs": []
    },
    {
      "cell_type": "code",
      "metadata": {
        "colab": {
          "base_uri": "https://localhost:8080/"
        },
        "id": "HRlRpDpb00i4",
        "outputId": "2fb2232f-365a-404e-fd76-a70e2e9a8226"
      },
      "source": [
        "night_ride_date.take(2)"
      ],
      "execution_count": 11,
      "outputs": [
        {
          "output_type": "execute_result",
          "data": {
            "text/plain": [
              "[['07290D3599E7A0D62097A346EFCC1FB5',\n",
              "  'E7750A37CAB07D0DFF0AF7E3573AC141',\n",
              "  '2013-01-01 00:00:00',\n",
              "  '2013-01-01 00:02:00',\n",
              "  '120',\n",
              "  '0.44',\n",
              "  '-73.956528',\n",
              "  '40.716976',\n",
              "  '-73.962440',\n",
              "  '40.715008',\n",
              "  'CSH',\n",
              "  '3.50',\n",
              "  '0.50',\n",
              "  '0.50',\n",
              "  '0.00',\n",
              "  '0.00',\n",
              "  '4.50',\n",
              "  '2013-01-01',\n",
              "  0.0],\n",
              " ['0EC22AAF491A8BD91F279350C2B010FD',\n",
              "  '778C92B26AE78A9EBDF96B49C67E4007',\n",
              "  '2013-01-01 00:01:00',\n",
              "  '2013-01-01 00:03:00',\n",
              "  '120',\n",
              "  '0.71',\n",
              "  '-73.973145',\n",
              "  '40.752827',\n",
              "  '-73.965897',\n",
              "  '40.760445',\n",
              "  'CSH',\n",
              "  '4.00',\n",
              "  '0.50',\n",
              "  '0.50',\n",
              "  '0.00',\n",
              "  '0.00',\n",
              "  '5.00',\n",
              "  '2013-01-01',\n",
              "  0.0]]"
            ]
          },
          "metadata": {},
          "execution_count": 11
        }
      ]
    },
    {
      "cell_type": "code",
      "metadata": {
        "id": "TZfnqX8H02Bo"
      },
      "source": [
        "five_feat = night_ride_date.map(lambda x: (x[1], x[-2], float(x[4])/3600, float(x[5]), 1.0, float(x[15]), x[-1], float(x[11]) + float(x[14]) ))"
      ],
      "execution_count": 12,
      "outputs": []
    },
    {
      "cell_type": "code",
      "metadata": {
        "colab": {
          "base_uri": "https://localhost:8080/"
        },
        "id": "XepU_eF81IWM",
        "outputId": "7c49d0a6-87f2-4db9-f57e-bf96707fa022"
      },
      "source": [
        "five_feat.take(2)"
      ],
      "execution_count": 13,
      "outputs": [
        {
          "output_type": "execute_result",
          "data": {
            "text/plain": [
              "[('E7750A37CAB07D0DFF0AF7E3573AC141',\n",
              "  '2013-01-01',\n",
              "  0.03333333333333333,\n",
              "  0.44,\n",
              "  1.0,\n",
              "  0.0,\n",
              "  0.0,\n",
              "  3.5),\n",
              " ('778C92B26AE78A9EBDF96B49C67E4007',\n",
              "  '2013-01-01',\n",
              "  0.03333333333333333,\n",
              "  0.71,\n",
              "  1.0,\n",
              "  0.0,\n",
              "  0.0,\n",
              "  4.0)]"
            ]
          },
          "metadata": {},
          "execution_count": 13
        }
      ]
    },
    {
      "cell_type": "code",
      "metadata": {
        "colab": {
          "base_uri": "https://localhost:8080/"
        },
        "id": "vPK3DiNf1MxF",
        "outputId": "c6e23191-ff40-42d8-a04e-9d9d66dbdc13"
      },
      "source": [
        "type(five_feat)"
      ],
      "execution_count": 14,
      "outputs": [
        {
          "output_type": "execute_result",
          "data": {
            "text/plain": [
              "pyspark.rdd.PipelinedRDD"
            ]
          },
          "metadata": {},
          "execution_count": 14
        }
      ]
    },
    {
      "cell_type": "code",
      "metadata": {
        "id": "sEoDCjpP6P59"
      },
      "source": [
        "from pyspark.sql import SQLContext\n",
        "sqlContext = SQLContext(sc)"
      ],
      "execution_count": 15,
      "outputs": []
    },
    {
      "cell_type": "code",
      "metadata": {
        "id": "BVFzEQVf6P9i"
      },
      "source": [
        "df = five_feat.toDF(['driver_id', 'date', 'time', 'distance', 'no of ride', 'toll', 'No night ride', 'fare'])"
      ],
      "execution_count": 16,
      "outputs": []
    },
    {
      "cell_type": "code",
      "metadata": {
        "colab": {
          "base_uri": "https://localhost:8080/"
        },
        "id": "H6P51ZRN66TG",
        "outputId": "2a26ec73-3bd1-40d2-9bde-59fbd9c7ee4b"
      },
      "source": [
        "df.show()"
      ],
      "execution_count": null,
      "outputs": [
        {
          "output_type": "stream",
          "name": "stdout",
          "text": [
            "+--------------------+----------+--------------------+--------+----------+----+-------------+----+\n",
            "|           driver_id|      date|                time|distance|no of ride|toll|No night ride|fare|\n",
            "+--------------------+----------+--------------------+--------+----------+----+-------------+----+\n",
            "|E7750A37CAB07D0DF...|2013-01-01| 0.03333333333333333|    0.44|       1.0| 0.0|          0.0| 3.5|\n",
            "|778C92B26AE78A9EB...|2013-01-01| 0.03333333333333333|    0.71|       1.0| 0.0|          0.0| 4.0|\n",
            "|BE317B986700F63C4...|2013-01-01| 0.03333333333333333|    0.48|       1.0| 0.0|          0.0| 4.0|\n",
            "|7077F9FD5AD649AEA...|2013-01-01| 0.03333333333333333|    0.61|       1.0| 0.0|          0.0| 4.0|\n",
            "|CF8604E72D83840FB...|2013-01-01|0.016666666666666666|    0.39|       1.0| 0.0|          0.0| 3.7|\n",
            "|BB899DFEA9CC964B5...|2013-01-01| 0.06666666666666667|    1.71|       1.0| 0.0|          0.0| 6.5|\n",
            "|B7567F5BFD558C665...|2013-01-01| 0.06666666666666667|    1.21|       1.0| 0.0|          0.0| 7.3|\n",
            "|ED368552102F12EA2...|2013-01-01|                0.05|    0.74|       1.0| 0.0|          0.0| 4.5|\n",
            "|E255D5DFB9A967B9D...|2013-01-01|                0.05|    0.84|       1.0| 0.0|          0.0| 4.5|\n",
            "|1D7876BD692018A5B...|2013-01-01|                0.05|    0.95|       1.0| 0.0|          0.0| 5.0|\n",
            "|3EDDD1433E2276DF9...|2013-01-01| 0.03333333333333333|    0.52|       1.0| 0.0|          0.0| 4.0|\n",
            "|8FA961982C3FEF438...|2013-01-01| 0.08333333333333333|    0.13|       1.0| 0.0|          0.0| 6.5|\n",
            "|B6EAE07E2AD023B38...|2013-01-01|                0.05|    1.55|       1.0| 0.0|          0.0|7.62|\n",
            "|25BA06A87905667AA...|2013-01-01| 0.08333333333333333|    0.61|       1.0| 0.0|          0.0| 5.0|\n",
            "|577D1B6729EF9014C...|2013-01-01| 0.08333333333333333|    0.06|       1.0| 0.0|          0.0| 4.5|\n",
            "|A2AB59B1DBAB1A015...|2013-01-01| 0.06666666666666667|    0.59|       1.0| 0.0|          0.0| 6.1|\n",
            "|CA79A5EDAD78E6E50...|2013-01-01|0.016666666666666666|    0.52|       1.0| 0.0|          0.0| 3.5|\n",
            "|0758FB6257076E88C...|2013-01-01|                 0.1|    0.98|       1.0| 0.0|          0.0| 6.0|\n",
            "|1D8906DAF98896F75...|2013-01-01| 0.06666666666666667|    0.53|       1.0| 0.0|          0.0| 4.5|\n",
            "|CAD4B59BED1B935BA...|2013-01-01| 0.03333333333333333|    0.98|       1.0| 0.0|          0.0| 4.5|\n",
            "+--------------------+----------+--------------------+--------+----------+----+-------------+----+\n",
            "only showing top 20 rows\n",
            "\n"
          ]
        }
      ]
    },
    {
      "cell_type": "code",
      "metadata": {
        "id": "B4XkXwOV66Ve"
      },
      "source": [
        "data = df.groupby('driver_id', 'date').sum('time', 'distance', 'no of ride', 'toll', 'No night ride', 'fare')"
      ],
      "execution_count": 17,
      "outputs": []
    },
    {
      "cell_type": "code",
      "metadata": {
        "id": "b0WgtnA266bP"
      },
      "source": [
        "rdd1 = data.rdd.map(list)"
      ],
      "execution_count": 20,
      "outputs": []
    },
    {
      "cell_type": "code",
      "metadata": {
        "id": "-KmTFJuCEfuu",
        "outputId": "6a1a4da4-ab34-4818-d557-504bed356c94",
        "colab": {
          "base_uri": "https://localhost:8080/"
        }
      },
      "source": [
        "rdd1.take(2)"
      ],
      "execution_count": 21,
      "outputs": [
        {
          "output_type": "execute_result",
          "data": {
            "text/plain": [
              "[['36C9437BD2FF31940BEBED44DDDDDB8A',\n",
              "  '2013-01-01',\n",
              "  4.516666666666666,\n",
              "  79.96999999999998,\n",
              "  26.0,\n",
              "  0.0,\n",
              "  17.0,\n",
              "  326.28],\n",
              " ['60604EB4EBC0EEA81F5BF933621FAD16',\n",
              "  '2013-01-01',\n",
              "  6.383333333333334,\n",
              "  104.32000000000001,\n",
              "  26.0,\n",
              "  4.8,\n",
              "  14.0,\n",
              "  422.24]]"
            ]
          },
          "metadata": {},
          "execution_count": 21
        }
      ]
    },
    {
      "cell_type": "code",
      "metadata": {
        "id": "l-LpqqRDIjOJ"
      },
      "source": [
        ""
      ],
      "execution_count": null,
      "outputs": []
    }
  ]
}